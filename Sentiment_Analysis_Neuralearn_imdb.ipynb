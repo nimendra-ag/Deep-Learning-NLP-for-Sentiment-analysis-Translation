{
  "nbformat": 4,
  "nbformat_minor": 0,
  "metadata": {
    "colab": {
      "provenance": [],
      "authorship_tag": "ABX9TyN30rt8rJhV6dRc6Dd1TQ7M",
      "include_colab_link": true
    },
    "kernelspec": {
      "name": "python3",
      "display_name": "Python 3"
    },
    "language_info": {
      "name": "python"
    }
  },
  "cells": [
    {
      "cell_type": "markdown",
      "metadata": {
        "id": "view-in-github",
        "colab_type": "text"
      },
      "source": [
        "<a href=\"https://colab.research.google.com/github/nimendra-ag/Deep-Learning-NLP-for-Sentiment-analysis-Translation/blob/main/Sentiment_Analysis_Neuralearn_imdb.ipynb\" target=\"_parent\"><img src=\"https://colab.research.google.com/assets/colab-badge.svg\" alt=\"Open In Colab\"/></a>"
      ]
    },
    {
      "cell_type": "code",
      "source": [
        "!pip install gensim"
      ],
      "metadata": {
        "colab": {
          "base_uri": "https://localhost:8080/"
        },
        "id": "NaKp7uT0HO8N",
        "outputId": "4bcfb751-52bd-4042-99a9-7cbdb64d0720"
      },
      "execution_count": 5,
      "outputs": [
        {
          "output_type": "stream",
          "name": "stdout",
          "text": [
            "Requirement already satisfied: gensim in /usr/local/lib/python3.11/dist-packages (4.3.3)\n",
            "Requirement already satisfied: numpy<2.0,>=1.18.5 in /usr/local/lib/python3.11/dist-packages (from gensim) (1.26.4)\n",
            "Requirement already satisfied: scipy<1.14.0,>=1.7.0 in /usr/local/lib/python3.11/dist-packages (from gensim) (1.13.1)\n",
            "Requirement already satisfied: smart-open>=1.8.1 in /usr/local/lib/python3.11/dist-packages (from gensim) (7.1.0)\n",
            "Requirement already satisfied: wrapt in /usr/local/lib/python3.11/dist-packages (from smart-open>=1.8.1->gensim) (1.17.2)\n"
          ]
        }
      ]
    },
    {
      "cell_type": "code",
      "execution_count": 6,
      "metadata": {
        "id": "bMoDCfQrRSBC"
      },
      "outputs": [],
      "source": [
        "import tensorflow as tf### models\n",
        "import numpy as np### math computations\n",
        "import matplotlib.pyplot as plt### plotting bar chart\n",
        "import sklearn### machine learning library\n",
        "from sklearn.metrics import confusion_matrix, roc_curve### metrics\n",
        "import seaborn as sns### visualizations\n",
        "import datetime\n",
        "import pathlib\n",
        "import io\n",
        "import os\n",
        "import re\n",
        "import string\n",
        "import time\n",
        "from numpy import random\n",
        "import gensim.downloader as api\n",
        "from PIL import Image\n",
        "import tensorflow_datasets as tfds\n",
        "import tensorflow_probability as tfp\n",
        "from tensorflow.keras.models import Model\n",
        "from tensorflow.keras.layers import Layer\n",
        "from tensorflow.keras.layers import (Dense,Flatten,SimpleRNN,InputLayer,Conv1D,Bidirectional,GRU,LSTM,BatchNormalization,Dropout,Input, Embedding,TextVectorization)\n",
        "from tensorflow.keras.losses import BinaryCrossentropy,CategoricalCrossentropy, SparseCategoricalCrossentropy\n",
        "from tensorflow.keras.metrics import Accuracy,TopKCategoricalAccuracy, CategoricalAccuracy, SparseCategoricalAccuracy\n",
        "from tensorflow.keras.optimizers import Adam\n",
        "from google.colab import drive\n",
        "from google.colab import files\n",
        "from tensorboard.plugins import projector"
      ]
    },
    {
      "cell_type": "code",
      "source": [
        "BATCH_SIZE=64"
      ],
      "metadata": {
        "id": "JiMtQQ7ubIaD"
      },
      "execution_count": 7,
      "outputs": []
    },
    {
      "cell_type": "markdown",
      "source": [
        "# Data Prepratation"
      ],
      "metadata": {
        "id": "PcyuLwfoGfdE"
      }
    },
    {
      "cell_type": "code",
      "source": [
        "train_ds, val_ds, test_ds = tfds.load('imdb_reviews', split=['train', 'test[:50%]', 'test[50%:]'], as_supervised=True)"
      ],
      "metadata": {
        "id": "W2fNazOKRwOu"
      },
      "execution_count": 110,
      "outputs": []
    },
    {
      "cell_type": "code",
      "source": [
        "train_ds"
      ],
      "metadata": {
        "colab": {
          "base_uri": "https://localhost:8080/"
        },
        "id": "YNxxUsjcTLSd",
        "outputId": "23260f19-4702-4b24-abb2-f27b6f338a55"
      },
      "execution_count": 111,
      "outputs": [
        {
          "output_type": "execute_result",
          "data": {
            "text/plain": [
              "<_PrefetchDataset element_spec=(TensorSpec(shape=(), dtype=tf.string, name=None), TensorSpec(shape=(), dtype=tf.int64, name=None))>"
            ]
          },
          "metadata": {},
          "execution_count": 111
        }
      ]
    },
    {
      "cell_type": "code",
      "source": [
        "for review,label in train_ds.take(2):\n",
        "  print(review)\n",
        "  print(label)"
      ],
      "metadata": {
        "colab": {
          "base_uri": "https://localhost:8080/"
        },
        "id": "gqhdnoASToUE",
        "outputId": "d34aa350-d41c-438b-d837-16affdeeb09e"
      },
      "execution_count": 112,
      "outputs": [
        {
          "output_type": "stream",
          "name": "stdout",
          "text": [
            "tf.Tensor(b\"This was an absolutely terrible movie. Don't be lured in by Christopher Walken or Michael Ironside. Both are great actors, but this must simply be their worst role in history. Even their great acting could not redeem this movie's ridiculous storyline. This movie is an early nineties US propaganda piece. The most pathetic scenes were those when the Columbian rebels were making their cases for revolutions. Maria Conchita Alonso appeared phony, and her pseudo-love affair with Walken was nothing but a pathetic emotional plug in a movie that was devoid of any real meaning. I am disappointed that there are movies like this, ruining actor's like Christopher Walken's good name. I could barely sit through it.\", shape=(), dtype=string)\n",
            "tf.Tensor(0, shape=(), dtype=int64)\n",
            "tf.Tensor(b'I have been known to fall asleep during films, but this is usually due to a combination of things including, really tired, being warm and comfortable on the sette and having just eaten a lot. However on this occasion I fell asleep because the film was rubbish. The plot development was constant. Constantly slow and boring. Things seemed to happen, but with no explanation of what was causing them or why. I admit, I may have missed part of the film, but i watched the majority of it and everything just seemed to happen of its own accord without any real concern for anything else. I cant recommend this film at all.', shape=(), dtype=string)\n",
            "tf.Tensor(0, shape=(), dtype=int64)\n"
          ]
        }
      ]
    },
    {
      "cell_type": "code",
      "source": [
        "def standardization(input_data):\n",
        "    '''\n",
        "    Input: raw reviews\n",
        "    output: standardized reviews\n",
        "    '''\n",
        "    lowercase = tf.strings.lower(input_data)\n",
        "    no_tag=tf.strings.regex_replace(lowercase,\"<[^>]+>\",\"\")  #removing html tags\n",
        "    output=tf.strings.regex_replace(no_tag,\"[%s]\"%re.escape(string.punctuation),\"\")\n",
        "\n",
        "    return output"
      ],
      "metadata": {
        "id": "czVgHRVCTu-r"
      },
      "execution_count": 113,
      "outputs": []
    },
    {
      "cell_type": "code",
      "source": [
        "from nltk.stem.porter import PorterStemmer"
      ],
      "metadata": {
        "id": "A5dEKen8XObt"
      },
      "execution_count": 12,
      "outputs": []
    },
    {
      "cell_type": "code",
      "source": [
        "PorterStemmer().stem(\"discussion\")"
      ],
      "metadata": {
        "colab": {
          "base_uri": "https://localhost:8080/",
          "height": 36
        },
        "id": "EwLBKhFVXWID",
        "outputId": "6149a669-dfe0-4398-b7de-67a62bccd8f4"
      },
      "execution_count": 13,
      "outputs": [
        {
          "output_type": "execute_result",
          "data": {
            "text/plain": [
              "'discuss'"
            ],
            "application/vnd.google.colaboratory.intrinsic+json": {
              "type": "string"
            }
          },
          "metadata": {},
          "execution_count": 13
        }
      ]
    },
    {
      "cell_type": "code",
      "source": [
        "standardization(tf.constant(\"<u>In the movie?, </u>man called Tévèz, went to a friend’s pl**ce and they had a tensed discussion. I don’t love this movie! would you?<br> <br /><br />T\"))"
      ],
      "metadata": {
        "id": "j-K3tx8QXjqD",
        "colab": {
          "base_uri": "https://localhost:8080/"
        },
        "outputId": "3e0cb030-33fa-4018-d39e-b260c4a33013"
      },
      "execution_count": 14,
      "outputs": [
        {
          "output_type": "execute_result",
          "data": {
            "text/plain": [
              "<tf.Tensor: shape=(), dtype=string, numpy=b'in the movie man called t\\xc3\\xa9v\\xc3\\xa8z went to a friend\\xe2\\x80\\x99s plce and they had a tensed discussion i don\\xe2\\x80\\x99t love this movie would you t'>"
            ]
          },
          "metadata": {},
          "execution_count": 14
        }
      ]
    },
    {
      "cell_type": "code",
      "source": [
        "VOCAB_SIZE=10000\n",
        "SEQUENCE_LENGTH=250\n",
        "EMBEDDING_DIM=300"
      ],
      "metadata": {
        "id": "DLlTxMJTuaV-"
      },
      "execution_count": 114,
      "outputs": []
    },
    {
      "cell_type": "code",
      "source": [
        "vectorize_layer=TextVectorization(\n",
        "    standardize=standardization,\n",
        "    max_tokens=VOCAB_SIZE,\n",
        "    output_mode='int',\n",
        "    output_sequence_length=SEQUENCE_LENGTH\n",
        ")"
      ],
      "metadata": {
        "id": "i0aNQyg8wXyt"
      },
      "execution_count": 115,
      "outputs": []
    },
    {
      "cell_type": "code",
      "source": [
        "# lengths=[]\n",
        "# words=[]\n",
        "\n",
        "# for review,label in train_ds.take(10):\n",
        "#   for word in tf.strings.split(review, sep=\" \"):\n",
        "#     if word in words:\n",
        "#       pass\n",
        "#     else:\n",
        "#       words.append(word)\n",
        "#   lengths.append(len(tf.strings.split(review, sep=\" \")))"
      ],
      "metadata": {
        "id": "ZMZDyu7wwZ8d"
      },
      "execution_count": 17,
      "outputs": []
    },
    {
      "cell_type": "code",
      "source": [
        "# print(len(words))\n",
        "# print(lengths)"
      ],
      "metadata": {
        "id": "v56ECUdcw3Bc"
      },
      "execution_count": 18,
      "outputs": []
    },
    {
      "cell_type": "code",
      "source": [
        "training_data=train_ds.map(lambda x,y:x)### input x and y and outputx\n",
        "vectorize_layer.adapt(training_data)#### adapt the vectorize_layer to the training data"
      ],
      "metadata": {
        "id": "hV36wZWbxuaY"
      },
      "execution_count": 116,
      "outputs": []
    },
    {
      "cell_type": "code",
      "source": [
        "vectorize_layer.get_vocabulary()"
      ],
      "metadata": {
        "colab": {
          "base_uri": "https://localhost:8080/"
        },
        "collapsed": true,
        "id": "fXoc1cuTxuRT",
        "outputId": "03d816dd-20e2-49c7-ac3d-75a54b643ed6"
      },
      "execution_count": 20,
      "outputs": [
        {
          "output_type": "execute_result",
          "data": {
            "text/plain": [
              "['',\n",
              " '[UNK]',\n",
              " 'the',\n",
              " 'and',\n",
              " 'a',\n",
              " 'of',\n",
              " 'to',\n",
              " 'is',\n",
              " 'in',\n",
              " 'it',\n",
              " 'this',\n",
              " 'i',\n",
              " 'that',\n",
              " 'was',\n",
              " 'as',\n",
              " 'with',\n",
              " 'for',\n",
              " 'movie',\n",
              " 'but',\n",
              " 'film',\n",
              " 'on',\n",
              " 'not',\n",
              " 'are',\n",
              " 'you',\n",
              " 'his',\n",
              " 'have',\n",
              " 'be',\n",
              " 'he',\n",
              " 'one',\n",
              " 'its',\n",
              " 'at',\n",
              " 'all',\n",
              " 'by',\n",
              " 'an',\n",
              " 'they',\n",
              " 'who',\n",
              " 'from',\n",
              " 'like',\n",
              " 'so',\n",
              " 'her',\n",
              " 'or',\n",
              " 'just',\n",
              " 'about',\n",
              " 'has',\n",
              " 'out',\n",
              " 'if',\n",
              " 'some',\n",
              " 'what',\n",
              " 'there',\n",
              " 'good',\n",
              " 'more',\n",
              " 'very',\n",
              " 'when',\n",
              " 'she',\n",
              " 'even',\n",
              " 'up',\n",
              " 'no',\n",
              " 'would',\n",
              " 'my',\n",
              " 'which',\n",
              " 'only',\n",
              " 'time',\n",
              " 'really',\n",
              " 'story',\n",
              " 'their',\n",
              " 'were',\n",
              " 'had',\n",
              " 'see',\n",
              " 'can',\n",
              " 'me',\n",
              " 'than',\n",
              " 'we',\n",
              " 'much',\n",
              " 'been',\n",
              " 'get',\n",
              " 'well',\n",
              " 'will',\n",
              " 'into',\n",
              " 'because',\n",
              " 'people',\n",
              " 'other',\n",
              " 'also',\n",
              " 'do',\n",
              " 'bad',\n",
              " 'great',\n",
              " 'how',\n",
              " 'first',\n",
              " 'most',\n",
              " 'him',\n",
              " 'dont',\n",
              " 'made',\n",
              " 'movies',\n",
              " 'then',\n",
              " 'films',\n",
              " 'make',\n",
              " 'could',\n",
              " 'way',\n",
              " 'them',\n",
              " 'any',\n",
              " 'too',\n",
              " 'after',\n",
              " 'characters',\n",
              " 'think',\n",
              " 'watch',\n",
              " 'two',\n",
              " 'many',\n",
              " 'being',\n",
              " 'seen',\n",
              " 'character',\n",
              " 'never',\n",
              " 'little',\n",
              " 'acting',\n",
              " 'plot',\n",
              " 'where',\n",
              " 'best',\n",
              " 'love',\n",
              " 'did',\n",
              " 'know',\n",
              " 'life',\n",
              " 'show',\n",
              " 'does',\n",
              " 'ever',\n",
              " 'your',\n",
              " 'better',\n",
              " 'over',\n",
              " 'still',\n",
              " 'off',\n",
              " 'end',\n",
              " 'these',\n",
              " 'say',\n",
              " 'man',\n",
              " 'here',\n",
              " 'scene',\n",
              " 'why',\n",
              " 'such',\n",
              " 'scenes',\n",
              " 'while',\n",
              " 'go',\n",
              " 'should',\n",
              " 'something',\n",
              " 'through',\n",
              " 'back',\n",
              " 'those',\n",
              " 'im',\n",
              " 'doesnt',\n",
              " 'real',\n",
              " 'watching',\n",
              " 'years',\n",
              " 'thing',\n",
              " 'actors',\n",
              " 'though',\n",
              " 'didnt',\n",
              " 'new',\n",
              " 'actually',\n",
              " 'makes',\n",
              " 'before',\n",
              " 'nothing',\n",
              " 'now',\n",
              " 'find',\n",
              " 'another',\n",
              " 'work',\n",
              " 'funny',\n",
              " 'few',\n",
              " 'look',\n",
              " 'old',\n",
              " 'going',\n",
              " 'same',\n",
              " 'lot',\n",
              " 'every',\n",
              " 'us',\n",
              " 'part',\n",
              " 'again',\n",
              " 'cant',\n",
              " 'director',\n",
              " 'quite',\n",
              " 'cast',\n",
              " 'want',\n",
              " 'thats',\n",
              " 'pretty',\n",
              " 'things',\n",
              " 'seems',\n",
              " 'young',\n",
              " 'got',\n",
              " 'around',\n",
              " 'fact',\n",
              " 'down',\n",
              " 'world',\n",
              " 'take',\n",
              " 'enough',\n",
              " 'between',\n",
              " 'give',\n",
              " 'may',\n",
              " 'both',\n",
              " 'big',\n",
              " 'horror',\n",
              " 'thought',\n",
              " 'original',\n",
              " 'own',\n",
              " 'however',\n",
              " 'ive',\n",
              " 'without',\n",
              " 'gets',\n",
              " 'always',\n",
              " 'series',\n",
              " 'right',\n",
              " 'isnt',\n",
              " 'long',\n",
              " 'saw',\n",
              " 'come',\n",
              " 'almost',\n",
              " 'times',\n",
              " 'least',\n",
              " 'role',\n",
              " 'point',\n",
              " 'action',\n",
              " 'must',\n",
              " 'whole',\n",
              " 'interesting',\n",
              " 'bit',\n",
              " 'comedy',\n",
              " 'family',\n",
              " 'theres',\n",
              " 'done',\n",
              " 'music',\n",
              " 'script',\n",
              " 'anything',\n",
              " 'might',\n",
              " 'last',\n",
              " 'hes',\n",
              " 'guy',\n",
              " 'feel',\n",
              " 'minutes',\n",
              " 'far',\n",
              " 'since',\n",
              " 'probably',\n",
              " 'performance',\n",
              " 'am',\n",
              " 'kind',\n",
              " 'rather',\n",
              " 'worst',\n",
              " 'away',\n",
              " 'yet',\n",
              " 'sure',\n",
              " 'tv',\n",
              " 'woman',\n",
              " 'making',\n",
              " 'girl',\n",
              " 'each',\n",
              " 'found',\n",
              " 'fun',\n",
              " 'played',\n",
              " 'anyone',\n",
              " 'our',\n",
              " 'comes',\n",
              " 'believe',\n",
              " 'having',\n",
              " 'trying',\n",
              " 'course',\n",
              " 'especially',\n",
              " 'goes',\n",
              " 'day',\n",
              " 'looks',\n",
              " 'shows',\n",
              " 'hard',\n",
              " 'although',\n",
              " 'different',\n",
              " 'put',\n",
              " 'wasnt',\n",
              " 'place',\n",
              " 'book',\n",
              " 'money',\n",
              " 'reason',\n",
              " 'sense',\n",
              " 'main',\n",
              " 'set',\n",
              " 'ending',\n",
              " 'looking',\n",
              " 'worth',\n",
              " 'true',\n",
              " 'once',\n",
              " 'watched',\n",
              " 'everything',\n",
              " 'plays',\n",
              " 'maybe',\n",
              " 'someone',\n",
              " 'job',\n",
              " 'actor',\n",
              " 'seem',\n",
              " 'said',\n",
              " 'takes',\n",
              " 'screen',\n",
              " 'dvd',\n",
              " 'three',\n",
              " 'play',\n",
              " 'together',\n",
              " 'beautiful',\n",
              " 'effects',\n",
              " 'during',\n",
              " 'instead',\n",
              " 'himself',\n",
              " 'later',\n",
              " '10',\n",
              " 'version',\n",
              " 'john',\n",
              " '2',\n",
              " 'left',\n",
              " 'everyone',\n",
              " 'seeing',\n",
              " 'audience',\n",
              " 'special',\n",
              " 'night',\n",
              " 'house',\n",
              " 'american',\n",
              " 'excellent',\n",
              " 'idea',\n",
              " 'wife',\n",
              " 'nice',\n",
              " 'simply',\n",
              " 'shot',\n",
              " 'youre',\n",
              " 'read',\n",
              " 'high',\n",
              " 'less',\n",
              " 'completely',\n",
              " 'black',\n",
              " 'help',\n",
              " 'else',\n",
              " 'kids',\n",
              " 'fan',\n",
              " 'war',\n",
              " 'used',\n",
              " 'star',\n",
              " 'poor',\n",
              " 'second',\n",
              " 'year',\n",
              " 'given',\n",
              " 'father',\n",
              " 'try',\n",
              " 'death',\n",
              " 'friends',\n",
              " 'need',\n",
              " 'use',\n",
              " 'rest',\n",
              " 'home',\n",
              " 'men',\n",
              " 'enjoy',\n",
              " 'performances',\n",
              " 'mind',\n",
              " 'short',\n",
              " 'classic',\n",
              " 'until',\n",
              " 'either',\n",
              " 'truly',\n",
              " 'hollywood',\n",
              " 'boring',\n",
              " 'along',\n",
              " 'half',\n",
              " 'wrong',\n",
              " 'dead',\n",
              " 'tell',\n",
              " 'production',\n",
              " 'line',\n",
              " 'women',\n",
              " 'couple',\n",
              " 'remember',\n",
              " 'came',\n",
              " 'start',\n",
              " 'recommend',\n",
              " 'next',\n",
              " 'understand',\n",
              " 'wonderful',\n",
              " 'full',\n",
              " 'getting',\n",
              " 'mean',\n",
              " 'others',\n",
              " 'stupid',\n",
              " 'let',\n",
              " 'moments',\n",
              " 'playing',\n",
              " 'keep',\n",
              " 'perhaps',\n",
              " 'awful',\n",
              " 'episode',\n",
              " 'camera',\n",
              " 'terrible',\n",
              " 'small',\n",
              " 'gives',\n",
              " 'stars',\n",
              " 'doing',\n",
              " 'sex',\n",
              " 'often',\n",
              " 'video',\n",
              " 'definitely',\n",
              " 'early',\n",
              " 'perfect',\n",
              " 'become',\n",
              " 'name',\n",
              " 'felt',\n",
              " 'school',\n",
              " 'face',\n",
              " 'human',\n",
              " 'supposed',\n",
              " 'couldnt',\n",
              " 'liked',\n",
              " 'lines',\n",
              " 'dialogue',\n",
              " 'piece',\n",
              " 'person',\n",
              " 'itself',\n",
              " 'lost',\n",
              " 'top',\n",
              " 'absolutely',\n",
              " 'case',\n",
              " 'against',\n",
              " 'went',\n",
              " 'entire',\n",
              " 'live',\n",
              " 'certainly',\n",
              " 'waste',\n",
              " 'sort',\n",
              " 'shes',\n",
              " 'head',\n",
              " 'budget',\n",
              " 'written',\n",
              " 'style',\n",
              " 'finally',\n",
              " 'hope',\n",
              " 'problem',\n",
              " 'picture',\n",
              " 'several',\n",
              " 'loved',\n",
              " 'evil',\n",
              " 'yes',\n",
              " 'title',\n",
              " 'worse',\n",
              " 'becomes',\n",
              " 'entertaining',\n",
              " 'cinema',\n",
              " 'mr',\n",
              " 'seemed',\n",
              " 'white',\n",
              " 'beginning',\n",
              " 'fans',\n",
              " 'boy',\n",
              " 'already',\n",
              " 'care',\n",
              " 'wanted',\n",
              " '\\x96',\n",
              " 'example',\n",
              " 'dark',\n",
              " 'based',\n",
              " 'lives',\n",
              " 'id',\n",
              " 'guys',\n",
              " 'killer',\n",
              " 'mother',\n",
              " 'friend',\n",
              " 'direction',\n",
              " 'throughout',\n",
              " 'totally',\n",
              " 'wont',\n",
              " 'turn',\n",
              " 'fine',\n",
              " 'wants',\n",
              " 'children',\n",
              " 'final',\n",
              " 'amazing',\n",
              " 'laugh',\n",
              " 'drama',\n",
              " 'girls',\n",
              " 'guess',\n",
              " 'lead',\n",
              " '3',\n",
              " 'tries',\n",
              " 'called',\n",
              " 'humor',\n",
              " 'sound',\n",
              " 'youll',\n",
              " 'writing',\n",
              " 'low',\n",
              " 'under',\n",
              " 'despite',\n",
              " 'works',\n",
              " 'turns',\n",
              " 'history',\n",
              " 'able',\n",
              " 'enjoyed',\n",
              " 'oh',\n",
              " 'behind',\n",
              " 'theyre',\n",
              " 'unfortunately',\n",
              " 'michael',\n",
              " 'past',\n",
              " 'quality',\n",
              " 'days',\n",
              " 'gave',\n",
              " 'starts',\n",
              " 'favorite',\n",
              " 'son',\n",
              " 'kill',\n",
              " 'game',\n",
              " 'act',\n",
              " '1',\n",
              " 'sometimes',\n",
              " 'town',\n",
              " 'viewer',\n",
              " 'side',\n",
              " 'parts',\n",
              " 'horrible',\n",
              " 'car',\n",
              " 'actress',\n",
              " 'child',\n",
              " 'ones',\n",
              " 'eyes',\n",
              " 'expect',\n",
              " 'soon',\n",
              " 'flick',\n",
              " 'themselves',\n",
              " 'heart',\n",
              " 'art',\n",
              " 'thinking',\n",
              " 'obviously',\n",
              " 'brilliant',\n",
              " 'stories',\n",
              " 'decent',\n",
              " 'feeling',\n",
              " 'myself',\n",
              " 'genre',\n",
              " 'run',\n",
              " 'late',\n",
              " 'directed',\n",
              " 'overall',\n",
              " 'stuff',\n",
              " 'blood',\n",
              " 'fight',\n",
              " 'says',\n",
              " 'close',\n",
              " 'city',\n",
              " 'took',\n",
              " 'heard',\n",
              " 'cannot',\n",
              " 'highly',\n",
              " 'hand',\n",
              " 'leave',\n",
              " 'except',\n",
              " 'killed',\n",
              " 'kid',\n",
              " 'matter',\n",
              " 'ill',\n",
              " 'moment',\n",
              " 'police',\n",
              " 'hell',\n",
              " 'wouldnt',\n",
              " 'extremely',\n",
              " 'roles',\n",
              " 'strong',\n",
              " 'happens',\n",
              " 'particularly',\n",
              " 'hour',\n",
              " 'lack',\n",
              " 'happened',\n",
              " 'involved',\n",
              " 'attempt',\n",
              " 'obvious',\n",
              " 'told',\n",
              " 'chance',\n",
              " 'living',\n",
              " 'wonder',\n",
              " 'james',\n",
              " 'violence',\n",
              " 'including',\n",
              " 'etc',\n",
              " 'complete',\n",
              " 'voice',\n",
              " 'murder',\n",
              " 'coming',\n",
              " 'daughter',\n",
              " 'group',\n",
              " 'looked',\n",
              " 'age',\n",
              " 'save',\n",
              " 'experience',\n",
              " 'type',\n",
              " 'simple',\n",
              " 'alone',\n",
              " 'number',\n",
              " 'exactly',\n",
              " 'slow',\n",
              " 'shown',\n",
              " 'happen',\n",
              " 'ago',\n",
              " 'god',\n",
              " 'interest',\n",
              " 'score',\n",
              " 'whose',\n",
              " 'brother',\n",
              " 'taken',\n",
              " 'none',\n",
              " 'serious',\n",
              " 'usually',\n",
              " 'across',\n",
              " 'stop',\n",
              " 'hours',\n",
              " 'cinematography',\n",
              " 'annoying',\n",
              " 'running',\n",
              " 'somewhat',\n",
              " 'song',\n",
              " 'known',\n",
              " 'opening',\n",
              " 'ends',\n",
              " 'musical',\n",
              " 'usual',\n",
              " 'sad',\n",
              " 'finds',\n",
              " 'career',\n",
              " 'yourself',\n",
              " 'hit',\n",
              " 'wish',\n",
              " 'started',\n",
              " 'released',\n",
              " 'huge',\n",
              " 'relationship',\n",
              " 'scary',\n",
              " 'gore',\n",
              " 'possible',\n",
              " 'please',\n",
              " 'lets',\n",
              " 'order',\n",
              " 'jokes',\n",
              " 'change',\n",
              " 'david',\n",
              " 'crap',\n",
              " 'saying',\n",
              " 'shots',\n",
              " 'reality',\n",
              " 'english',\n",
              " 'ridiculous',\n",
              " 'hilarious',\n",
              " 'novel',\n",
              " 'episodes',\n",
              " 'mostly',\n",
              " 'cool',\n",
              " 'cut',\n",
              " 'body',\n",
              " 'today',\n",
              " 'ok',\n",
              " 'female',\n",
              " 'major',\n",
              " 'opinion',\n",
              " 'talking',\n",
              " 'seriously',\n",
              " 'taking',\n",
              " 'call',\n",
              " 'robert',\n",
              " 'strange',\n",
              " 'directors',\n",
              " 'due',\n",
              " 'important',\n",
              " 'supporting',\n",
              " 'hero',\n",
              " 'knows',\n",
              " 'knew',\n",
              " 'view',\n",
              " 'documentary',\n",
              " 'power',\n",
              " 'events',\n",
              " 'turned',\n",
              " 'happy',\n",
              " 'apparently',\n",
              " 'husband',\n",
              " 'clearly',\n",
              " 'talent',\n",
              " 'songs',\n",
              " 'arent',\n",
              " 'level',\n",
              " 'room',\n",
              " 'british',\n",
              " 'single',\n",
              " 'king',\n",
              " 'tells',\n",
              " 'local',\n",
              " 'easily',\n",
              " 'attention',\n",
              " 'basically',\n",
              " 'word',\n",
              " 'anyway',\n",
              " '5',\n",
              " 'bring',\n",
              " 'words',\n",
              " 'problems',\n",
              " 'cheap',\n",
              " 'silly',\n",
              " 'sequence',\n",
              " 'television',\n",
              " 'modern',\n",
              " 'disappointed',\n",
              " 'light',\n",
              " 'falls',\n",
              " 'sets',\n",
              " 'future',\n",
              " 'four',\n",
              " 'similar',\n",
              " 'beyond',\n",
              " 'country',\n",
              " 'whether',\n",
              " 'miss',\n",
              " 'five',\n",
              " 'needs',\n",
              " 'appears',\n",
              " 'romantic',\n",
              " '4',\n",
              " 'giving',\n",
              " 'jack',\n",
              " 'viewers',\n",
              " 'predictable',\n",
              " 'earth',\n",
              " 'comic',\n",
              " 'upon',\n",
              " 'entertainment',\n",
              " 'talk',\n",
              " 'rating',\n",
              " 'within',\n",
              " 'paul',\n",
              " 'havent',\n",
              " 'review',\n",
              " 'feels',\n",
              " 'whats',\n",
              " 'message',\n",
              " 'mention',\n",
              " 'george',\n",
              " 'nearly',\n",
              " 'enjoyable',\n",
              " 'bunch',\n",
              " 'theater',\n",
              " 'lady',\n",
              " 'animation',\n",
              " 'storyline',\n",
              " 'rock',\n",
              " 'richard',\n",
              " 'actual',\n",
              " 'points',\n",
              " 'surprised',\n",
              " 'middle',\n",
              " 'moving',\n",
              " 'named',\n",
              " 'above',\n",
              " 'using',\n",
              " 'theme',\n",
              " 'lots',\n",
              " 'herself',\n",
              " 'dull',\n",
              " 'mystery',\n",
              " 'add',\n",
              " 'begins',\n",
              " 'ways',\n",
              " 'sequel',\n",
              " 'among',\n",
              " 'fantastic',\n",
              " 'typical',\n",
              " 'ten',\n",
              " 'showing',\n",
              " 'elements',\n",
              " 'york',\n",
              " 'easy',\n",
              " 'comments',\n",
              " 'thriller',\n",
              " 'team',\n",
              " 'stay',\n",
              " 'writer',\n",
              " 'tried',\n",
              " 'fall',\n",
              " 'effort',\n",
              " 'clear',\n",
              " 'certain',\n",
              " 'near',\n",
              " 'hate',\n",
              " 'release',\n",
              " 'french',\n",
              " 'famous',\n",
              " 'tale',\n",
              " 'parents',\n",
              " 'means',\n",
              " 'leads',\n",
              " 'kept',\n",
              " 'straight',\n",
              " 'working',\n",
              " 'greatest',\n",
              " 'buy',\n",
              " 'dialog',\n",
              " 'soundtrack',\n",
              " 'somehow',\n",
              " 'form',\n",
              " 'class',\n",
              " 'doubt',\n",
              " 'general',\n",
              " 'red',\n",
              " 'editing',\n",
              " 'weak',\n",
              " 'sister',\n",
              " 'brought',\n",
              " 'figure',\n",
              " 'peter',\n",
              " 'feature',\n",
              " 'oscar',\n",
              " 'season',\n",
              " 'material',\n",
              " 'hear',\n",
              " 'gone',\n",
              " 'filmed',\n",
              " 'whos',\n",
              " 'particular',\n",
              " 'viewing',\n",
              " 'sorry',\n",
              " 'learn',\n",
              " 'realistic',\n",
              " 'move',\n",
              " 'tom',\n",
              " 'check',\n",
              " 'atmosphere',\n",
              " 'youve',\n",
              " 'reviews',\n",
              " 'decided',\n",
              " 'sequences',\n",
              " 'fast',\n",
              " 'period',\n",
              " 'imagine',\n",
              " 'possibly',\n",
              " 'eventually',\n",
              " 'deal',\n",
              " 'lame',\n",
              " 'became',\n",
              " 'premise',\n",
              " 'follow',\n",
              " 'dance',\n",
              " 'space',\n",
              " 'de',\n",
              " 'stand',\n",
              " 'avoid',\n",
              " 'eye',\n",
              " 'difficult',\n",
              " 'sit',\n",
              " 'wait',\n",
              " 'lee',\n",
              " 'poorly',\n",
              " 'forget',\n",
              " 'expected',\n",
              " 'zombie',\n",
              " 'die',\n",
              " 'sexual',\n",
              " 'japanese',\n",
              " 'indeed',\n",
              " 'writers',\n",
              " 'surprise',\n",
              " 'crime',\n",
              " 'third',\n",
              " 'nature',\n",
              " 'nor',\n",
              " 'leaves',\n",
              " 'average',\n",
              " '80s',\n",
              " 'subject',\n",
              " 'suspense',\n",
              " 'stage',\n",
              " 'killing',\n",
              " 'believable',\n",
              " 'whatever',\n",
              " 'truth',\n",
              " 'needed',\n",
              " 'filmmakers',\n",
              " 'screenplay',\n",
              " 'rent',\n",
              " 'meets',\n",
              " 'reading',\n",
              " 'meet',\n",
              " 'boys',\n",
              " 'begin',\n",
              " 'question',\n",
              " 'romance',\n",
              " 'street',\n",
              " 'realize',\n",
              " 'emotional',\n",
              " 'forced',\n",
              " 'memorable',\n",
              " 'joe',\n",
              " 'write',\n",
              " 'superb',\n",
              " 'minute',\n",
              " 'dr',\n",
              " 'older',\n",
              " 'keeps',\n",
              " 'earlier',\n",
              " 'situation',\n",
              " 'interested',\n",
              " 'baby',\n",
              " 'whom',\n",
              " 'weird',\n",
              " 'footage',\n",
              " 'credits',\n",
              " 'features',\n",
              " 'dramatic',\n",
              " 'beauty',\n",
              " 'disney',\n",
              " 'shame',\n",
              " 'otherwise',\n",
              " 'towards',\n",
              " 'dog',\n",
              " 'previous',\n",
              " 'badly',\n",
              " 'ask',\n",
              " 'note',\n",
              " 'brings',\n",
              " 'hot',\n",
              " 'crazy',\n",
              " 'comment',\n",
              " 'okay',\n",
              " 'personal',\n",
              " 'male',\n",
              " 'worked',\n",
              " 'total',\n",
              " 'plenty',\n",
              " 'incredibly',\n",
              " 'sounds',\n",
              " 'perfectly',\n",
              " 'directing',\n",
              " 'admit',\n",
              " 'unless',\n",
              " 'society',\n",
              " 'result',\n",
              " 'cheesy',\n",
              " 'unique',\n",
              " 'quickly',\n",
              " 'laughs',\n",
              " 'deep',\n",
              " 'america',\n",
              " 'free',\n",
              " 'creepy',\n",
              " 'development',\n",
              " 'leading',\n",
              " 'appear',\n",
              " 'return',\n",
              " 'meant',\n",
              " 'hardly',\n",
              " 'brothers',\n",
              " 'plus',\n",
              " 'hands',\n",
              " 'open',\n",
              " '20',\n",
              " 'various',\n",
              " 'effect',\n",
              " 'casting',\n",
              " 'remake',\n",
              " 'imdb',\n",
              " 'create',\n",
              " 'b',\n",
              " 'mark',\n",
              " 'setting',\n",
              " 'christmas',\n",
              " 'mess',\n",
              " 'battle',\n",
              " 'scifi',\n",
              " 'potential',\n",
              " 'background',\n",
              " 'monster',\n",
              " 'forward',\n",
              " 'powerful',\n",
              " 'portrayed',\n",
              " 'dream',\n",
              " 'inside',\n",
              " '70s',\n",
              " 'business',\n",
              " 'outside',\n",
              " 'fairly',\n",
              " 'manages',\n",
              " 'ideas',\n",
              " 'missing',\n",
              " 'fails',\n",
              " 'expecting',\n",
              " 'bill',\n",
              " 'present',\n",
              " 'political',\n",
              " 'attempts',\n",
              " 'apart',\n",
              " 'deserves',\n",
              " 'twist',\n",
              " 'la',\n",
              " 'secret',\n",
              " 'dumb',\n",
              " 'jane',\n",
              " 'fire',\n",
              " 'fantasy',\n",
              " 'joke',\n",
              " 'fighting',\n",
              " 'pay',\n",
              " 'air',\n",
              " 'gay',\n",
              " 'front',\n",
              " 'masterpiece',\n",
              " 'married',\n",
              " 'rich',\n",
              " ...]"
            ]
          },
          "metadata": {},
          "execution_count": 20
        }
      ]
    },
    {
      "cell_type": "code",
      "source": [
        "for review, label in train_ds.take(1):\n",
        "  print(review)\n",
        "  print(label)"
      ],
      "metadata": {
        "colab": {
          "base_uri": "https://localhost:8080/"
        },
        "id": "eRi4VuVqxuJt",
        "outputId": "45d4cf5a-4e00-4606-e862-de53d919575f"
      },
      "execution_count": 21,
      "outputs": [
        {
          "output_type": "stream",
          "name": "stdout",
          "text": [
            "tf.Tensor(b\"This was an absolutely terrible movie. Don't be lured in by Christopher Walken or Michael Ironside. Both are great actors, but this must simply be their worst role in history. Even their great acting could not redeem this movie's ridiculous storyline. This movie is an early nineties US propaganda piece. The most pathetic scenes were those when the Columbian rebels were making their cases for revolutions. Maria Conchita Alonso appeared phony, and her pseudo-love affair with Walken was nothing but a pathetic emotional plug in a movie that was devoid of any real meaning. I am disappointed that there are movies like this, ruining actor's like Christopher Walken's good name. I could barely sit through it.\", shape=(), dtype=string)\n",
            "tf.Tensor(0, shape=(), dtype=int64)\n"
          ]
        }
      ]
    },
    {
      "cell_type": "code",
      "source": [
        "def vectorizer(review, label):\n",
        "  return vectorize_layer(review), label"
      ],
      "metadata": {
        "id": "e-dW_DiayWTt"
      },
      "execution_count": 22,
      "outputs": []
    },
    {
      "cell_type": "code",
      "source": [
        "train_dataset=train_ds.map(vectorizer)\n",
        "val_dataset=val_ds.map(vectorizer)"
      ],
      "metadata": {
        "id": "MWV5kkIfygU9"
      },
      "execution_count": 23,
      "outputs": []
    },
    {
      "cell_type": "code",
      "source": [
        "for review, label in train_dataset.take(1):\n",
        "  print(review)\n",
        "  print(label)"
      ],
      "metadata": {
        "colab": {
          "base_uri": "https://localhost:8080/"
        },
        "collapsed": true,
        "id": "MsjlHp5zy7G-",
        "outputId": "7e541bd9-84df-4b8b-c0fc-7e2ca52cc264"
      },
      "execution_count": 24,
      "outputs": [
        {
          "output_type": "stream",
          "name": "stdout",
          "text": [
            "tf.Tensor(\n",
            "[  10   13   33  411  384   17   89   26    1    8   32 1337 3521   40\n",
            "  491    1  192   22   84  149   18   10  215  317   26   64  239  212\n",
            "    8  484   54   64   84  111   95   21 5502   10   91  637  737   10\n",
            "   17    7   33  393 9554  169 2443  406    2   87 1205  135   65  142\n",
            "   52    2    1 7408   65  245   64 2832   16    1 2851    1    1 1415\n",
            " 4969    3   39    1 1567   15 3521   13  156   18    4 1205  881 7874\n",
            "    8    4   17   12   13 4037    5   98  145 1234   11  236  696   12\n",
            "   48   22   91   37   10 7285  149   37 1337    1   49  396   11   95\n",
            " 1148  841  140    9    0    0    0    0    0    0    0    0    0    0\n",
            "    0    0    0    0    0    0    0    0    0    0    0    0    0    0\n",
            "    0    0    0    0    0    0    0    0    0    0    0    0    0    0\n",
            "    0    0    0    0    0    0    0    0    0    0    0    0    0    0\n",
            "    0    0    0    0    0    0    0    0    0    0    0    0    0    0\n",
            "    0    0    0    0    0    0    0    0    0    0    0    0    0    0\n",
            "    0    0    0    0    0    0    0    0    0    0    0    0    0    0\n",
            "    0    0    0    0    0    0    0    0    0    0    0    0    0    0\n",
            "    0    0    0    0    0    0    0    0    0    0    0    0    0    0\n",
            "    0    0    0    0    0    0    0    0    0    0    0    0], shape=(250,), dtype=int64)\n",
            "tf.Tensor(0, shape=(), dtype=int64)\n"
          ]
        }
      ]
    },
    {
      "cell_type": "code",
      "source": [
        "train_dataset=train_dataset.batch(BATCH_SIZE).prefetch(buffer_size=tf.data.AUTOTUNE)\n",
        "val_dataset=val_dataset.batch(BATCH_SIZE).prefetch(buffer_size=tf.data.AUTOTUNE)"
      ],
      "metadata": {
        "id": "OUScW4jVzFZW"
      },
      "execution_count": 117,
      "outputs": []
    },
    {
      "cell_type": "markdown",
      "source": [
        "# Modeling"
      ],
      "metadata": {
        "id": "O2rkTS_jGpZ2"
      }
    },
    {
      "cell_type": "markdown",
      "source": [
        "## SimpleRNN"
      ],
      "metadata": {
        "id": "gpJ9YjU8GsBu"
      }
    },
    {
      "cell_type": "code",
      "source": [
        "inputs=np.random.random([32, 10, 8]).astype(np.float32)\n",
        "simple_rnn=tf.keras.layers.SimpleRNN(25)\n",
        "output=simple_rnn(inputs)\n",
        "print(output.shape)"
      ],
      "metadata": {
        "colab": {
          "base_uri": "https://localhost:8080/"
        },
        "id": "swLSCEl3-9jd",
        "outputId": "302b8550-b504-4648-85d1-d563742e670f"
      },
      "execution_count": 26,
      "outputs": [
        {
          "output_type": "stream",
          "name": "stdout",
          "text": [
            "(32, 25)\n"
          ]
        }
      ]
    },
    {
      "cell_type": "code",
      "source": [
        "EMBEDDING_DIM=64\n",
        "model=tf.keras.models.Sequential([\n",
        "    Input(shape=(SEQUENCE_LENGTH,)),\n",
        "    Embedding(VOCAB_SIZE,EMBEDDING_DIM),\n",
        "    SimpleRNN(32),\n",
        "    Dense(1,activation='sigmoid'),\n",
        "])\n",
        "model.summary()"
      ],
      "metadata": {
        "colab": {
          "base_uri": "https://localhost:8080/",
          "height": 240
        },
        "id": "ttYpurBGZWvr",
        "outputId": "d7d96119-c419-4708-d810-c4790f21ba76"
      },
      "execution_count": 27,
      "outputs": [
        {
          "output_type": "display_data",
          "data": {
            "text/plain": [
              "\u001b[1mModel: \"sequential\"\u001b[0m\n"
            ],
            "text/html": [
              "<pre style=\"white-space:pre;overflow-x:auto;line-height:normal;font-family:Menlo,'DejaVu Sans Mono',consolas,'Courier New',monospace\"><span style=\"font-weight: bold\">Model: \"sequential\"</span>\n",
              "</pre>\n"
            ]
          },
          "metadata": {}
        },
        {
          "output_type": "display_data",
          "data": {
            "text/plain": [
              "┏━━━━━━━━━━━━━━━━━━━━━━━━━━━━━━━━━━━━━━┳━━━━━━━━━━━━━━━━━━━━━━━━━━━━━┳━━━━━━━━━━━━━━━━━┓\n",
              "┃\u001b[1m \u001b[0m\u001b[1mLayer (type)                        \u001b[0m\u001b[1m \u001b[0m┃\u001b[1m \u001b[0m\u001b[1mOutput Shape               \u001b[0m\u001b[1m \u001b[0m┃\u001b[1m \u001b[0m\u001b[1m        Param #\u001b[0m\u001b[1m \u001b[0m┃\n",
              "┡━━━━━━━━━━━━━━━━━━━━━━━━━━━━━━━━━━━━━━╇━━━━━━━━━━━━━━━━━━━━━━━━━━━━━╇━━━━━━━━━━━━━━━━━┩\n",
              "│ embedding (\u001b[38;5;33mEmbedding\u001b[0m)                │ (\u001b[38;5;45mNone\u001b[0m, \u001b[38;5;34m250\u001b[0m, \u001b[38;5;34m64\u001b[0m)             │         \u001b[38;5;34m640,000\u001b[0m │\n",
              "├──────────────────────────────────────┼─────────────────────────────┼─────────────────┤\n",
              "│ simple_rnn_1 (\u001b[38;5;33mSimpleRNN\u001b[0m)             │ (\u001b[38;5;45mNone\u001b[0m, \u001b[38;5;34m32\u001b[0m)                  │           \u001b[38;5;34m3,104\u001b[0m │\n",
              "├──────────────────────────────────────┼─────────────────────────────┼─────────────────┤\n",
              "│ dense (\u001b[38;5;33mDense\u001b[0m)                        │ (\u001b[38;5;45mNone\u001b[0m, \u001b[38;5;34m1\u001b[0m)                   │              \u001b[38;5;34m33\u001b[0m │\n",
              "└──────────────────────────────────────┴─────────────────────────────┴─────────────────┘\n"
            ],
            "text/html": [
              "<pre style=\"white-space:pre;overflow-x:auto;line-height:normal;font-family:Menlo,'DejaVu Sans Mono',consolas,'Courier New',monospace\">┏━━━━━━━━━━━━━━━━━━━━━━━━━━━━━━━━━━━━━━┳━━━━━━━━━━━━━━━━━━━━━━━━━━━━━┳━━━━━━━━━━━━━━━━━┓\n",
              "┃<span style=\"font-weight: bold\"> Layer (type)                         </span>┃<span style=\"font-weight: bold\"> Output Shape                </span>┃<span style=\"font-weight: bold\">         Param # </span>┃\n",
              "┡━━━━━━━━━━━━━━━━━━━━━━━━━━━━━━━━━━━━━━╇━━━━━━━━━━━━━━━━━━━━━━━━━━━━━╇━━━━━━━━━━━━━━━━━┩\n",
              "│ embedding (<span style=\"color: #0087ff; text-decoration-color: #0087ff\">Embedding</span>)                │ (<span style=\"color: #00d7ff; text-decoration-color: #00d7ff\">None</span>, <span style=\"color: #00af00; text-decoration-color: #00af00\">250</span>, <span style=\"color: #00af00; text-decoration-color: #00af00\">64</span>)             │         <span style=\"color: #00af00; text-decoration-color: #00af00\">640,000</span> │\n",
              "├──────────────────────────────────────┼─────────────────────────────┼─────────────────┤\n",
              "│ simple_rnn_1 (<span style=\"color: #0087ff; text-decoration-color: #0087ff\">SimpleRNN</span>)             │ (<span style=\"color: #00d7ff; text-decoration-color: #00d7ff\">None</span>, <span style=\"color: #00af00; text-decoration-color: #00af00\">32</span>)                  │           <span style=\"color: #00af00; text-decoration-color: #00af00\">3,104</span> │\n",
              "├──────────────────────────────────────┼─────────────────────────────┼─────────────────┤\n",
              "│ dense (<span style=\"color: #0087ff; text-decoration-color: #0087ff\">Dense</span>)                        │ (<span style=\"color: #00d7ff; text-decoration-color: #00d7ff\">None</span>, <span style=\"color: #00af00; text-decoration-color: #00af00\">1</span>)                   │              <span style=\"color: #00af00; text-decoration-color: #00af00\">33</span> │\n",
              "└──────────────────────────────────────┴─────────────────────────────┴─────────────────┘\n",
              "</pre>\n"
            ]
          },
          "metadata": {}
        },
        {
          "output_type": "display_data",
          "data": {
            "text/plain": [
              "\u001b[1m Total params: \u001b[0m\u001b[38;5;34m643,137\u001b[0m (2.45 MB)\n"
            ],
            "text/html": [
              "<pre style=\"white-space:pre;overflow-x:auto;line-height:normal;font-family:Menlo,'DejaVu Sans Mono',consolas,'Courier New',monospace\"><span style=\"font-weight: bold\"> Total params: </span><span style=\"color: #00af00; text-decoration-color: #00af00\">643,137</span> (2.45 MB)\n",
              "</pre>\n"
            ]
          },
          "metadata": {}
        },
        {
          "output_type": "display_data",
          "data": {
            "text/plain": [
              "\u001b[1m Trainable params: \u001b[0m\u001b[38;5;34m643,137\u001b[0m (2.45 MB)\n"
            ],
            "text/html": [
              "<pre style=\"white-space:pre;overflow-x:auto;line-height:normal;font-family:Menlo,'DejaVu Sans Mono',consolas,'Courier New',monospace\"><span style=\"font-weight: bold\"> Trainable params: </span><span style=\"color: #00af00; text-decoration-color: #00af00\">643,137</span> (2.45 MB)\n",
              "</pre>\n"
            ]
          },
          "metadata": {}
        },
        {
          "output_type": "display_data",
          "data": {
            "text/plain": [
              "\u001b[1m Non-trainable params: \u001b[0m\u001b[38;5;34m0\u001b[0m (0.00 B)\n"
            ],
            "text/html": [
              "<pre style=\"white-space:pre;overflow-x:auto;line-height:normal;font-family:Menlo,'DejaVu Sans Mono',consolas,'Courier New',monospace\"><span style=\"font-weight: bold\"> Non-trainable params: </span><span style=\"color: #00af00; text-decoration-color: #00af00\">0</span> (0.00 B)\n",
              "</pre>\n"
            ]
          },
          "metadata": {}
        }
      ]
    },
    {
      "cell_type": "code",
      "source": [
        "checkpoint_filepath = '/content/drive/MyDrive/nlp/sentiment_analysis/rnn.h5'\n",
        "model_checkpoint_callback = tf.keras.callbacks.ModelCheckpoint(\n",
        "    filepath=checkpoint_filepath,\n",
        "    monitor='val_accuracy',\n",
        "    mode='max',\n",
        "    save_best_only=True\n",
        ")"
      ],
      "metadata": {
        "id": "D16yK2OlerhW"
      },
      "execution_count": 28,
      "outputs": []
    },
    {
      "cell_type": "code",
      "source": [
        "model.compile(loss=tf.keras.losses.BinaryCrossentropy(),\n",
        "              optimizer=tf.keras.optimizers.Adam(1e-4),\n",
        "              metrics=['accuracy'])"
      ],
      "metadata": {
        "id": "mtuqKSwQfNRw"
      },
      "execution_count": 29,
      "outputs": []
    },
    {
      "cell_type": "code",
      "source": [
        "history=model.fit(\n",
        "    train_dataset,\n",
        "    validation_data=val_dataset,\n",
        "    epochs=10,\n",
        "    callbacks=[model_checkpoint_callback])"
      ],
      "metadata": {
        "colab": {
          "base_uri": "https://localhost:8080/"
        },
        "id": "zsQNaFdsfYEo",
        "outputId": "b9662309-992a-4f76-b779-f777d1926e7d"
      },
      "execution_count": 30,
      "outputs": [
        {
          "metadata": {
            "tags": null
          },
          "name": "stdout",
          "output_type": "stream",
          "text": [
            "Epoch 1/10\n",
            "\u001b[1m391/391\u001b[0m \u001b[32m━━━━━━━━━━━━━━━━━━━━\u001b[0m\u001b[37m\u001b[0m \u001b[1m0s\u001b[0m 112ms/step - accuracy: 0.4985 - loss: 0.6946"
          ]
        },
        {
          "metadata": {
            "tags": null
          },
          "name": "stderr",
          "output_type": "stream",
          "text": [
            "WARNING:absl:You are saving your model as an HDF5 file via `model.save()` or `keras.saving.save_model(model)`. This file format is considered legacy. We recommend using instead the native Keras format, e.g. `model.save('my_model.keras')` or `keras.saving.save_model(model, 'my_model.keras')`. \n"
          ]
        },
        {
          "metadata": {
            "tags": null
          },
          "name": "stdout",
          "output_type": "stream",
          "text": [
            "\u001b[1m391/391\u001b[0m \u001b[32m━━━━━━━━━━━━━━━━━━━━\u001b[0m\u001b[37m\u001b[0m \u001b[1m61s\u001b[0m 140ms/step - accuracy: 0.4985 - loss: 0.6946 - val_accuracy: 0.4985 - val_loss: 0.6949\n",
            "Epoch 2/10\n",
            "\u001b[1m391/391\u001b[0m \u001b[32m━━━━━━━━━━━━━━━━━━━━\u001b[0m\u001b[37m\u001b[0m \u001b[1m60s\u001b[0m 152ms/step - accuracy: 0.5584 - loss: 0.6835 - val_accuracy: 0.4985 - val_loss: 0.6965\n",
            "Epoch 3/10\n",
            "\u001b[1m391/391\u001b[0m \u001b[32m━━━━━━━━━━━━━━━━━━━━\u001b[0m\u001b[37m\u001b[0m \u001b[1m76s\u001b[0m 137ms/step - accuracy: 0.6194 - loss: 0.6612 - val_accuracy: 0.4937 - val_loss: 0.7041\n",
            "Epoch 4/10\n",
            "\u001b[1m391/391\u001b[0m \u001b[32m━━━━━━━━━━━━━━━━━━━━\u001b[0m\u001b[37m\u001b[0m \u001b[1m0s\u001b[0m 100ms/step - accuracy: 0.7100 - loss: 0.6057"
          ]
        },
        {
          "metadata": {
            "tags": null
          },
          "name": "stderr",
          "output_type": "stream",
          "text": [
            "WARNING:absl:You are saving your model as an HDF5 file via `model.save()` or `keras.saving.save_model(model)`. This file format is considered legacy. We recommend using instead the native Keras format, e.g. `model.save('my_model.keras')` or `keras.saving.save_model(model, 'my_model.keras')`. \n"
          ]
        },
        {
          "metadata": {
            "tags": null
          },
          "name": "stdout",
          "output_type": "stream",
          "text": [
            "\u001b[1m391/391\u001b[0m \u001b[32m━━━━━━━━━━━━━━━━━━━━\u001b[0m\u001b[37m\u001b[0m \u001b[1m78s\u001b[0m 127ms/step - accuracy: 0.7101 - loss: 0.6056 - val_accuracy: 0.4994 - val_loss: 0.7191\n",
            "Epoch 5/10\n",
            "\u001b[1m391/391\u001b[0m \u001b[32m━━━━━━━━━━━━━━━━━━━━\u001b[0m\u001b[37m\u001b[0m \u001b[1m0s\u001b[0m 82ms/step - accuracy: 0.7765 - loss: 0.5348"
          ]
        },
        {
          "metadata": {
            "tags": null
          },
          "name": "stderr",
          "output_type": "stream",
          "text": [
            "WARNING:absl:You are saving your model as an HDF5 file via `model.save()` or `keras.saving.save_model(model)`. This file format is considered legacy. We recommend using instead the native Keras format, e.g. `model.save('my_model.keras')` or `keras.saving.save_model(model, 'my_model.keras')`. \n"
          ]
        },
        {
          "metadata": {
            "tags": null
          },
          "name": "stdout",
          "output_type": "stream",
          "text": [
            "\u001b[1m391/391\u001b[0m \u001b[32m━━━━━━━━━━━━━━━━━━━━\u001b[0m\u001b[37m\u001b[0m \u001b[1m71s\u001b[0m 98ms/step - accuracy: 0.7765 - loss: 0.5347 - val_accuracy: 0.5068 - val_loss: 0.7364\n",
            "Epoch 6/10\n",
            "\u001b[1m391/391\u001b[0m \u001b[32m━━━━━━━━━━━━━━━━━━━━\u001b[0m\u001b[37m\u001b[0m \u001b[1m0s\u001b[0m 83ms/step - accuracy: 0.8180 - loss: 0.4695"
          ]
        },
        {
          "metadata": {
            "tags": null
          },
          "name": "stderr",
          "output_type": "stream",
          "text": [
            "WARNING:absl:You are saving your model as an HDF5 file via `model.save()` or `keras.saving.save_model(model)`. This file format is considered legacy. We recommend using instead the native Keras format, e.g. `model.save('my_model.keras')` or `keras.saving.save_model(model, 'my_model.keras')`. \n"
          ]
        },
        {
          "metadata": {
            "tags": null
          },
          "name": "stdout",
          "output_type": "stream",
          "text": [
            "\u001b[1m391/391\u001b[0m \u001b[32m━━━━━━━━━━━━━━━━━━━━\u001b[0m\u001b[37m\u001b[0m \u001b[1m42s\u001b[0m 100ms/step - accuracy: 0.8180 - loss: 0.4695 - val_accuracy: 0.5074 - val_loss: 0.7511\n",
            "Epoch 7/10\n",
            "\u001b[1m391/391\u001b[0m \u001b[32m━━━━━━━━━━━━━━━━━━━━\u001b[0m\u001b[37m\u001b[0m \u001b[1m0s\u001b[0m 91ms/step - accuracy: 0.8413 - loss: 0.4338"
          ]
        },
        {
          "metadata": {
            "tags": null
          },
          "name": "stderr",
          "output_type": "stream",
          "text": [
            "WARNING:absl:You are saving your model as an HDF5 file via `model.save()` or `keras.saving.save_model(model)`. This file format is considered legacy. We recommend using instead the native Keras format, e.g. `model.save('my_model.keras')` or `keras.saving.save_model(model, 'my_model.keras')`. \n"
          ]
        },
        {
          "output_type": "stream",
          "name": "stdout",
          "text": [
            "\u001b[1m391/391\u001b[0m \u001b[32m━━━━━━━━━━━━━━━━━━━━\u001b[0m\u001b[37m\u001b[0m \u001b[1m43s\u001b[0m 105ms/step - accuracy: 0.8413 - loss: 0.4338 - val_accuracy: 0.5088 - val_loss: 0.7559\n",
            "Epoch 8/10\n",
            "\u001b[1m391/391\u001b[0m \u001b[32m━━━━━━━━━━━━━━━━━━━━\u001b[0m\u001b[37m\u001b[0m \u001b[1m79s\u001b[0m 98ms/step - accuracy: 0.8470 - loss: 0.4155 - val_accuracy: 0.5071 - val_loss: 0.7791\n",
            "Epoch 9/10\n",
            "\u001b[1m391/391\u001b[0m \u001b[32m━━━━━━━━━━━━━━━━━━━━\u001b[0m\u001b[37m\u001b[0m \u001b[1m0s\u001b[0m 83ms/step - accuracy: 0.8415 - loss: 0.4225"
          ]
        },
        {
          "output_type": "stream",
          "name": "stderr",
          "text": [
            "WARNING:absl:You are saving your model as an HDF5 file via `model.save()` or `keras.saving.save_model(model)`. This file format is considered legacy. We recommend using instead the native Keras format, e.g. `model.save('my_model.keras')` or `keras.saving.save_model(model, 'my_model.keras')`. \n"
          ]
        },
        {
          "output_type": "stream",
          "name": "stdout",
          "text": [
            "\b\b\b\b\b\b\b\b\b\b\b\b\b\b\b\b\b\b\b\b\b\b\b\b\b\b\b\b\b\b\b\b\b\b\b\b\b\b\b\b\b\b\b\b\b\b\b\b\b\b\b\b\b\b\b\b\b\b\b\b\b\b\b\b\b\b\b\b\b\b\b\b\b\b\b\r\u001b[1m391/391\u001b[0m \u001b[32m━━━━━━━━━━━━━━━━━━━━\u001b[0m\u001b[37m\u001b[0m \u001b[1m40s\u001b[0m 97ms/step - accuracy: 0.8416 - loss: 0.4224 - val_accuracy: 0.5109 - val_loss: 0.8044\n",
            "Epoch 10/10\n",
            "\u001b[1m391/391\u001b[0m \u001b[32m━━━━━━━━━━━━━━━━━━━━\u001b[0m\u001b[37m\u001b[0m \u001b[1m41s\u001b[0m 97ms/step - accuracy: 0.8800 - loss: 0.3587 - val_accuracy: 0.5098 - val_loss: 0.8596\n"
          ]
        }
      ]
    },
    {
      "cell_type": "code",
      "source": [
        "plt.plot(history.history['loss'])\n",
        "plt.plot(history.history['val_loss'])\n",
        "plt.title('model_loss')\n",
        "plt.ylabel('loss')\n",
        "plt.xlabel('epoch')\n",
        "plt.legend(['train', 'val'], loc='upper left')\n",
        "plt.show()"
      ],
      "metadata": {
        "colab": {
          "base_uri": "https://localhost:8080/",
          "height": 472
        },
        "id": "TL01BkYcfzoI",
        "outputId": "2a961a20-786c-4177-e3c9-8fd0990beee9"
      },
      "execution_count": 31,
      "outputs": [
        {
          "output_type": "display_data",
          "data": {
            "text/plain": [
              "<Figure size 640x480 with 1 Axes>"
            ],
            "image/png": "[encoded data removed]"
          },
          "metadata": {}
        }
      ]
    },
    {
      "cell_type": "code",
      "source": [
        "plt.plot(history.history['accuracy'])\n",
        "plt.plot(history.history['val_accuracy'])\n",
        "\n",
        "plt.title('model_accuracy')\n",
        "plt.ylabel('accuracy')\n",
        "plt.xlabel('epoch')\n",
        "plt.legend(['train', 'val'], loc='upper left')\n",
        "plt.show()"
      ],
      "metadata": {
        "colab": {
          "base_uri": "https://localhost:8080/",
          "height": 472
        },
        "id": "tWrEZfLyG81L",
        "outputId": "7469ccd3-61c2-4de3-a52d-4aa9360954d3"
      },
      "execution_count": 32,
      "outputs": [
        {
          "output_type": "display_data",
          "data": {
            "text/plain": [
              "<Figure size 640x480 with 1 Axes>"
            ],
            "image/png": "[encoded data removed]"
          },
          "metadata": {}
        }
      ]
    },
    {
      "cell_type": "markdown",
      "source": [
        "### Evaluation"
      ],
      "metadata": {
        "id": "r6gl5SCgHihc"
      }
    },
    {
      "cell_type": "code",
      "source": [
        "test_dataset=test_ds.map(vectorizer)\n",
        "test_dataset=test_dataset.batch(BATCH_SIZE)\n",
        "model.evaluate(train_dataset)"
      ],
      "metadata": {
        "colab": {
          "base_uri": "https://localhost:8080/"
        },
        "id": "jyQhgxOHHm4A",
        "outputId": "c74c5b4e-f80e-4e77-d9ec-6bbaf5e2cf4f"
      },
      "execution_count": 33,
      "outputs": [
        {
          "output_type": "stream",
          "name": "stdout",
          "text": [
            "\u001b[1m391/391\u001b[0m \u001b[32m━━━━━━━━━━━━━━━━━━━━\u001b[0m\u001b[37m\u001b[0m \u001b[1m19s\u001b[0m 47ms/step - accuracy: 0.6555 - loss: 0.6607\n"
          ]
        },
        {
          "output_type": "execute_result",
          "data": {
            "text/plain": [
              "[0.558538019657135, 0.7297599911689758]"
            ]
          },
          "metadata": {},
          "execution_count": 33
        }
      ]
    },
    {
      "cell_type": "markdown",
      "source": [
        "## LSTM (MultiLayer and Bidirectional)"
      ],
      "metadata": {
        "id": "kaQdWD9UH2yn"
      }
    },
    {
      "cell_type": "code",
      "source": [
        "EMBEDDING_DIM = 64\n",
        "model = tf.keras.models.Sequential([\n",
        "    Input(shape=(SEQUENCE_LENGTH,)),\n",
        "    Embedding(VOCAB_SIZE, EMBEDDING_DIM),\n",
        "\n",
        "    Bidirectional(LSTM(64, return_sequences=True)),\n",
        "    Bidirectional(LSTM(32)),\n",
        "\n",
        "    Dense(64, activation='relu'),\n",
        "    Dropout(0.5),\n",
        "    Dense(1, activation='sigmoid')\n",
        "])\n",
        "\n",
        "model.summary()"
      ],
      "metadata": {
        "colab": {
          "base_uri": "https://localhost:8080/",
          "height": 336
        },
        "id": "dztNmhOZH1IE",
        "outputId": "e2e4ab5e-e503-419d-a881-7a6a80650112"
      },
      "execution_count": 34,
      "outputs": [
        {
          "output_type": "display_data",
          "data": {
            "text/plain": [
              "\u001b[1mModel: \"sequential_1\"\u001b[0m\n"
            ],
            "text/html": [
              "<pre style=\"white-space:pre;overflow-x:auto;line-height:normal;font-family:Menlo,'DejaVu Sans Mono',consolas,'Courier New',monospace\"><span style=\"font-weight: bold\">Model: \"sequential_1\"</span>\n",
              "</pre>\n"
            ]
          },
          "metadata": {}
        },
        {
          "output_type": "display_data",
          "data": {
            "text/plain": [
              "┏━━━━━━━━━━━━━━━━━━━━━━━━━━━━━━━━━━━━━━┳━━━━━━━━━━━━━━━━━━━━━━━━━━━━━┳━━━━━━━━━━━━━━━━━┓\n",
              "┃\u001b[1m \u001b[0m\u001b[1mLayer (type)                        \u001b[0m\u001b[1m \u001b[0m┃\u001b[1m \u001b[0m\u001b[1mOutput Shape               \u001b[0m\u001b[1m \u001b[0m┃\u001b[1m \u001b[0m\u001b[1m        Param #\u001b[0m\u001b[1m \u001b[0m┃\n",
              "┡━━━━━━━━━━━━━━━━━━━━━━━━━━━━━━━━━━━━━━╇━━━━━━━━━━━━━━━━━━━━━━━━━━━━━╇━━━━━━━━━━━━━━━━━┩\n",
              "│ embedding_1 (\u001b[38;5;33mEmbedding\u001b[0m)              │ (\u001b[38;5;45mNone\u001b[0m, \u001b[38;5;34m250\u001b[0m, \u001b[38;5;34m64\u001b[0m)             │         \u001b[38;5;34m640,000\u001b[0m │\n",
              "├──────────────────────────────────────┼─────────────────────────────┼─────────────────┤\n",
              "│ bidirectional (\u001b[38;5;33mBidirectional\u001b[0m)        │ (\u001b[38;5;45mNone\u001b[0m, \u001b[38;5;34m250\u001b[0m, \u001b[38;5;34m128\u001b[0m)            │          \u001b[38;5;34m66,048\u001b[0m │\n",
              "├──────────────────────────────────────┼─────────────────────────────┼─────────────────┤\n",
              "│ bidirectional_1 (\u001b[38;5;33mBidirectional\u001b[0m)      │ (\u001b[38;5;45mNone\u001b[0m, \u001b[38;5;34m64\u001b[0m)                  │          \u001b[38;5;34m41,216\u001b[0m │\n",
              "├──────────────────────────────────────┼─────────────────────────────┼─────────────────┤\n",
              "│ dense_1 (\u001b[38;5;33mDense\u001b[0m)                      │ (\u001b[38;5;45mNone\u001b[0m, \u001b[38;5;34m64\u001b[0m)                  │           \u001b[38;5;34m4,160\u001b[0m │\n",
              "├──────────────────────────────────────┼─────────────────────────────┼─────────────────┤\n",
              "│ dropout (\u001b[38;5;33mDropout\u001b[0m)                    │ (\u001b[38;5;45mNone\u001b[0m, \u001b[38;5;34m64\u001b[0m)                  │               \u001b[38;5;34m0\u001b[0m │\n",
              "├──────────────────────────────────────┼─────────────────────────────┼─────────────────┤\n",
              "│ dense_2 (\u001b[38;5;33mDense\u001b[0m)                      │ (\u001b[38;5;45mNone\u001b[0m, \u001b[38;5;34m1\u001b[0m)                   │              \u001b[38;5;34m65\u001b[0m │\n",
              "└──────────────────────────────────────┴─────────────────────────────┴─────────────────┘\n"
            ],
            "text/html": [
              "<pre style=\"white-space:pre;overflow-x:auto;line-height:normal;font-family:Menlo,'DejaVu Sans Mono',consolas,'Courier New',monospace\">┏━━━━━━━━━━━━━━━━━━━━━━━━━━━━━━━━━━━━━━┳━━━━━━━━━━━━━━━━━━━━━━━━━━━━━┳━━━━━━━━━━━━━━━━━┓\n",
              "┃<span style=\"font-weight: bold\"> Layer (type)                         </span>┃<span style=\"font-weight: bold\"> Output Shape                </span>┃<span style=\"font-weight: bold\">         Param # </span>┃\n",
              "┡━━━━━━━━━━━━━━━━━━━━━━━━━━━━━━━━━━━━━━╇━━━━━━━━━━━━━━━━━━━━━━━━━━━━━╇━━━━━━━━━━━━━━━━━┩\n",
              "│ embedding_1 (<span style=\"color: #0087ff; text-decoration-color: #0087ff\">Embedding</span>)              │ (<span style=\"color: #00d7ff; text-decoration-color: #00d7ff\">None</span>, <span style=\"color: #00af00; text-decoration-color: #00af00\">250</span>, <span style=\"color: #00af00; text-decoration-color: #00af00\">64</span>)             │         <span style=\"color: #00af00; text-decoration-color: #00af00\">640,000</span> │\n",
              "├──────────────────────────────────────┼─────────────────────────────┼─────────────────┤\n",
              "│ bidirectional (<span style=\"color: #0087ff; text-decoration-color: #0087ff\">Bidirectional</span>)        │ (<span style=\"color: #00d7ff; text-decoration-color: #00d7ff\">None</span>, <span style=\"color: #00af00; text-decoration-color: #00af00\">250</span>, <span style=\"color: #00af00; text-decoration-color: #00af00\">128</span>)            │          <span style=\"color: #00af00; text-decoration-color: #00af00\">66,048</span> │\n",
              "├──────────────────────────────────────┼─────────────────────────────┼─────────────────┤\n",
              "│ bidirectional_1 (<span style=\"color: #0087ff; text-decoration-color: #0087ff\">Bidirectional</span>)      │ (<span style=\"color: #00d7ff; text-decoration-color: #00d7ff\">None</span>, <span style=\"color: #00af00; text-decoration-color: #00af00\">64</span>)                  │          <span style=\"color: #00af00; text-decoration-color: #00af00\">41,216</span> │\n",
              "├──────────────────────────────────────┼─────────────────────────────┼─────────────────┤\n",
              "│ dense_1 (<span style=\"color: #0087ff; text-decoration-color: #0087ff\">Dense</span>)                      │ (<span style=\"color: #00d7ff; text-decoration-color: #00d7ff\">None</span>, <span style=\"color: #00af00; text-decoration-color: #00af00\">64</span>)                  │           <span style=\"color: #00af00; text-decoration-color: #00af00\">4,160</span> │\n",
              "├──────────────────────────────────────┼─────────────────────────────┼─────────────────┤\n",
              "│ dropout (<span style=\"color: #0087ff; text-decoration-color: #0087ff\">Dropout</span>)                    │ (<span style=\"color: #00d7ff; text-decoration-color: #00d7ff\">None</span>, <span style=\"color: #00af00; text-decoration-color: #00af00\">64</span>)                  │               <span style=\"color: #00af00; text-decoration-color: #00af00\">0</span> │\n",
              "├──────────────────────────────────────┼─────────────────────────────┼─────────────────┤\n",
              "│ dense_2 (<span style=\"color: #0087ff; text-decoration-color: #0087ff\">Dense</span>)                      │ (<span style=\"color: #00d7ff; text-decoration-color: #00d7ff\">None</span>, <span style=\"color: #00af00; text-decoration-color: #00af00\">1</span>)                   │              <span style=\"color: #00af00; text-decoration-color: #00af00\">65</span> │\n",
              "└──────────────────────────────────────┴─────────────────────────────┴─────────────────┘\n",
              "</pre>\n"
            ]
          },
          "metadata": {}
        },
        {
          "output_type": "display_data",
          "data": {
            "text/plain": [
              "\u001b[1m Total params: \u001b[0m\u001b[38;5;34m751,489\u001b[0m (2.87 MB)\n"
            ],
            "text/html": [
              "<pre style=\"white-space:pre;overflow-x:auto;line-height:normal;font-family:Menlo,'DejaVu Sans Mono',consolas,'Courier New',monospace\"><span style=\"font-weight: bold\"> Total params: </span><span style=\"color: #00af00; text-decoration-color: #00af00\">751,489</span> (2.87 MB)\n",
              "</pre>\n"
            ]
          },
          "metadata": {}
        },
        {
          "output_type": "display_data",
          "data": {
            "text/plain": [
              "\u001b[1m Trainable params: \u001b[0m\u001b[38;5;34m751,489\u001b[0m (2.87 MB)\n"
            ],
            "text/html": [
              "<pre style=\"white-space:pre;overflow-x:auto;line-height:normal;font-family:Menlo,'DejaVu Sans Mono',consolas,'Courier New',monospace\"><span style=\"font-weight: bold\"> Trainable params: </span><span style=\"color: #00af00; text-decoration-color: #00af00\">751,489</span> (2.87 MB)\n",
              "</pre>\n"
            ]
          },
          "metadata": {}
        },
        {
          "output_type": "display_data",
          "data": {
            "text/plain": [
              "\u001b[1m Non-trainable params: \u001b[0m\u001b[38;5;34m0\u001b[0m (0.00 B)\n"
            ],
            "text/html": [
              "<pre style=\"white-space:pre;overflow-x:auto;line-height:normal;font-family:Menlo,'DejaVu Sans Mono',consolas,'Courier New',monospace\"><span style=\"font-weight: bold\"> Non-trainable params: </span><span style=\"color: #00af00; text-decoration-color: #00af00\">0</span> (0.00 B)\n",
              "</pre>\n"
            ]
          },
          "metadata": {}
        }
      ]
    },
    {
      "cell_type": "code",
      "source": [
        "checkpoint_filepath = '/content/drive/MyDrive/nlp/sentiment_analysis/lstm.h5'\n",
        "model_checkpoint_callback = tf.keras.callbacks.ModelCheckpoint(\n",
        "    filepath=checkpoint_filepath,\n",
        "    monitor='val_accuracy',\n",
        "    mode='max',\n",
        "    save_best_only=True)"
      ],
      "metadata": {
        "id": "hSD2jHoBI_4t"
      },
      "execution_count": 35,
      "outputs": []
    },
    {
      "cell_type": "code",
      "source": [
        "model.compile(loss=tf.keras.losses.BinaryCrossentropy(),\n",
        "              optimizer=tf.keras.optimizers.Adam(1e-4),\n",
        "              metrics=['accuracy']\n",
        "              )"
      ],
      "metadata": {
        "id": "JbAmIaTUJZBH"
      },
      "execution_count": 37,
      "outputs": []
    },
    {
      "cell_type": "code",
      "source": [
        "history=model.fit(\n",
        "    train_dataset,\n",
        "    validation_data=val_dataset,\n",
        "    epochs=10,\n",
        "    callbacks=[model_checkpoint_callback])"
      ],
      "metadata": {
        "colab": {
          "base_uri": "https://localhost:8080/"
        },
        "id": "okP-e19LN1mm",
        "outputId": "14dda18c-61b4-4755-82ef-417a8beba896"
      },
      "execution_count": 38,
      "outputs": [
        {
          "output_type": "stream",
          "name": "stdout",
          "text": [
            "Epoch 1/10\n",
            "\u001b[1m391/391\u001b[0m \u001b[32m━━━━━━━━━━━━━━━━━━━━\u001b[0m\u001b[37m\u001b[0m \u001b[1m0s\u001b[0m 684ms/step - accuracy: 0.5300 - loss: 0.6855"
          ]
        },
        {
          "output_type": "stream",
          "name": "stderr",
          "text": [
            "WARNING:absl:You are saving your model as an HDF5 file via `model.save()` or `keras.saving.save_model(model)`. This file format is considered legacy. We recommend using instead the native Keras format, e.g. `model.save('my_model.keras')` or `keras.saving.save_model(model, 'my_model.keras')`. \n"
          ]
        },
        {
          "output_type": "stream",
          "name": "stdout",
          "text": [
            "\b\b\b\b\b\b\b\b\b\b\b\b\b\b\b\b\b\b\b\b\b\b\b\b\b\b\b\b\b\b\b\b\b\b\b\b\b\b\b\b\b\b\b\b\b\b\b\b\b\b\b\b\b\b\b\b\b\b\b\b\b\b\b\b\b\b\b\b\b\b\b\b\b\b\b\b\r\u001b[1m391/391\u001b[0m \u001b[32m━━━━━━━━━━━━━━━━━━━━\u001b[0m\u001b[37m\u001b[0m \u001b[1m321s\u001b[0m 791ms/step - accuracy: 0.5302 - loss: 0.6854 - val_accuracy: 0.7963 - val_loss: 0.4400\n",
            "Epoch 2/10\n",
            "\u001b[1m391/391\u001b[0m \u001b[32m━━━━━━━━━━━━━━━━━━━━\u001b[0m\u001b[37m\u001b[0m \u001b[1m0s\u001b[0m 608ms/step - accuracy: 0.8436 - loss: 0.3779"
          ]
        },
        {
          "output_type": "stream",
          "name": "stderr",
          "text": [
            "WARNING:absl:You are saving your model as an HDF5 file via `model.save()` or `keras.saving.save_model(model)`. This file format is considered legacy. We recommend using instead the native Keras format, e.g. `model.save('my_model.keras')` or `keras.saving.save_model(model, 'my_model.keras')`. \n"
          ]
        },
        {
          "output_type": "stream",
          "name": "stdout",
          "text": [
            "\b\b\b\b\b\b\b\b\b\b\b\b\b\b\b\b\b\b\b\b\b\b\b\b\b\b\b\b\b\b\b\b\b\b\b\b\b\b\b\b\b\b\b\b\b\b\b\b\b\b\b\b\b\b\b\b\b\b\b\b\b\b\b\b\b\b\b\b\b\b\b\b\b\b\b\b\r\u001b[1m391/391\u001b[0m \u001b[32m━━━━━━━━━━━━━━━━━━━━\u001b[0m\u001b[37m\u001b[0m \u001b[1m290s\u001b[0m 713ms/step - accuracy: 0.8437 - loss: 0.3778 - val_accuracy: 0.8545 - val_loss: 0.3467\n",
            "Epoch 3/10\n",
            "\u001b[1m391/391\u001b[0m \u001b[32m━━━━━━━━━━━━━━━━━━━━\u001b[0m\u001b[37m\u001b[0m \u001b[1m0s\u001b[0m 607ms/step - accuracy: 0.8993 - loss: 0.2696"
          ]
        },
        {
          "output_type": "stream",
          "name": "stderr",
          "text": [
            "WARNING:absl:You are saving your model as an HDF5 file via `model.save()` or `keras.saving.save_model(model)`. This file format is considered legacy. We recommend using instead the native Keras format, e.g. `model.save('my_model.keras')` or `keras.saving.save_model(model, 'my_model.keras')`. \n"
          ]
        },
        {
          "output_type": "stream",
          "name": "stdout",
          "text": [
            "\b\b\b\b\b\b\b\b\b\b\b\b\b\b\b\b\b\b\b\b\b\b\b\b\b\b\b\b\b\b\b\b\b\b\b\b\b\b\b\b\b\b\b\b\b\b\b\b\b\b\b\b\b\b\b\b\b\b\b\b\b\b\b\b\b\b\b\b\b\b\b\b\b\b\b\b\r\u001b[1m391/391\u001b[0m \u001b[32m━━━━━━━━━━━━━━━━━━━━\u001b[0m\u001b[37m\u001b[0m \u001b[1m279s\u001b[0m 713ms/step - accuracy: 0.8993 - loss: 0.2696 - val_accuracy: 0.8645 - val_loss: 0.3367\n",
            "Epoch 4/10\n",
            "\u001b[1m391/391\u001b[0m \u001b[32m━━━━━━━━━━━━━━━━━━━━\u001b[0m\u001b[37m\u001b[0m \u001b[1m277s\u001b[0m 709ms/step - accuracy: 0.9223 - loss: 0.2235 - val_accuracy: 0.8625 - val_loss: 0.3666\n",
            "Epoch 5/10\n",
            "\u001b[1m391/391\u001b[0m \u001b[32m━━━━━━━━━━━━━━━━━━━━\u001b[0m\u001b[37m\u001b[0m \u001b[1m270s\u001b[0m 691ms/step - accuracy: 0.9277 - loss: 0.2060 - val_accuracy: 0.8546 - val_loss: 0.3888\n",
            "Epoch 6/10\n",
            "\u001b[1m391/391\u001b[0m \u001b[32m━━━━━━━━━━━━━━━━━━━━\u001b[0m\u001b[37m\u001b[0m \u001b[1m277s\u001b[0m 708ms/step - accuracy: 0.9329 - loss: 0.1928 - val_accuracy: 0.8594 - val_loss: 0.4039\n",
            "Epoch 7/10\n",
            "\u001b[1m391/391\u001b[0m \u001b[32m━━━━━━━━━━━━━━━━━━━━\u001b[0m\u001b[37m\u001b[0m \u001b[1m282s\u001b[0m 722ms/step - accuracy: 0.9400 - loss: 0.1723 - val_accuracy: 0.8540 - val_loss: 0.4485\n",
            "Epoch 8/10\n",
            "\u001b[1m391/391\u001b[0m \u001b[32m━━━━━━━━━━━━━━━━━━━━\u001b[0m\u001b[37m\u001b[0m \u001b[1m298s\u001b[0m 763ms/step - accuracy: 0.9477 - loss: 0.1578 - val_accuracy: 0.8445 - val_loss: 0.4678\n",
            "Epoch 9/10\n",
            "\u001b[1m391/391\u001b[0m \u001b[32m━━━━━━━━━━━━━━━━━━━━\u001b[0m\u001b[37m\u001b[0m \u001b[1m304s\u001b[0m 778ms/step - accuracy: 0.9567 - loss: 0.1353 - val_accuracy: 0.8444 - val_loss: 0.4462\n",
            "Epoch 10/10\n",
            "\u001b[1m391/391\u001b[0m \u001b[32m━━━━━━━━━━━━━━━━━━━━\u001b[0m\u001b[37m\u001b[0m \u001b[1m310s\u001b[0m 747ms/step - accuracy: 0.9650 - loss: 0.1178 - val_accuracy: 0.8486 - val_loss: 0.4614\n"
          ]
        }
      ]
    },
    {
      "cell_type": "code",
      "source": [
        "plt.plot(history.history['loss'])\n",
        "plt.plot(history.history['val_loss'])\n",
        "plt.title('model_loss')\n",
        "plt.ylabel('loss')\n",
        "plt.xlabel('epoch')\n",
        "plt.legend(['train', 'val'], loc='upper left')\n",
        "plt.show()"
      ],
      "metadata": {
        "colab": {
          "base_uri": "https://localhost:8080/",
          "height": 472
        },
        "id": "BX1k6oBWN30c",
        "outputId": "170aed4e-863c-4634-f37f-f6605590d7de"
      },
      "execution_count": 39,
      "outputs": [
        {
          "output_type": "display_data",
          "data": {
            "text/plain": [
              "<Figure size 640x480 with 1 Axes>"
            ],
            "image/png": "[encoded data removed]"
          },
          "metadata": {}
        }
      ]
    },
    {
      "cell_type": "code",
      "source": [
        "plt.plot(history.history['accuracy'])\n",
        "plt.plot(history.history['val_accuracy'])\n",
        "\n",
        "plt.title('model_accuracy')\n",
        "plt.ylabel('accuracy')\n",
        "plt.xlabel('epoch')\n",
        "plt.legend(['train', 'val'], loc='upper left')\n",
        "plt.show()"
      ],
      "metadata": {
        "colab": {
          "base_uri": "https://localhost:8080/",
          "height": 472
        },
        "id": "bY0itBdnN56F",
        "outputId": "4feaf527-496b-4d63-a355-8132589743c2"
      },
      "execution_count": 40,
      "outputs": [
        {
          "output_type": "display_data",
          "data": {
            "text/plain": [
              "<Figure size 640x480 with 1 Axes>"
            ],
            "image/png": "[encoded data removed]"
          },
          "metadata": {}
        }
      ]
    },
    {
      "cell_type": "markdown",
      "source": [
        "### Evaluation"
      ],
      "metadata": {
        "id": "EhmALCXPN_W1"
      }
    },
    {
      "cell_type": "code",
      "source": [
        "test_dataset=test_ds.map(vectorizer)\n",
        "test_dataset=test_dataset.batch(BATCH_SIZE)\n",
        "model.evaluate(test_dataset)"
      ],
      "metadata": {
        "colab": {
          "base_uri": "https://localhost:8080/"
        },
        "id": "O_CtbK1fN9qk",
        "outputId": "a2679880-b114-467a-fe6f-8f4d1f9051cb"
      },
      "execution_count": 41,
      "outputs": [
        {
          "output_type": "stream",
          "name": "stdout",
          "text": [
            "\u001b[1m196/196\u001b[0m \u001b[32m━━━━━━━━━━━━━━━━━━━━\u001b[0m\u001b[37m\u001b[0m \u001b[1m36s\u001b[0m 180ms/step - accuracy: 0.8489 - loss: 0.4574\n"
          ]
        },
        {
          "output_type": "execute_result",
          "data": {
            "text/plain": [
              "[0.4561425447463989, 0.8483999967575073]"
            ]
          },
          "metadata": {},
          "execution_count": 41
        }
      ]
    },
    {
      "cell_type": "markdown",
      "source": [
        "## GRU (MultiLayer and Bidirectional)"
      ],
      "metadata": {
        "id": "vEoEllweOEJw"
      }
    },
    {
      "cell_type": "code",
      "source": [
        "EMBEDDING_DIM=64\n",
        "model=tf.keras.models.Sequential([\n",
        "    Input(shape=(SEQUENCE_LENGTH,)),\n",
        "    Embedding(VOCAB_SIZE,EMBEDDING_DIM),\n",
        "\n",
        "    Bidirectional(GRU(64,return_sequences=True)),\n",
        "    Bidirectional(GRU(32)),\n",
        "\n",
        "    Dense(64, activation='relu'),\n",
        "    Dropout(0.5),\n",
        "    Dense(1,activation='sigmoid'),\n",
        "])\n",
        "model.summary()"
      ],
      "metadata": {
        "colab": {
          "base_uri": "https://localhost:8080/",
          "height": 336
        },
        "id": "jgOS-EsGOC79",
        "outputId": "9974499a-1abf-4ab3-9dd4-43d1d6aa9f6a"
      },
      "execution_count": 42,
      "outputs": [
        {
          "output_type": "display_data",
          "data": {
            "text/plain": [
              "\u001b[1mModel: \"sequential_2\"\u001b[0m\n"
            ],
            "text/html": [
              "<pre style=\"white-space:pre;overflow-x:auto;line-height:normal;font-family:Menlo,'DejaVu Sans Mono',consolas,'Courier New',monospace\"><span style=\"font-weight: bold\">Model: \"sequential_2\"</span>\n",
              "</pre>\n"
            ]
          },
          "metadata": {}
        },
        {
          "output_type": "display_data",
          "data": {
            "text/plain": [
              "┏━━━━━━━━━━━━━━━━━━━━━━━━━━━━━━━━━━━━━━┳━━━━━━━━━━━━━━━━━━━━━━━━━━━━━┳━━━━━━━━━━━━━━━━━┓\n",
              "┃\u001b[1m \u001b[0m\u001b[1mLayer (type)                        \u001b[0m\u001b[1m \u001b[0m┃\u001b[1m \u001b[0m\u001b[1mOutput Shape               \u001b[0m\u001b[1m \u001b[0m┃\u001b[1m \u001b[0m\u001b[1m        Param #\u001b[0m\u001b[1m \u001b[0m┃\n",
              "┡━━━━━━━━━━━━━━━━━━━━━━━━━━━━━━━━━━━━━━╇━━━━━━━━━━━━━━━━━━━━━━━━━━━━━╇━━━━━━━━━━━━━━━━━┩\n",
              "│ embedding_2 (\u001b[38;5;33mEmbedding\u001b[0m)              │ (\u001b[38;5;45mNone\u001b[0m, \u001b[38;5;34m250\u001b[0m, \u001b[38;5;34m64\u001b[0m)             │         \u001b[38;5;34m640,000\u001b[0m │\n",
              "├──────────────────────────────────────┼─────────────────────────────┼─────────────────┤\n",
              "│ bidirectional_2 (\u001b[38;5;33mBidirectional\u001b[0m)      │ (\u001b[38;5;45mNone\u001b[0m, \u001b[38;5;34m250\u001b[0m, \u001b[38;5;34m128\u001b[0m)            │          \u001b[38;5;34m49,920\u001b[0m │\n",
              "├──────────────────────────────────────┼─────────────────────────────┼─────────────────┤\n",
              "│ bidirectional_3 (\u001b[38;5;33mBidirectional\u001b[0m)      │ (\u001b[38;5;45mNone\u001b[0m, \u001b[38;5;34m64\u001b[0m)                  │          \u001b[38;5;34m31,104\u001b[0m │\n",
              "├──────────────────────────────────────┼─────────────────────────────┼─────────────────┤\n",
              "│ dense_3 (\u001b[38;5;33mDense\u001b[0m)                      │ (\u001b[38;5;45mNone\u001b[0m, \u001b[38;5;34m64\u001b[0m)                  │           \u001b[38;5;34m4,160\u001b[0m │\n",
              "├──────────────────────────────────────┼─────────────────────────────┼─────────────────┤\n",
              "│ dropout_1 (\u001b[38;5;33mDropout\u001b[0m)                  │ (\u001b[38;5;45mNone\u001b[0m, \u001b[38;5;34m64\u001b[0m)                  │               \u001b[38;5;34m0\u001b[0m │\n",
              "├──────────────────────────────────────┼─────────────────────────────┼─────────────────┤\n",
              "│ dense_4 (\u001b[38;5;33mDense\u001b[0m)                      │ (\u001b[38;5;45mNone\u001b[0m, \u001b[38;5;34m1\u001b[0m)                   │              \u001b[38;5;34m65\u001b[0m │\n",
              "└──────────────────────────────────────┴─────────────────────────────┴─────────────────┘\n"
            ],
            "text/html": [
              "<pre style=\"white-space:pre;overflow-x:auto;line-height:normal;font-family:Menlo,'DejaVu Sans Mono',consolas,'Courier New',monospace\">┏━━━━━━━━━━━━━━━━━━━━━━━━━━━━━━━━━━━━━━┳━━━━━━━━━━━━━━━━━━━━━━━━━━━━━┳━━━━━━━━━━━━━━━━━┓\n",
              "┃<span style=\"font-weight: bold\"> Layer (type)                         </span>┃<span style=\"font-weight: bold\"> Output Shape                </span>┃<span style=\"font-weight: bold\">         Param # </span>┃\n",
              "┡━━━━━━━━━━━━━━━━━━━━━━━━━━━━━━━━━━━━━━╇━━━━━━━━━━━━━━━━━━━━━━━━━━━━━╇━━━━━━━━━━━━━━━━━┩\n",
              "│ embedding_2 (<span style=\"color: #0087ff; text-decoration-color: #0087ff\">Embedding</span>)              │ (<span style=\"color: #00d7ff; text-decoration-color: #00d7ff\">None</span>, <span style=\"color: #00af00; text-decoration-color: #00af00\">250</span>, <span style=\"color: #00af00; text-decoration-color: #00af00\">64</span>)             │         <span style=\"color: #00af00; text-decoration-color: #00af00\">640,000</span> │\n",
              "├──────────────────────────────────────┼─────────────────────────────┼─────────────────┤\n",
              "│ bidirectional_2 (<span style=\"color: #0087ff; text-decoration-color: #0087ff\">Bidirectional</span>)      │ (<span style=\"color: #00d7ff; text-decoration-color: #00d7ff\">None</span>, <span style=\"color: #00af00; text-decoration-color: #00af00\">250</span>, <span style=\"color: #00af00; text-decoration-color: #00af00\">128</span>)            │          <span style=\"color: #00af00; text-decoration-color: #00af00\">49,920</span> │\n",
              "├──────────────────────────────────────┼─────────────────────────────┼─────────────────┤\n",
              "│ bidirectional_3 (<span style=\"color: #0087ff; text-decoration-color: #0087ff\">Bidirectional</span>)      │ (<span style=\"color: #00d7ff; text-decoration-color: #00d7ff\">None</span>, <span style=\"color: #00af00; text-decoration-color: #00af00\">64</span>)                  │          <span style=\"color: #00af00; text-decoration-color: #00af00\">31,104</span> │\n",
              "├──────────────────────────────────────┼─────────────────────────────┼─────────────────┤\n",
              "│ dense_3 (<span style=\"color: #0087ff; text-decoration-color: #0087ff\">Dense</span>)                      │ (<span style=\"color: #00d7ff; text-decoration-color: #00d7ff\">None</span>, <span style=\"color: #00af00; text-decoration-color: #00af00\">64</span>)                  │           <span style=\"color: #00af00; text-decoration-color: #00af00\">4,160</span> │\n",
              "├──────────────────────────────────────┼─────────────────────────────┼─────────────────┤\n",
              "│ dropout_1 (<span style=\"color: #0087ff; text-decoration-color: #0087ff\">Dropout</span>)                  │ (<span style=\"color: #00d7ff; text-decoration-color: #00d7ff\">None</span>, <span style=\"color: #00af00; text-decoration-color: #00af00\">64</span>)                  │               <span style=\"color: #00af00; text-decoration-color: #00af00\">0</span> │\n",
              "├──────────────────────────────────────┼─────────────────────────────┼─────────────────┤\n",
              "│ dense_4 (<span style=\"color: #0087ff; text-decoration-color: #0087ff\">Dense</span>)                      │ (<span style=\"color: #00d7ff; text-decoration-color: #00d7ff\">None</span>, <span style=\"color: #00af00; text-decoration-color: #00af00\">1</span>)                   │              <span style=\"color: #00af00; text-decoration-color: #00af00\">65</span> │\n",
              "└──────────────────────────────────────┴─────────────────────────────┴─────────────────┘\n",
              "</pre>\n"
            ]
          },
          "metadata": {}
        },
        {
          "output_type": "display_data",
          "data": {
            "text/plain": [
              "\u001b[1m Total params: \u001b[0m\u001b[38;5;34m725,249\u001b[0m (2.77 MB)\n"
            ],
            "text/html": [
              "<pre style=\"white-space:pre;overflow-x:auto;line-height:normal;font-family:Menlo,'DejaVu Sans Mono',consolas,'Courier New',monospace\"><span style=\"font-weight: bold\"> Total params: </span><span style=\"color: #00af00; text-decoration-color: #00af00\">725,249</span> (2.77 MB)\n",
              "</pre>\n"
            ]
          },
          "metadata": {}
        },
        {
          "output_type": "display_data",
          "data": {
            "text/plain": [
              "\u001b[1m Trainable params: \u001b[0m\u001b[38;5;34m725,249\u001b[0m (2.77 MB)\n"
            ],
            "text/html": [
              "<pre style=\"white-space:pre;overflow-x:auto;line-height:normal;font-family:Menlo,'DejaVu Sans Mono',consolas,'Courier New',monospace\"><span style=\"font-weight: bold\"> Trainable params: </span><span style=\"color: #00af00; text-decoration-color: #00af00\">725,249</span> (2.77 MB)\n",
              "</pre>\n"
            ]
          },
          "metadata": {}
        },
        {
          "output_type": "display_data",
          "data": {
            "text/plain": [
              "\u001b[1m Non-trainable params: \u001b[0m\u001b[38;5;34m0\u001b[0m (0.00 B)\n"
            ],
            "text/html": [
              "<pre style=\"white-space:pre;overflow-x:auto;line-height:normal;font-family:Menlo,'DejaVu Sans Mono',consolas,'Courier New',monospace\"><span style=\"font-weight: bold\"> Non-trainable params: </span><span style=\"color: #00af00; text-decoration-color: #00af00\">0</span> (0.00 B)\n",
              "</pre>\n"
            ]
          },
          "metadata": {}
        }
      ]
    },
    {
      "cell_type": "code",
      "source": [
        "checkpoint_filepath = '/content/drive/MyDrive/nlp/sentiment_analysis/gru.h5'\n",
        "model_checkpoint_callback = tf.keras.callbacks.ModelCheckpoint(\n",
        "    filepath=checkpoint_filepath,\n",
        "    monitor='val_accuracy',\n",
        "    mode='max',\n",
        "    save_best_only=True)"
      ],
      "metadata": {
        "id": "XVuNvGwZOM8l"
      },
      "execution_count": 43,
      "outputs": []
    },
    {
      "cell_type": "code",
      "source": [
        "model.compile(loss=tf.keras.losses.BinaryCrossentropy(),\n",
        "              optimizer=tf.keras.optimizers.Adam(1e-4),\n",
        "              metrics=['accuracy'])"
      ],
      "metadata": {
        "id": "GQlgqTa9OOoU"
      },
      "execution_count": 44,
      "outputs": []
    },
    {
      "cell_type": "code",
      "source": [
        "history=model.fit(\n",
        "    train_dataset,\n",
        "    validation_data=val_dataset,\n",
        "    epochs=10,\n",
        "    callbacks=[])"
      ],
      "metadata": {
        "colab": {
          "base_uri": "https://localhost:8080/"
        },
        "id": "q-bKrRnzOQaX",
        "outputId": "66711e84-fc3d-476f-d328-5e758015f282"
      },
      "execution_count": 45,
      "outputs": [
        {
          "output_type": "stream",
          "name": "stdout",
          "text": [
            "Epoch 1/10\n",
            "\u001b[1m391/391\u001b[0m \u001b[32m━━━━━━━━━━━━━━━━━━━━\u001b[0m\u001b[37m\u001b[0m \u001b[1m339s\u001b[0m 841ms/step - accuracy: 0.5063 - loss: 0.6929 - val_accuracy: 0.5785 - val_loss: 0.6853\n",
            "Epoch 2/10\n",
            "\u001b[1m391/391\u001b[0m \u001b[32m━━━━━━━━━━━━━━━━━━━━\u001b[0m\u001b[37m\u001b[0m \u001b[1m322s\u001b[0m 824ms/step - accuracy: 0.6879 - loss: 0.5848 - val_accuracy: 0.8404 - val_loss: 0.3665\n",
            "Epoch 3/10\n",
            "\u001b[1m391/391\u001b[0m \u001b[32m━━━━━━━━━━━━━━━━━━━━\u001b[0m\u001b[37m\u001b[0m \u001b[1m319s\u001b[0m 817ms/step - accuracy: 0.8743 - loss: 0.3182 - val_accuracy: 0.8457 - val_loss: 0.3619\n",
            "Epoch 4/10\n",
            "\u001b[1m391/391\u001b[0m \u001b[32m━━━━━━━━━━━━━━━━━━━━\u001b[0m\u001b[37m\u001b[0m \u001b[1m319s\u001b[0m 815ms/step - accuracy: 0.9066 - loss: 0.2477 - val_accuracy: 0.8450 - val_loss: 0.3771\n",
            "Epoch 5/10\n",
            "\u001b[1m391/391\u001b[0m \u001b[32m━━━━━━━━━━━━━━━━━━━━\u001b[0m\u001b[37m\u001b[0m \u001b[1m322s\u001b[0m 816ms/step - accuracy: 0.9241 - loss: 0.2155 - val_accuracy: 0.8543 - val_loss: 0.3759\n",
            "Epoch 6/10\n",
            "\u001b[1m391/391\u001b[0m \u001b[32m━━━━━━━━━━━━━━━━━━━━\u001b[0m\u001b[37m\u001b[0m \u001b[1m319s\u001b[0m 817ms/step - accuracy: 0.9282 - loss: 0.2007 - val_accuracy: 0.8510 - val_loss: 0.4155\n",
            "Epoch 7/10\n",
            "\u001b[1m391/391\u001b[0m \u001b[32m━━━━━━━━━━━━━━━━━━━━\u001b[0m\u001b[37m\u001b[0m \u001b[1m319s\u001b[0m 817ms/step - accuracy: 0.9346 - loss: 0.1838 - val_accuracy: 0.8506 - val_loss: 0.4425\n",
            "Epoch 8/10\n",
            "\u001b[1m391/391\u001b[0m \u001b[32m━━━━━━━━━━━━━━━━━━━━\u001b[0m\u001b[37m\u001b[0m \u001b[1m326s\u001b[0m 827ms/step - accuracy: 0.9489 - loss: 0.1579 - val_accuracy: 0.8510 - val_loss: 0.4646\n",
            "Epoch 9/10\n",
            "\u001b[1m391/391\u001b[0m \u001b[32m━━━━━━━━━━━━━━━━━━━━\u001b[0m\u001b[37m\u001b[0m \u001b[1m330s\u001b[0m 844ms/step - accuracy: 0.9567 - loss: 0.1408 - val_accuracy: 0.8482 - val_loss: 0.4555\n",
            "Epoch 10/10\n",
            "\u001b[1m391/391\u001b[0m \u001b[32m━━━━━━━━━━━━━━━━━━━━\u001b[0m\u001b[37m\u001b[0m \u001b[1m387s\u001b[0m 856ms/step - accuracy: 0.9546 - loss: 0.1393 - val_accuracy: 0.8314 - val_loss: 0.4900\n"
          ]
        }
      ]
    },
    {
      "cell_type": "code",
      "source": [
        "plt.plot(history.history['loss'])\n",
        "plt.plot(history.history['val_loss'])\n",
        "plt.title('model_loss')\n",
        "plt.ylabel('loss')\n",
        "plt.xlabel('epoch')\n",
        "plt.legend(['train', 'val'], loc='upper left')\n",
        "plt.show()"
      ],
      "metadata": {
        "colab": {
          "base_uri": "https://localhost:8080/",
          "height": 472
        },
        "id": "G1xo0lmWORuf",
        "outputId": "abcf5db6-65e2-494d-8cca-d4247ccbb8ea"
      },
      "execution_count": 46,
      "outputs": [
        {
          "output_type": "display_data",
          "data": {
            "text/plain": [
              "<Figure size 640x480 with 1 Axes>"
            ],
            "image/png": "[encoded data removed]"
          },
          "metadata": {}
        }
      ]
    },
    {
      "cell_type": "code",
      "source": [
        "plt.plot(history.history['accuracy'])\n",
        "plt.plot(history.history['val_accuracy'])\n",
        "\n",
        "plt.title('model_accuracy')\n",
        "plt.ylabel('accuracy')\n",
        "plt.xlabel('epoch')\n",
        "plt.legend(['train', 'val'], loc='upper left')\n",
        "plt.show()"
      ],
      "metadata": {
        "colab": {
          "base_uri": "https://localhost:8080/",
          "height": 472
        },
        "id": "81hZLT0EOTO8",
        "outputId": "e4c57f62-7298-4748-ecaf-ab305674c37c"
      },
      "execution_count": 47,
      "outputs": [
        {
          "output_type": "display_data",
          "data": {
            "text/plain": [
              "<Figure size 640x480 with 1 Axes>"
            ],
            "image/png": "[encoded data removed]"
          },
          "metadata": {}
        }
      ]
    },
    {
      "cell_type": "markdown",
      "source": [
        "### Evaluation"
      ],
      "metadata": {
        "id": "ydLDqxQ-OXZW"
      }
    },
    {
      "cell_type": "code",
      "source": [
        "test_dataset=test_ds.map(vectorizer)\n",
        "test_dataset=test_dataset.batch(BATCH_SIZE)\n",
        "model.evaluate(test_dataset)"
      ],
      "metadata": {
        "colab": {
          "base_uri": "https://localhost:8080/"
        },
        "id": "FsGrcB2YOWlp",
        "outputId": "dc95da94-31ba-4f9f-b05e-209b6ddb2d65"
      },
      "execution_count": 48,
      "outputs": [
        {
          "output_type": "stream",
          "name": "stdout",
          "text": [
            "\u001b[1m196/196\u001b[0m \u001b[32m━━━━━━━━━━━━━━━━━━━━\u001b[0m\u001b[37m\u001b[0m \u001b[1m35s\u001b[0m 175ms/step - accuracy: 0.8281 - loss: 0.5079\n"
          ]
        },
        {
          "output_type": "execute_result",
          "data": {
            "text/plain": [
              "[0.5003913044929504, 0.8286399841308594]"
            ]
          },
          "metadata": {},
          "execution_count": 48
        }
      ]
    },
    {
      "cell_type": "markdown",
      "source": [
        "## Conv1D"
      ],
      "metadata": {
        "id": "oyuWXbbDOcKY"
      }
    },
    {
      "cell_type": "code",
      "source": [
        "EMBEDDING_DIM=300\n",
        "model=tf.keras.models.Sequential([\n",
        "    Input(shape=(SEQUENCE_LENGTH,)),\n",
        "    Embedding(VOCAB_SIZE,EMBEDDING_DIM),\n",
        "\n",
        "    Conv1D(32, 3, activation='relu',),\n",
        "    Flatten(),\n",
        "    Dense(32, activation='relu'),\n",
        "    Dropout(0.5),\n",
        "    Dense(1,activation='sigmoid'),\n",
        "])\n",
        "model.summary()"
      ],
      "metadata": {
        "colab": {
          "base_uri": "https://localhost:8080/",
          "height": 336
        },
        "id": "Hlxo_9qjOdjM",
        "outputId": "57a1ff46-b221-4ec5-f359-e4974de2e2b2"
      },
      "execution_count": 49,
      "outputs": [
        {
          "output_type": "display_data",
          "data": {
            "text/plain": [
              "\u001b[1mModel: \"sequential_3\"\u001b[0m\n"
            ],
            "text/html": [
              "<pre style=\"white-space:pre;overflow-x:auto;line-height:normal;font-family:Menlo,'DejaVu Sans Mono',consolas,'Courier New',monospace\"><span style=\"font-weight: bold\">Model: \"sequential_3\"</span>\n",
              "</pre>\n"
            ]
          },
          "metadata": {}
        },
        {
          "output_type": "display_data",
          "data": {
            "text/plain": [
              "┏━━━━━━━━━━━━━━━━━━━━━━━━━━━━━━━━━━━━━━┳━━━━━━━━━━━━━━━━━━━━━━━━━━━━━┳━━━━━━━━━━━━━━━━━┓\n",
              "┃\u001b[1m \u001b[0m\u001b[1mLayer (type)                        \u001b[0m\u001b[1m \u001b[0m┃\u001b[1m \u001b[0m\u001b[1mOutput Shape               \u001b[0m\u001b[1m \u001b[0m┃\u001b[1m \u001b[0m\u001b[1m        Param #\u001b[0m\u001b[1m \u001b[0m┃\n",
              "┡━━━━━━━━━━━━━━━━━━━━━━━━━━━━━━━━━━━━━━╇━━━━━━━━━━━━━━━━━━━━━━━━━━━━━╇━━━━━━━━━━━━━━━━━┩\n",
              "│ embedding_3 (\u001b[38;5;33mEmbedding\u001b[0m)              │ (\u001b[38;5;45mNone\u001b[0m, \u001b[38;5;34m250\u001b[0m, \u001b[38;5;34m300\u001b[0m)            │       \u001b[38;5;34m3,000,000\u001b[0m │\n",
              "├──────────────────────────────────────┼─────────────────────────────┼─────────────────┤\n",
              "│ conv1d (\u001b[38;5;33mConv1D\u001b[0m)                      │ (\u001b[38;5;45mNone\u001b[0m, \u001b[38;5;34m248\u001b[0m, \u001b[38;5;34m32\u001b[0m)             │          \u001b[38;5;34m28,832\u001b[0m │\n",
              "├──────────────────────────────────────┼─────────────────────────────┼─────────────────┤\n",
              "│ flatten (\u001b[38;5;33mFlatten\u001b[0m)                    │ (\u001b[38;5;45mNone\u001b[0m, \u001b[38;5;34m7936\u001b[0m)                │               \u001b[38;5;34m0\u001b[0m │\n",
              "├──────────────────────────────────────┼─────────────────────────────┼─────────────────┤\n",
              "│ dense_5 (\u001b[38;5;33mDense\u001b[0m)                      │ (\u001b[38;5;45mNone\u001b[0m, \u001b[38;5;34m32\u001b[0m)                  │         \u001b[38;5;34m253,984\u001b[0m │\n",
              "├──────────────────────────────────────┼─────────────────────────────┼─────────────────┤\n",
              "│ dropout_2 (\u001b[38;5;33mDropout\u001b[0m)                  │ (\u001b[38;5;45mNone\u001b[0m, \u001b[38;5;34m32\u001b[0m)                  │               \u001b[38;5;34m0\u001b[0m │\n",
              "├──────────────────────────────────────┼─────────────────────────────┼─────────────────┤\n",
              "│ dense_6 (\u001b[38;5;33mDense\u001b[0m)                      │ (\u001b[38;5;45mNone\u001b[0m, \u001b[38;5;34m1\u001b[0m)                   │              \u001b[38;5;34m33\u001b[0m │\n",
              "└──────────────────────────────────────┴─────────────────────────────┴─────────────────┘\n"
            ],
            "text/html": [
              "<pre style=\"white-space:pre;overflow-x:auto;line-height:normal;font-family:Menlo,'DejaVu Sans Mono',consolas,'Courier New',monospace\">┏━━━━━━━━━━━━━━━━━━━━━━━━━━━━━━━━━━━━━━┳━━━━━━━━━━━━━━━━━━━━━━━━━━━━━┳━━━━━━━━━━━━━━━━━┓\n",
              "┃<span style=\"font-weight: bold\"> Layer (type)                         </span>┃<span style=\"font-weight: bold\"> Output Shape                </span>┃<span style=\"font-weight: bold\">         Param # </span>┃\n",
              "┡━━━━━━━━━━━━━━━━━━━━━━━━━━━━━━━━━━━━━━╇━━━━━━━━━━━━━━━━━━━━━━━━━━━━━╇━━━━━━━━━━━━━━━━━┩\n",
              "│ embedding_3 (<span style=\"color: #0087ff; text-decoration-color: #0087ff\">Embedding</span>)              │ (<span style=\"color: #00d7ff; text-decoration-color: #00d7ff\">None</span>, <span style=\"color: #00af00; text-decoration-color: #00af00\">250</span>, <span style=\"color: #00af00; text-decoration-color: #00af00\">300</span>)            │       <span style=\"color: #00af00; text-decoration-color: #00af00\">3,000,000</span> │\n",
              "├──────────────────────────────────────┼─────────────────────────────┼─────────────────┤\n",
              "│ conv1d (<span style=\"color: #0087ff; text-decoration-color: #0087ff\">Conv1D</span>)                      │ (<span style=\"color: #00d7ff; text-decoration-color: #00d7ff\">None</span>, <span style=\"color: #00af00; text-decoration-color: #00af00\">248</span>, <span style=\"color: #00af00; text-decoration-color: #00af00\">32</span>)             │          <span style=\"color: #00af00; text-decoration-color: #00af00\">28,832</span> │\n",
              "├──────────────────────────────────────┼─────────────────────────────┼─────────────────┤\n",
              "│ flatten (<span style=\"color: #0087ff; text-decoration-color: #0087ff\">Flatten</span>)                    │ (<span style=\"color: #00d7ff; text-decoration-color: #00d7ff\">None</span>, <span style=\"color: #00af00; text-decoration-color: #00af00\">7936</span>)                │               <span style=\"color: #00af00; text-decoration-color: #00af00\">0</span> │\n",
              "├──────────────────────────────────────┼─────────────────────────────┼─────────────────┤\n",
              "│ dense_5 (<span style=\"color: #0087ff; text-decoration-color: #0087ff\">Dense</span>)                      │ (<span style=\"color: #00d7ff; text-decoration-color: #00d7ff\">None</span>, <span style=\"color: #00af00; text-decoration-color: #00af00\">32</span>)                  │         <span style=\"color: #00af00; text-decoration-color: #00af00\">253,984</span> │\n",
              "├──────────────────────────────────────┼─────────────────────────────┼─────────────────┤\n",
              "│ dropout_2 (<span style=\"color: #0087ff; text-decoration-color: #0087ff\">Dropout</span>)                  │ (<span style=\"color: #00d7ff; text-decoration-color: #00d7ff\">None</span>, <span style=\"color: #00af00; text-decoration-color: #00af00\">32</span>)                  │               <span style=\"color: #00af00; text-decoration-color: #00af00\">0</span> │\n",
              "├──────────────────────────────────────┼─────────────────────────────┼─────────────────┤\n",
              "│ dense_6 (<span style=\"color: #0087ff; text-decoration-color: #0087ff\">Dense</span>)                      │ (<span style=\"color: #00d7ff; text-decoration-color: #00d7ff\">None</span>, <span style=\"color: #00af00; text-decoration-color: #00af00\">1</span>)                   │              <span style=\"color: #00af00; text-decoration-color: #00af00\">33</span> │\n",
              "└──────────────────────────────────────┴─────────────────────────────┴─────────────────┘\n",
              "</pre>\n"
            ]
          },
          "metadata": {}
        },
        {
          "output_type": "display_data",
          "data": {
            "text/plain": [
              "\u001b[1m Total params: \u001b[0m\u001b[38;5;34m3,282,849\u001b[0m (12.52 MB)\n"
            ],
            "text/html": [
              "<pre style=\"white-space:pre;overflow-x:auto;line-height:normal;font-family:Menlo,'DejaVu Sans Mono',consolas,'Courier New',monospace\"><span style=\"font-weight: bold\"> Total params: </span><span style=\"color: #00af00; text-decoration-color: #00af00\">3,282,849</span> (12.52 MB)\n",
              "</pre>\n"
            ]
          },
          "metadata": {}
        },
        {
          "output_type": "display_data",
          "data": {
            "text/plain": [
              "\u001b[1m Trainable params: \u001b[0m\u001b[38;5;34m3,282,849\u001b[0m (12.52 MB)\n"
            ],
            "text/html": [
              "<pre style=\"white-space:pre;overflow-x:auto;line-height:normal;font-family:Menlo,'DejaVu Sans Mono',consolas,'Courier New',monospace\"><span style=\"font-weight: bold\"> Trainable params: </span><span style=\"color: #00af00; text-decoration-color: #00af00\">3,282,849</span> (12.52 MB)\n",
              "</pre>\n"
            ]
          },
          "metadata": {}
        },
        {
          "output_type": "display_data",
          "data": {
            "text/plain": [
              "\u001b[1m Non-trainable params: \u001b[0m\u001b[38;5;34m0\u001b[0m (0.00 B)\n"
            ],
            "text/html": [
              "<pre style=\"white-space:pre;overflow-x:auto;line-height:normal;font-family:Menlo,'DejaVu Sans Mono',consolas,'Courier New',monospace\"><span style=\"font-weight: bold\"> Non-trainable params: </span><span style=\"color: #00af00; text-decoration-color: #00af00\">0</span> (0.00 B)\n",
              "</pre>\n"
            ]
          },
          "metadata": {}
        }
      ]
    },
    {
      "cell_type": "code",
      "source": [
        "model = tf.keras.models.Sequential([\n",
        "    Input(shape=(SEQUENCE_LENGTH,), dtype=\"int64\"),  # Added input shape here\n",
        "    Embedding(VOCAB_SIZE, EMBEDDING_DIM),\n",
        "    Conv1D(32, 3, activation='relu'),\n",
        "    Flatten(),\n",
        "    Dense(32, activation='relu'),\n",
        "    Dropout(0.5),\n",
        "    Dense(1, activation='sigmoid'),\n",
        "])\n",
        "model.summary()"
      ],
      "metadata": {
        "colab": {
          "base_uri": "https://localhost:8080/",
          "height": 336
        },
        "id": "XlN7YLzhOguE",
        "outputId": "04736581-e189-4a89-a027-594d9d3812ab"
      },
      "execution_count": 50,
      "outputs": [
        {
          "output_type": "display_data",
          "data": {
            "text/plain": [
              "\u001b[1mModel: \"sequential_4\"\u001b[0m\n"
            ],
            "text/html": [
              "<pre style=\"white-space:pre;overflow-x:auto;line-height:normal;font-family:Menlo,'DejaVu Sans Mono',consolas,'Courier New',monospace\"><span style=\"font-weight: bold\">Model: \"sequential_4\"</span>\n",
              "</pre>\n"
            ]
          },
          "metadata": {}
        },
        {
          "output_type": "display_data",
          "data": {
            "text/plain": [
              "┏━━━━━━━━━━━━━━━━━━━━━━━━━━━━━━━━━━━━━━┳━━━━━━━━━━━━━━━━━━━━━━━━━━━━━┳━━━━━━━━━━━━━━━━━┓\n",
              "┃\u001b[1m \u001b[0m\u001b[1mLayer (type)                        \u001b[0m\u001b[1m \u001b[0m┃\u001b[1m \u001b[0m\u001b[1mOutput Shape               \u001b[0m\u001b[1m \u001b[0m┃\u001b[1m \u001b[0m\u001b[1m        Param #\u001b[0m\u001b[1m \u001b[0m┃\n",
              "┡━━━━━━━━━━━━━━━━━━━━━━━━━━━━━━━━━━━━━━╇━━━━━━━━━━━━━━━━━━━━━━━━━━━━━╇━━━━━━━━━━━━━━━━━┩\n",
              "│ embedding_4 (\u001b[38;5;33mEmbedding\u001b[0m)              │ (\u001b[38;5;45mNone\u001b[0m, \u001b[38;5;34m250\u001b[0m, \u001b[38;5;34m300\u001b[0m)            │       \u001b[38;5;34m3,000,000\u001b[0m │\n",
              "├──────────────────────────────────────┼─────────────────────────────┼─────────────────┤\n",
              "│ conv1d_1 (\u001b[38;5;33mConv1D\u001b[0m)                    │ (\u001b[38;5;45mNone\u001b[0m, \u001b[38;5;34m248\u001b[0m, \u001b[38;5;34m32\u001b[0m)             │          \u001b[38;5;34m28,832\u001b[0m │\n",
              "├──────────────────────────────────────┼─────────────────────────────┼─────────────────┤\n",
              "│ flatten_1 (\u001b[38;5;33mFlatten\u001b[0m)                  │ (\u001b[38;5;45mNone\u001b[0m, \u001b[38;5;34m7936\u001b[0m)                │               \u001b[38;5;34m0\u001b[0m │\n",
              "├──────────────────────────────────────┼─────────────────────────────┼─────────────────┤\n",
              "│ dense_7 (\u001b[38;5;33mDense\u001b[0m)                      │ (\u001b[38;5;45mNone\u001b[0m, \u001b[38;5;34m32\u001b[0m)                  │         \u001b[38;5;34m253,984\u001b[0m │\n",
              "├──────────────────────────────────────┼─────────────────────────────┼─────────────────┤\n",
              "│ dropout_3 (\u001b[38;5;33mDropout\u001b[0m)                  │ (\u001b[38;5;45mNone\u001b[0m, \u001b[38;5;34m32\u001b[0m)                  │               \u001b[38;5;34m0\u001b[0m │\n",
              "├──────────────────────────────────────┼─────────────────────────────┼─────────────────┤\n",
              "│ dense_8 (\u001b[38;5;33mDense\u001b[0m)                      │ (\u001b[38;5;45mNone\u001b[0m, \u001b[38;5;34m1\u001b[0m)                   │              \u001b[38;5;34m33\u001b[0m │\n",
              "└──────────────────────────────────────┴─────────────────────────────┴─────────────────┘\n"
            ],
            "text/html": [
              "<pre style=\"white-space:pre;overflow-x:auto;line-height:normal;font-family:Menlo,'DejaVu Sans Mono',consolas,'Courier New',monospace\">┏━━━━━━━━━━━━━━━━━━━━━━━━━━━━━━━━━━━━━━┳━━━━━━━━━━━━━━━━━━━━━━━━━━━━━┳━━━━━━━━━━━━━━━━━┓\n",
              "┃<span style=\"font-weight: bold\"> Layer (type)                         </span>┃<span style=\"font-weight: bold\"> Output Shape                </span>┃<span style=\"font-weight: bold\">         Param # </span>┃\n",
              "┡━━━━━━━━━━━━━━━━━━━━━━━━━━━━━━━━━━━━━━╇━━━━━━━━━━━━━━━━━━━━━━━━━━━━━╇━━━━━━━━━━━━━━━━━┩\n",
              "│ embedding_4 (<span style=\"color: #0087ff; text-decoration-color: #0087ff\">Embedding</span>)              │ (<span style=\"color: #00d7ff; text-decoration-color: #00d7ff\">None</span>, <span style=\"color: #00af00; text-decoration-color: #00af00\">250</span>, <span style=\"color: #00af00; text-decoration-color: #00af00\">300</span>)            │       <span style=\"color: #00af00; text-decoration-color: #00af00\">3,000,000</span> │\n",
              "├──────────────────────────────────────┼─────────────────────────────┼─────────────────┤\n",
              "│ conv1d_1 (<span style=\"color: #0087ff; text-decoration-color: #0087ff\">Conv1D</span>)                    │ (<span style=\"color: #00d7ff; text-decoration-color: #00d7ff\">None</span>, <span style=\"color: #00af00; text-decoration-color: #00af00\">248</span>, <span style=\"color: #00af00; text-decoration-color: #00af00\">32</span>)             │          <span style=\"color: #00af00; text-decoration-color: #00af00\">28,832</span> │\n",
              "├──────────────────────────────────────┼─────────────────────────────┼─────────────────┤\n",
              "│ flatten_1 (<span style=\"color: #0087ff; text-decoration-color: #0087ff\">Flatten</span>)                  │ (<span style=\"color: #00d7ff; text-decoration-color: #00d7ff\">None</span>, <span style=\"color: #00af00; text-decoration-color: #00af00\">7936</span>)                │               <span style=\"color: #00af00; text-decoration-color: #00af00\">0</span> │\n",
              "├──────────────────────────────────────┼─────────────────────────────┼─────────────────┤\n",
              "│ dense_7 (<span style=\"color: #0087ff; text-decoration-color: #0087ff\">Dense</span>)                      │ (<span style=\"color: #00d7ff; text-decoration-color: #00d7ff\">None</span>, <span style=\"color: #00af00; text-decoration-color: #00af00\">32</span>)                  │         <span style=\"color: #00af00; text-decoration-color: #00af00\">253,984</span> │\n",
              "├──────────────────────────────────────┼─────────────────────────────┼─────────────────┤\n",
              "│ dropout_3 (<span style=\"color: #0087ff; text-decoration-color: #0087ff\">Dropout</span>)                  │ (<span style=\"color: #00d7ff; text-decoration-color: #00d7ff\">None</span>, <span style=\"color: #00af00; text-decoration-color: #00af00\">32</span>)                  │               <span style=\"color: #00af00; text-decoration-color: #00af00\">0</span> │\n",
              "├──────────────────────────────────────┼─────────────────────────────┼─────────────────┤\n",
              "│ dense_8 (<span style=\"color: #0087ff; text-decoration-color: #0087ff\">Dense</span>)                      │ (<span style=\"color: #00d7ff; text-decoration-color: #00d7ff\">None</span>, <span style=\"color: #00af00; text-decoration-color: #00af00\">1</span>)                   │              <span style=\"color: #00af00; text-decoration-color: #00af00\">33</span> │\n",
              "└──────────────────────────────────────┴─────────────────────────────┴─────────────────┘\n",
              "</pre>\n"
            ]
          },
          "metadata": {}
        },
        {
          "output_type": "display_data",
          "data": {
            "text/plain": [
              "\u001b[1m Total params: \u001b[0m\u001b[38;5;34m3,282,849\u001b[0m (12.52 MB)\n"
            ],
            "text/html": [
              "<pre style=\"white-space:pre;overflow-x:auto;line-height:normal;font-family:Menlo,'DejaVu Sans Mono',consolas,'Courier New',monospace\"><span style=\"font-weight: bold\"> Total params: </span><span style=\"color: #00af00; text-decoration-color: #00af00\">3,282,849</span> (12.52 MB)\n",
              "</pre>\n"
            ]
          },
          "metadata": {}
        },
        {
          "output_type": "display_data",
          "data": {
            "text/plain": [
              "\u001b[1m Trainable params: \u001b[0m\u001b[38;5;34m3,282,849\u001b[0m (12.52 MB)\n"
            ],
            "text/html": [
              "<pre style=\"white-space:pre;overflow-x:auto;line-height:normal;font-family:Menlo,'DejaVu Sans Mono',consolas,'Courier New',monospace\"><span style=\"font-weight: bold\"> Trainable params: </span><span style=\"color: #00af00; text-decoration-color: #00af00\">3,282,849</span> (12.52 MB)\n",
              "</pre>\n"
            ]
          },
          "metadata": {}
        },
        {
          "output_type": "display_data",
          "data": {
            "text/plain": [
              "\u001b[1m Non-trainable params: \u001b[0m\u001b[38;5;34m0\u001b[0m (0.00 B)\n"
            ],
            "text/html": [
              "<pre style=\"white-space:pre;overflow-x:auto;line-height:normal;font-family:Menlo,'DejaVu Sans Mono',consolas,'Courier New',monospace\"><span style=\"font-weight: bold\"> Non-trainable params: </span><span style=\"color: #00af00; text-decoration-color: #00af00\">0</span> (0.00 B)\n",
              "</pre>\n"
            ]
          },
          "metadata": {}
        }
      ]
    },
    {
      "cell_type": "code",
      "source": [
        "checkpoint_filepath = '/content/drive/MyDrive/nlp/sentiment_analysis/conv_1d.h5'\n",
        "model_checkpoint_callback = tf.keras.callbacks.ModelCheckpoint(\n",
        "    filepath=checkpoint_filepath,\n",
        "    monitor='val_accuracy',\n",
        "    mode='max',\n",
        "    save_best_only=True)"
      ],
      "metadata": {
        "id": "2BzdbctPOia8"
      },
      "execution_count": 51,
      "outputs": []
    },
    {
      "cell_type": "code",
      "source": [
        "model.compile(loss=tf.keras.losses.BinaryCrossentropy(),\n",
        "              optimizer=tf.keras.optimizers.Adam(1e-4),\n",
        "              metrics=['accuracy'],\n",
        "              run_eagerly=True)"
      ],
      "metadata": {
        "id": "XBeXhaLJOkCl"
      },
      "execution_count": 52,
      "outputs": []
    },
    {
      "cell_type": "code",
      "source": [
        "history=model.fit(\n",
        "    train_dataset,\n",
        "    validation_data=val_dataset,\n",
        "    epochs=10,\n",
        "    callbacks=[model_checkpoint_callback])"
      ],
      "metadata": {
        "colab": {
          "base_uri": "https://localhost:8080/"
        },
        "id": "FseSJ9bnOl1G",
        "outputId": "4fa7e200-8a4e-4f32-8e06-043867d5179b"
      },
      "execution_count": 53,
      "outputs": [
        {
          "output_type": "stream",
          "name": "stdout",
          "text": [
            "Epoch 1/10\n",
            "\u001b[1m391/391\u001b[0m \u001b[32m━━━━━━━━━━━━━━━━━━━━\u001b[0m\u001b[37m\u001b[0m \u001b[1m0s\u001b[0m 251ms/step - accuracy: 0.4994 - loss: 0.6932"
          ]
        },
        {
          "output_type": "stream",
          "name": "stderr",
          "text": [
            "WARNING:absl:You are saving your model as an HDF5 file via `model.save()` or `keras.saving.save_model(model)`. This file format is considered legacy. We recommend using instead the native Keras format, e.g. `model.save('my_model.keras')` or `keras.saving.save_model(model, 'my_model.keras')`. \n"
          ]
        },
        {
          "output_type": "stream",
          "name": "stdout",
          "text": [
            "\b\b\b\b\b\b\b\b\b\b\b\b\b\b\b\b\b\b\b\b\b\b\b\b\b\b\b\b\b\b\b\b\b\b\b\b\b\b\b\b\b\b\b\b\b\b\b\b\b\b\b\b\b\b\b\b\b\b\b\b\b\b\b\b\b\b\b\b\b\b\b\b\b\b\b\b\r\u001b[1m391/391\u001b[0m \u001b[32m━━━━━━━━━━━━━━━━━━━━\u001b[0m\u001b[37m\u001b[0m \u001b[1m110s\u001b[0m 280ms/step - accuracy: 0.4994 - loss: 0.6932 - val_accuracy: 0.5486 - val_loss: 0.6896\n",
            "Epoch 2/10\n",
            "\u001b[1m391/391\u001b[0m \u001b[32m━━━━━━━━━━━━━━━━━━━━\u001b[0m\u001b[37m\u001b[0m \u001b[1m0s\u001b[0m 253ms/step - accuracy: 0.6335 - loss: 0.6416"
          ]
        },
        {
          "output_type": "stream",
          "name": "stderr",
          "text": [
            "WARNING:absl:You are saving your model as an HDF5 file via `model.save()` or `keras.saving.save_model(model)`. This file format is considered legacy. We recommend using instead the native Keras format, e.g. `model.save('my_model.keras')` or `keras.saving.save_model(model, 'my_model.keras')`. \n"
          ]
        },
        {
          "output_type": "stream",
          "name": "stdout",
          "text": [
            "\b\b\b\b\b\b\b\b\b\b\b\b\b\b\b\b\b\b\b\b\b\b\b\b\b\b\b\b\b\b\b\b\b\b\b\b\b\b\b\b\b\b\b\b\b\b\b\b\b\b\b\b\b\b\b\b\b\b\b\b\b\b\b\b\b\b\b\b\b\b\b\b\b\b\b\b\r\u001b[1m391/391\u001b[0m \u001b[32m━━━━━━━━━━━━━━━━━━━━\u001b[0m\u001b[37m\u001b[0m \u001b[1m110s\u001b[0m 282ms/step - accuracy: 0.6337 - loss: 0.6414 - val_accuracy: 0.8514 - val_loss: 0.3602\n",
            "Epoch 3/10\n",
            "\u001b[1m391/391\u001b[0m \u001b[32m━━━━━━━━━━━━━━━━━━━━\u001b[0m\u001b[37m\u001b[0m \u001b[1m0s\u001b[0m 250ms/step - accuracy: 0.8667 - loss: 0.3258"
          ]
        },
        {
          "output_type": "stream",
          "name": "stderr",
          "text": [
            "WARNING:absl:You are saving your model as an HDF5 file via `model.save()` or `keras.saving.save_model(model)`. This file format is considered legacy. We recommend using instead the native Keras format, e.g. `model.save('my_model.keras')` or `keras.saving.save_model(model, 'my_model.keras')`. \n"
          ]
        },
        {
          "output_type": "stream",
          "name": "stdout",
          "text": [
            "\b\b\b\b\b\b\b\b\b\b\b\b\b\b\b\b\b\b\b\b\b\b\b\b\b\b\b\b\b\b\b\b\b\b\b\b\b\b\b\b\b\b\b\b\b\b\b\b\b\b\b\b\b\b\b\b\b\b\b\b\b\b\b\b\b\b\b\b\b\b\b\b\b\b\b\b\r\u001b[1m391/391\u001b[0m \u001b[32m━━━━━━━━━━━━━━━━━━━━\u001b[0m\u001b[37m\u001b[0m \u001b[1m110s\u001b[0m 280ms/step - accuracy: 0.8667 - loss: 0.3257 - val_accuracy: 0.8712 - val_loss: 0.3114\n",
            "Epoch 4/10\n",
            "\u001b[1m391/391\u001b[0m \u001b[32m━━━━━━━━━━━━━━━━━━━━\u001b[0m\u001b[37m\u001b[0m \u001b[1m107s\u001b[0m 275ms/step - accuracy: 0.9129 - loss: 0.2365 - val_accuracy: 0.8682 - val_loss: 0.3144\n",
            "Epoch 5/10\n",
            "\u001b[1m391/391\u001b[0m \u001b[32m━━━━━━━━━━━━━━━━━━━━\u001b[0m\u001b[37m\u001b[0m \u001b[1m105s\u001b[0m 269ms/step - accuracy: 0.9363 - loss: 0.1852 - val_accuracy: 0.8645 - val_loss: 0.3437\n",
            "Epoch 6/10\n",
            "\u001b[1m391/391\u001b[0m \u001b[32m━━━━━━━━━━━━━━━━━━━━\u001b[0m\u001b[37m\u001b[0m \u001b[1m114s\u001b[0m 292ms/step - accuracy: 0.9502 - loss: 0.1509 - val_accuracy: 0.8611 - val_loss: 0.3622\n",
            "Epoch 7/10\n",
            "\u001b[1m391/391\u001b[0m \u001b[32m━━━━━━━━━━━━━━━━━━━━\u001b[0m\u001b[37m\u001b[0m \u001b[1m142s\u001b[0m 293ms/step - accuracy: 0.9588 - loss: 0.1325 - val_accuracy: 0.8590 - val_loss: 0.3792\n",
            "Epoch 8/10\n",
            "\u001b[1m391/391\u001b[0m \u001b[32m━━━━━━━━━━━━━━━━━━━━\u001b[0m\u001b[37m\u001b[0m \u001b[1m132s\u001b[0m 268ms/step - accuracy: 0.9621 - loss: 0.1155 - val_accuracy: 0.8509 - val_loss: 0.4128\n",
            "Epoch 9/10\n",
            "\u001b[1m391/391\u001b[0m \u001b[32m━━━━━━━━━━━━━━━━━━━━\u001b[0m\u001b[37m\u001b[0m \u001b[1m115s\u001b[0m 294ms/step - accuracy: 0.9718 - loss: 0.0972 - val_accuracy: 0.8583 - val_loss: 0.4073\n",
            "Epoch 10/10\n",
            "\u001b[1m391/391\u001b[0m \u001b[32m━━━━━━━━━━━━━━━━━━━━\u001b[0m\u001b[37m\u001b[0m \u001b[1m114s\u001b[0m 292ms/step - accuracy: 0.9800 - loss: 0.0795 - val_accuracy: 0.8565 - val_loss: 0.4366\n"
          ]
        }
      ]
    },
    {
      "cell_type": "code",
      "source": [
        "plt.plot(history.history['loss'])\n",
        "plt.plot(history.history['val_loss'])\n",
        "plt.title('model_loss')\n",
        "plt.ylabel('loss')\n",
        "plt.xlabel('epoch')\n",
        "plt.legend(['train', 'val'], loc='upper left')\n",
        "plt.show()"
      ],
      "metadata": {
        "colab": {
          "base_uri": "https://localhost:8080/",
          "height": 472
        },
        "id": "lI_23qnsOoHs",
        "outputId": "c16e95f0-c2db-4421-b7d0-d8d33bfac9f0"
      },
      "execution_count": 54,
      "outputs": [
        {
          "output_type": "display_data",
          "data": {
            "text/plain": [
              "<Figure size 640x480 with 1 Axes>"
            ],
            "image/png": "[encoded data removed]"
          },
          "metadata": {}
        }
      ]
    },
    {
      "cell_type": "code",
      "source": [
        "plt.plot(history.history['accuracy'])\n",
        "plt.plot(history.history['val_accuracy'])\n",
        "\n",
        "plt.title('model_accuracy')\n",
        "plt.ylabel('accuracy')\n",
        "plt.xlabel('epoch')\n",
        "plt.legend(['train', 'val'], loc='upper left')\n",
        "plt.show()"
      ],
      "metadata": {
        "colab": {
          "base_uri": "https://localhost:8080/",
          "height": 472
        },
        "id": "u_2RWUVZOqA2",
        "outputId": "d4419b33-7231-40e8-d063-5cfa3d51651a"
      },
      "execution_count": 55,
      "outputs": [
        {
          "output_type": "display_data",
          "data": {
            "text/plain": [
              "<Figure size 640x480 with 1 Axes>"
            ],
            "image/png": "[encoded data removed]"
          },
          "metadata": {}
        }
      ]
    },
    {
      "cell_type": "markdown",
      "source": [
        "### Evaluation"
      ],
      "metadata": {
        "id": "WSIl_9JkOtcG"
      }
    },
    {
      "cell_type": "code",
      "source": [
        "model.load_weights(checkpoint_filepath)"
      ],
      "metadata": {
        "id": "8BY6KH5yOr6N"
      },
      "execution_count": 56,
      "outputs": []
    },
    {
      "cell_type": "code",
      "source": [
        "test_dataset=test_ds.map(vectorizer)\n",
        "test_dataset=test_dataset.batch(BATCH_SIZE)\n",
        "model.evaluate(test_dataset)"
      ],
      "metadata": {
        "colab": {
          "base_uri": "https://localhost:8080/"
        },
        "id": "RIPnkVO5OxBe",
        "outputId": "3f21bfa2-07b1-48e0-db89-1a28efae1e1d"
      },
      "execution_count": 57,
      "outputs": [
        {
          "output_type": "stream",
          "name": "stdout",
          "text": [
            "\u001b[1m196/196\u001b[0m \u001b[32m━━━━━━━━━━━━━━━━━━━━\u001b[0m\u001b[37m\u001b[0m \u001b[1m13s\u001b[0m 63ms/step - accuracy: 0.8660 - loss: 0.3150\n"
          ]
        },
        {
          "output_type": "execute_result",
          "data": {
            "text/plain": [
              "[0.31533119082450867, 0.8654400110244751]"
            ]
          },
          "metadata": {},
          "execution_count": 57
        }
      ]
    },
    {
      "cell_type": "markdown",
      "source": [
        "## Pretrained Word2vec[Gensim]"
      ],
      "metadata": {
        "id": "pm7rVuNdVvWd"
      }
    },
    {
      "cell_type": "code",
      "source": [
        "word2vec=api.load('word2vec-google-news-300')"
      ],
      "metadata": {
        "id": "21cvLzyVOyLb"
      },
      "execution_count": 118,
      "outputs": []
    },
    {
      "cell_type": "code",
      "source": [
        "print(word2vec.vectors.shape)"
      ],
      "metadata": {
        "colab": {
          "base_uri": "https://localhost:8080/"
        },
        "id": "1fq8wk40WG8d",
        "outputId": "9c0fe332-3acf-41e9-aa95-36431b25e44d"
      },
      "execution_count": 64,
      "outputs": [
        {
          "output_type": "stream",
          "name": "stdout",
          "text": [
            "(3000000, 300)\n"
          ]
        }
      ]
    },
    {
      "cell_type": "code",
      "source": [
        "vector = word2vec[\"king\"]\n",
        "print(vector)"
      ],
      "metadata": {
        "colab": {
          "base_uri": "https://localhost:8080/"
        },
        "collapsed": true,
        "id": "vcVr8RJ_XVU1",
        "outputId": "c8f49a04-7771-4e1f-a2a6-8f669ca0e7f9"
      },
      "execution_count": 68,
      "outputs": [
        {
          "output_type": "stream",
          "name": "stdout",
          "text": [
            "[ 1.25976562e-01  2.97851562e-02  8.60595703e-03  1.39648438e-01\n",
            " -2.56347656e-02 -3.61328125e-02  1.11816406e-01 -1.98242188e-01\n",
            "  5.12695312e-02  3.63281250e-01 -2.42187500e-01 -3.02734375e-01\n",
            " -1.77734375e-01 -2.49023438e-02 -1.67968750e-01 -1.69921875e-01\n",
            "  3.46679688e-02  5.21850586e-03  4.63867188e-02  1.28906250e-01\n",
            "  1.36718750e-01  1.12792969e-01  5.95703125e-02  1.36718750e-01\n",
            "  1.01074219e-01 -1.76757812e-01 -2.51953125e-01  5.98144531e-02\n",
            "  3.41796875e-01 -3.11279297e-02  1.04492188e-01  6.17675781e-02\n",
            "  1.24511719e-01  4.00390625e-01 -3.22265625e-01  8.39843750e-02\n",
            "  3.90625000e-02  5.85937500e-03  7.03125000e-02  1.72851562e-01\n",
            "  1.38671875e-01 -2.31445312e-01  2.83203125e-01  1.42578125e-01\n",
            "  3.41796875e-01 -2.39257812e-02 -1.09863281e-01  3.32031250e-02\n",
            " -5.46875000e-02  1.53198242e-02 -1.62109375e-01  1.58203125e-01\n",
            " -2.59765625e-01  2.01416016e-02 -1.63085938e-01  1.35803223e-03\n",
            " -1.44531250e-01 -5.68847656e-02  4.29687500e-02 -2.46582031e-02\n",
            "  1.85546875e-01  4.47265625e-01  9.58251953e-03  1.31835938e-01\n",
            "  9.86328125e-02 -1.85546875e-01 -1.00097656e-01 -1.33789062e-01\n",
            " -1.25000000e-01  2.83203125e-01  1.23046875e-01  5.32226562e-02\n",
            " -1.77734375e-01  8.59375000e-02 -2.18505859e-02  2.05078125e-02\n",
            " -1.39648438e-01  2.51464844e-02  1.38671875e-01 -1.05468750e-01\n",
            "  1.38671875e-01  8.88671875e-02 -7.51953125e-02 -2.13623047e-02\n",
            "  1.72851562e-01  4.63867188e-02 -2.65625000e-01  8.91113281e-03\n",
            "  1.49414062e-01  3.78417969e-02  2.38281250e-01 -1.24511719e-01\n",
            " -2.17773438e-01 -1.81640625e-01  2.97851562e-02  5.71289062e-02\n",
            " -2.89306641e-02  1.24511719e-02  9.66796875e-02 -2.31445312e-01\n",
            "  5.81054688e-02  6.68945312e-02  7.08007812e-02 -3.08593750e-01\n",
            " -2.14843750e-01  1.45507812e-01 -4.27734375e-01 -9.39941406e-03\n",
            "  1.54296875e-01 -7.66601562e-02  2.89062500e-01  2.77343750e-01\n",
            " -4.86373901e-04 -1.36718750e-01  3.24218750e-01 -2.46093750e-01\n",
            " -3.03649902e-03 -2.11914062e-01  1.25000000e-01  2.69531250e-01\n",
            "  2.04101562e-01  8.25195312e-02 -2.01171875e-01 -1.60156250e-01\n",
            " -3.78417969e-02 -1.20117188e-01  1.15234375e-01 -4.10156250e-02\n",
            " -3.95507812e-02 -8.98437500e-02  6.34765625e-03  2.03125000e-01\n",
            "  1.86523438e-01  2.73437500e-01  6.29882812e-02  1.41601562e-01\n",
            " -9.81445312e-02  1.38671875e-01  1.82617188e-01  1.73828125e-01\n",
            "  1.73828125e-01 -2.37304688e-01  1.78710938e-01  6.34765625e-02\n",
            "  2.36328125e-01 -2.08984375e-01  8.74023438e-02 -1.66015625e-01\n",
            " -7.91015625e-02  2.43164062e-01 -8.88671875e-02  1.26953125e-01\n",
            " -2.16796875e-01 -1.73828125e-01 -3.59375000e-01 -8.25195312e-02\n",
            " -6.49414062e-02  5.07812500e-02  1.35742188e-01 -7.47070312e-02\n",
            " -1.64062500e-01  1.15356445e-02  4.45312500e-01 -2.15820312e-01\n",
            " -1.11328125e-01 -1.92382812e-01  1.70898438e-01 -1.25000000e-01\n",
            "  2.65502930e-03  1.92382812e-01 -1.74804688e-01  1.39648438e-01\n",
            "  2.92968750e-01  1.13281250e-01  5.95703125e-02 -6.39648438e-02\n",
            "  9.96093750e-02 -2.72216797e-02  1.96533203e-02  4.27246094e-02\n",
            " -2.46093750e-01  6.39648438e-02 -2.25585938e-01 -1.68945312e-01\n",
            "  2.89916992e-03  8.20312500e-02  3.41796875e-01  4.32128906e-02\n",
            "  1.32812500e-01  1.42578125e-01  7.61718750e-02  5.98144531e-02\n",
            " -1.19140625e-01  2.74658203e-03 -6.29882812e-02 -2.72216797e-02\n",
            " -4.82177734e-03 -8.20312500e-02 -2.49023438e-02 -4.00390625e-01\n",
            " -1.06933594e-01  4.24804688e-02  7.76367188e-02 -1.16699219e-01\n",
            "  7.37304688e-02 -9.22851562e-02  1.07910156e-01  1.58203125e-01\n",
            "  4.24804688e-02  1.26953125e-01  3.61328125e-02  2.67578125e-01\n",
            " -1.01074219e-01 -3.02734375e-01 -5.76171875e-02  5.05371094e-02\n",
            "  5.26428223e-04 -2.07031250e-01 -1.38671875e-01 -8.97216797e-03\n",
            " -2.78320312e-02 -1.41601562e-01  2.07031250e-01 -1.58203125e-01\n",
            "  1.27929688e-01  1.49414062e-01 -2.24609375e-02 -8.44726562e-02\n",
            "  1.22558594e-01  2.15820312e-01 -2.13867188e-01 -3.12500000e-01\n",
            " -3.73046875e-01  4.08935547e-03  1.07421875e-01  1.06933594e-01\n",
            "  7.32421875e-02  8.97216797e-03 -3.88183594e-02 -1.29882812e-01\n",
            "  1.49414062e-01 -2.14843750e-01 -1.83868408e-03  9.91210938e-02\n",
            "  1.57226562e-01 -1.14257812e-01 -2.05078125e-01  9.91210938e-02\n",
            "  3.69140625e-01 -1.97265625e-01  3.54003906e-02  1.09375000e-01\n",
            "  1.31835938e-01  1.66992188e-01  2.35351562e-01  1.04980469e-01\n",
            " -4.96093750e-01 -1.64062500e-01 -1.56250000e-01 -5.22460938e-02\n",
            "  1.03027344e-01  2.43164062e-01 -1.88476562e-01  5.07812500e-02\n",
            " -9.37500000e-02 -6.68945312e-02  2.27050781e-02  7.61718750e-02\n",
            "  2.89062500e-01  3.10546875e-01 -5.37109375e-02  2.28515625e-01\n",
            "  2.51464844e-02  6.78710938e-02 -1.21093750e-01 -2.15820312e-01\n",
            " -2.73437500e-01 -3.07617188e-02 -3.37890625e-01  1.53320312e-01\n",
            "  2.33398438e-01 -2.08007812e-01  3.73046875e-01  8.20312500e-02\n",
            "  2.51953125e-01 -7.61718750e-02 -4.66308594e-02 -2.23388672e-02\n",
            "  2.99072266e-02 -5.93261719e-02 -4.66918945e-03 -2.44140625e-01\n",
            " -2.09960938e-01 -2.87109375e-01 -4.54101562e-02 -1.77734375e-01\n",
            " -2.79296875e-01 -8.59375000e-02  9.13085938e-02  2.51953125e-01]\n"
          ]
        }
      ]
    },
    {
      "cell_type": "code",
      "source": [
        "vector = word2vec[word2vec.index_to_key[2]]\n",
        "print(vector.shape)"
      ],
      "metadata": {
        "colab": {
          "base_uri": "https://localhost:8080/"
        },
        "id": "IeCi1nIo5wJI",
        "outputId": "7cd398f1-f621-47a1-b9d7-67b774a128ba"
      },
      "execution_count": 77,
      "outputs": [
        {
          "output_type": "stream",
          "name": "stdout",
          "text": [
            "(300,)\n"
          ]
        }
      ]
    },
    {
      "cell_type": "code",
      "source": [
        "word2vec.most_similar('man')"
      ],
      "metadata": {
        "colab": {
          "base_uri": "https://localhost:8080/"
        },
        "id": "3HbiZY3o65J6",
        "outputId": "a37a2da0-cb7f-4a2a-8688-ab59c1eebb21"
      },
      "execution_count": 89,
      "outputs": [
        {
          "output_type": "execute_result",
          "data": {
            "text/plain": [
              "[('woman', 0.7664012908935547),\n",
              " ('boy', 0.6824871301651001),\n",
              " ('teenager', 0.6586930155754089),\n",
              " ('teenage_girl', 0.6147903203964233),\n",
              " ('girl', 0.5921714305877686),\n",
              " ('suspected_purse_snatcher', 0.571636438369751),\n",
              " ('robber', 0.5585119128227234),\n",
              " ('Robbery_suspect', 0.5584409832954407),\n",
              " ('teen_ager', 0.5549196600914001),\n",
              " ('men', 0.5489763021469116)]"
            ]
          },
          "metadata": {},
          "execution_count": 89
        }
      ]
    },
    {
      "cell_type": "code",
      "source": [
        "pretrained_embeddings = []"
      ],
      "metadata": {
        "id": "9E7d4yhwYtFl"
      },
      "execution_count": 119,
      "outputs": []
    },
    {
      "cell_type": "code",
      "source": [
        "def first_caps(word):\n",
        "  return word[0].upper()+word[1:]"
      ],
      "metadata": {
        "id": "R6rRSvW3aMeA"
      },
      "execution_count": 120,
      "outputs": []
    },
    {
      "cell_type": "code",
      "source": [
        "len(vectorize_layer.get_vocabulary())"
      ],
      "metadata": {
        "colab": {
          "base_uri": "https://localhost:8080/"
        },
        "id": "li0XhAVsYv0M",
        "outputId": "3a4bbd71-6844-400e-9c12-0a72e8766539"
      },
      "execution_count": 121,
      "outputs": [
        {
          "output_type": "execute_result",
          "data": {
            "text/plain": [
              "10000"
            ]
          },
          "metadata": {},
          "execution_count": 121
        }
      ]
    },
    {
      "cell_type": "code",
      "source": [
        "for i in range(len(vectorize_layer.get_vocabulary())):\n",
        "  try:\n",
        "    pretrained_embeddings.append(word2vec[vectorize_layer.get_vocabulary()[i]])\n",
        "  except:\n",
        "    print(vectorize_layer.get_vocabulary()[i])\n",
        "    try:\n",
        "      pretrained_embeddings.append(word2vec[first_caps(vectorize_layer.get_vocabulary()[i])])\n",
        "      print('toupper')\n",
        "    except:\n",
        "      print('nosolution')\n",
        "      pretrained_embeddings.append(random.normal(loc=0, scale=1, size=(EMBEDDING_DIM)))#reloaded_word_vectors[vectorize_layer.get_vocabulary()[i]])\n",
        "  if i%1000==0:\n",
        "    print('iis====================================',i)"
      ],
      "metadata": {
        "colab": {
          "base_uri": "https://localhost:8080/"
        },
        "collapsed": true,
        "id": "6fwwQpyxZ0Sp",
        "outputId": "aadc8388-e635-4c4e-feb2-833d99cffb90"
      },
      "execution_count": 122,
      "outputs": [
        {
          "output_type": "stream",
          "name": "stdout",
          "text": [
            "\n",
            "nosolution\n",
            "iis==================================== 0\n",
            "[UNK]\n",
            "nosolution\n",
            "and\n",
            "toupper\n",
            "a\n",
            "toupper\n",
            "of\n",
            "toupper\n",
            "to\n",
            "toupper\n",
            "doesnt\n",
            "nosolution\n",
            "didnt\n",
            "nosolution\n",
            "isnt\n",
            "nosolution\n",
            "wasnt\n",
            "nosolution\n",
            "10\n",
            "nosolution\n",
            "80s\n",
            "nosolution\n",
            "20\n",
            "nosolution\n",
            "70s\n",
            "nosolution\n",
            "iis==================================== 1000\n",
            "15\n",
            "nosolution\n",
            "12\n",
            "nosolution\n",
            "30\n",
            "nosolution\n",
            "humour\n",
            "toupper\n",
            "100\n",
            "nosolution\n",
            "hasnt\n",
            "nosolution\n",
            "90\n",
            "nosolution\n",
            "shouldnt\n",
            "nosolution\n",
            "favourite\n",
            "toupper\n",
            "theatre\n",
            "toupper\n",
            "60s\n",
            "nosolution\n",
            "40\n",
            "nosolution\n",
            "lowbudget\n",
            "nosolution\n",
            "tarzan\n",
            "toupper\n",
            "50\n",
            "nosolution\n",
            "90s\n",
            "nosolution\n",
            "1950s\n",
            "nosolution\n",
            "iis==================================== 2000\n",
            "keaton\n",
            "toupper\n",
            "welles\n",
            "toupper\n",
            "50s\n",
            "nosolution\n",
            "1010\n",
            "nosolution\n",
            "11\n",
            "nosolution\n",
            "1970s\n",
            "nosolution\n",
            "overthetop\n",
            "nosolution\n",
            "sinatra\n",
            "toupper\n",
            "columbo\n",
            "toupper\n",
            "1980s\n",
            "nosolution\n",
            "25\n",
            "nosolution\n",
            "1930s\n",
            "nosolution\n",
            "14\n",
            "nosolution\n",
            "13\n",
            "nosolution\n",
            "bmovie\n",
            "nosolution\n",
            "aint\n",
            "toupper\n",
            "pacino\n",
            "toupper\n",
            "moviethe\n",
            "nosolution\n",
            "writerdirector\n",
            "nosolution\n",
            "itthe\n",
            "nosolution\n",
            "lugosi\n",
            "toupper\n",
            "hitchcock\n",
            "toupper\n",
            "810\n",
            "nosolution\n",
            "iis==================================== 3000\n",
            "30s\n",
            "nosolution\n",
            "filmthe\n",
            "nosolution\n",
            "2006\n",
            "nosolution\n",
            "1960s\n",
            "nosolution\n",
            "2000\n",
            "nosolution\n",
            "110\n",
            "nosolution\n",
            "wwii\n",
            "nosolution\n",
            "grey\n",
            "toupper\n",
            "710\n",
            "nosolution\n",
            "bettie\n",
            "toupper\n",
            "sandler\n",
            "toupper\n",
            "widmark\n",
            "toupper\n",
            "stanwyck\n",
            "toupper\n",
            "mst3k\n",
            "nosolution\n",
            "colour\n",
            "toupper\n",
            "2001\n",
            "nosolution\n",
            "18\n",
            "nosolution\n",
            "seagal\n",
            "toupper\n",
            "80\n",
            "nosolution\n",
            "moviei\n",
            "nosolution\n",
            "matthau\n",
            "toupper\n",
            "17\n",
            "nosolution\n",
            "branagh\n",
            "toupper\n",
            "24\n",
            "nosolution\n",
            "realise\n",
            "toupper\n",
            "mustsee\n",
            "nosolution\n",
            "denzel\n",
            "toupper\n",
            "45\n",
            "nosolution\n",
            "brando\n",
            "toupper\n",
            "40s\n",
            "nosolution\n",
            "walken\n",
            "toupper\n",
            "2005\n",
            "nosolution\n",
            "911\n",
            "nosolution\n",
            "streisand\n",
            "toupper\n",
            "karloff\n",
            "toupper\n",
            "heston\n",
            "toupper\n",
            "flynn\n",
            "toupper\n",
            "310\n",
            "nosolution\n",
            "20th\n",
            "nosolution\n",
            "ritter\n",
            "toupper\n",
            "spielberg\n",
            "toupper\n",
            "910\n",
            "nosolution\n",
            "eyre\n",
            "toupper\n",
            "elvira\n",
            "toupper\n",
            "410\n",
            "nosolution\n",
            "cusack\n",
            "toupper\n",
            "carrey\n",
            "toupper\n",
            "cagney\n",
            "toupper\n",
            "brosnan\n",
            "toupper\n",
            "60\n",
            "nosolution\n",
            "hollywoods\n",
            "toupper\n",
            "2004\n",
            "nosolution\n",
            "mildred\n",
            "toupper\n",
            "astaire\n",
            "toupper\n",
            "2003\n",
            "nosolution\n",
            "16\n",
            "nosolution\n",
            "iis==================================== 4000\n",
            "falk\n",
            "toupper\n",
            "2002\n",
            "nosolution\n",
            "1990s\n",
            "nosolution\n",
            "uwe\n",
            "toupper\n",
            "voight\n",
            "toupper\n",
            "paulie\n",
            "toupper\n",
            "eastwood\n",
            "toupper\n",
            "orson\n",
            "toupper\n",
            "madefortv\n",
            "nosolution\n",
            "1999\n",
            "nosolution\n",
            "onedimensional\n",
            "nosolution\n",
            "lemmon\n",
            "toupper\n",
            "1996\n",
            "nosolution\n",
            "1980\n",
            "nosolution\n",
            "miike\n",
            "toupper\n",
            "streep\n",
            "toupper\n",
            "carradine\n",
            "toupper\n",
            "beatty\n",
            "toupper\n",
            "70\n",
            "nosolution\n",
            "3000\n",
            "nosolution\n",
            "2007\n",
            "nosolution\n",
            "niro\n",
            "toupper\n",
            "disneys\n",
            "toupper\n",
            "1972\n",
            "nosolution\n",
            "1940s\n",
            "nosolution\n",
            "fonda\n",
            "toupper\n",
            "1990\n",
            "nosolution\n",
            "paltrow\n",
            "toupper\n",
            "gundam\n",
            "toupper\n",
            "1968\n",
            "nosolution\n",
            "bakshi\n",
            "toupper\n",
            "210\n",
            "nosolution\n",
            "1983\n",
            "nosolution\n",
            "bacall\n",
            "toupper\n",
            "–\n",
            "nosolution\n",
            "1973\n",
            "nosolution\n",
            "christy\n",
            "toupper\n",
            "13th\n",
            "nosolution\n",
            "whoopi\n",
            "toupper\n",
            "verhoeven\n",
            "toupper\n",
            "timon\n",
            "toupper\n",
            "lumet\n",
            "toupper\n",
            "iis==================================== 5000\n",
            "bergman\n",
            "toupper\n",
            "35\n",
            "nosolution\n",
            "romero\n",
            "toupper\n",
            "ramones\n",
            "toupper\n",
            "kubrick\n",
            "toupper\n",
            "fulci\n",
            "toupper\n",
            "dolph\n",
            "toupper\n",
            "1984\n",
            "nosolution\n",
            "polanski\n",
            "toupper\n",
            "raines\n",
            "toupper\n",
            "meryl\n",
            "toupper\n",
            "favour\n",
            "toupper\n",
            "1971\n",
            "nosolution\n",
            "1933\n",
            "nosolution\n",
            "othello\n",
            "toupper\n",
            "lundgren\n",
            "toupper\n",
            "behaviour\n",
            "toupper\n",
            "barrymore\n",
            "toupper\n",
            "amitabh\n",
            "toupper\n",
            "pg13\n",
            "nosolution\n",
            "griffith\n",
            "toupper\n",
            "connery\n",
            "toupper\n",
            "1993\n",
            "nosolution\n",
            "1987\n",
            "nosolution\n",
            "ustinov\n",
            "toupper\n",
            "realised\n",
            "toupper\n",
            "mclaglen\n",
            "nosolution\n",
            "hawke\n",
            "toupper\n",
            "carell\n",
            "toupper\n",
            "wellwritten\n",
            "nosolution\n",
            "thoughtprovoking\n",
            "nosolution\n",
            "sabrina\n",
            "toupper\n",
            "macarthur\n",
            "toupper\n",
            "laurence\n",
            "toupper\n",
            "biko\n",
            "toupper\n",
            "antwone\n",
            "toupper\n",
            "75\n",
            "nosolution\n",
            "19th\n",
            "nosolution\n",
            "1995\n",
            "nosolution\n",
            "palance\n",
            "toupper\n",
            "hitlers\n",
            "toupper\n",
            "1997\n",
            "nosolution\n",
            "1986\n",
            "nosolution\n",
            "damme\n",
            "toupper\n",
            "belushi\n",
            "toupper\n",
            "1970\n",
            "nosolution\n",
            "1936\n",
            "nosolution\n",
            "shakespeares\n",
            "toupper\n",
            "malone\n",
            "toupper\n",
            "deniro\n",
            "toupper\n",
            "cassidy\n",
            "toupper\n",
            "73\n",
            "nosolution\n",
            "2008\n",
            "nosolution\n",
            "1989\n",
            "nosolution\n",
            "1979\n",
            "nosolution\n",
            "1978\n",
            "nosolution\n",
            "palma\n",
            "toupper\n",
            "kolchak\n",
            "toupper\n",
            "basinger\n",
            "toupper\n",
            "welldone\n",
            "toupper\n",
            "tierney\n",
            "toupper\n",
            "soso\n",
            "toupper\n",
            "ratso\n",
            "toupper\n",
            "jacksons\n",
            "toupper\n",
            "wellmade\n",
            "nosolution\n",
            "paxton\n",
            "toupper\n",
            "nicolas\n",
            "toupper\n",
            "fontaine\n",
            "toupper\n",
            "drivein\n",
            "nosolution\n",
            "foxx\n",
            "toupper\n",
            "sirk\n",
            "toupper\n",
            "rukh\n",
            "toupper\n",
            "centre\n",
            "toupper\n",
            "audrey\n",
            "toupper\n",
            "altman\n",
            "toupper\n",
            "23\n",
            "nosolution\n",
            "1988\n",
            "nosolution\n",
            "1981\n",
            "nosolution\n",
            "winchester\n",
            "toupper\n",
            "marlon\n",
            "toupper\n",
            "freddys\n",
            "toupper\n",
            "esther\n",
            "toupper\n",
            "allens\n",
            "toupper\n",
            "1976\n",
            "nosolution\n",
            "1969\n",
            "nosolution\n",
            "1000\n",
            "nosolution\n",
            "zombi\n",
            "toupper\n",
            "knightley\n",
            "toupper\n",
            "kline\n",
            "toupper\n",
            "cassavetes\n",
            "toupper\n",
            "22\n",
            "nosolution\n",
            "1945\n",
            "nosolution\n",
            "tarantino\n",
            "toupper\n",
            "iis==================================== 6000\n",
            "quaid\n",
            "toupper\n",
            "hartley\n",
            "toupper\n",
            "duvall\n",
            "toupper\n",
            "stallone\n",
            "toupper\n",
            "ingrid\n",
            "toupper\n",
            "gillian\n",
            "toupper\n",
            "21st\n",
            "nosolution\n",
            "1991\n",
            "nosolution\n",
            "1939\n",
            "nosolution\n",
            "soylent\n",
            "toupper\n",
            "lukas\n",
            "toupper\n",
            "colours\n",
            "toupper\n",
            "austen\n",
            "toupper\n",
            "alvin\n",
            "toupper\n",
            "alexandre\n",
            "toupper\n",
            "1977\n",
            "nosolution\n",
            "wendigo\n",
            "toupper\n",
            "gere\n",
            "toupper\n",
            "bronson\n",
            "toupper\n",
            "attenborough\n",
            "toupper\n",
            "zane\n",
            "toupper\n",
            "sg1\n",
            "nosolution\n",
            "loretta\n",
            "toupper\n",
            "irene\n",
            "toupper\n",
            "ebert\n",
            "toupper\n",
            "cecil\n",
            "toupper\n",
            "bmovies\n",
            "nosolution\n",
            "antonioni\n",
            "toupper\n",
            "africanamerican\n",
            "nosolution\n",
            "300\n",
            "nosolution\n",
            "1985\n",
            "nosolution\n",
            "1950\n",
            "nosolution\n",
            "zizek\n",
            "toupper\n",
            "timberlake\n",
            "toupper\n",
            "soderbergh\n",
            "toupper\n",
            "ohara\n",
            "toupper\n",
            "mitchum\n",
            "toupper\n",
            "mathieu\n",
            "toupper\n",
            "itthis\n",
            "nosolution\n",
            "harriet\n",
            "toupper\n",
            "fairbanks\n",
            "toupper\n",
            "errol\n",
            "toupper\n",
            "cushing\n",
            "toupper\n",
            "bsg\n",
            "nosolution\n",
            "beowulf\n",
            "toupper\n",
            "95\n",
            "nosolution\n",
            "28\n",
            "nosolution\n",
            "1994\n",
            "nosolution\n",
            "1974\n",
            "nosolution\n",
            "1920s\n",
            "nosolution\n",
            "wellacted\n",
            "nosolution\n",
            "stewarts\n",
            "toupper\n",
            "quentin\n",
            "toupper\n",
            "kurosawa\n",
            "toupper\n",
            "goldblum\n",
            "toupper\n",
            "amrita\n",
            "toupper\n",
            "200\n",
            "nosolution\n",
            "scotts\n",
            "toupper\n",
            "rowlands\n",
            "toupper\n",
            "pickford\n",
            "toupper\n",
            "nolte\n",
            "toupper\n",
            "liveaction\n",
            "nosolution\n",
            "kellys\n",
            "toupper\n",
            "hackman\n",
            "toupper\n",
            "gamera\n",
            "toupper\n",
            "affleck\n",
            "toupper\n",
            "1959\n",
            "nosolution\n",
            "19\n",
            "nosolution\n",
            "truman\n",
            "toupper\n",
            "tonys\n",
            "toupper\n",
            "pumbaa\n",
            "toupper\n",
            "juliette\n",
            "toupper\n",
            "hayworth\n",
            "toupper\n",
            "firstrate\n",
            "nosolution\n",
            "axe\n",
            "toupper\n",
            "21\n",
            "nosolution\n",
            "1944\n",
            "nosolution\n",
            "tongueincheek\n",
            "nosolution\n",
            "timethe\n",
            "nosolution\n",
            "themthe\n",
            "nosolution\n",
            "precode\n",
            "nosolution\n",
            "melvyn\n",
            "toupper\n",
            "kinnear\n",
            "toupper\n",
            "hepburn\n",
            "toupper\n",
            "gielgud\n",
            "toupper\n",
            "deanna\n",
            "toupper\n",
            "clive\n",
            "toupper\n",
            "caron\n",
            "toupper\n",
            "barbra\n",
            "toupper\n",
            "xfiles\n",
            "nosolution\n",
            "sarandon\n",
            "toupper\n",
            "preminger\n",
            "toupper\n",
            "pfeiffer\n",
            "toupper\n",
            "lucille\n",
            "toupper\n",
            "longoria\n",
            "toupper\n",
            "keatons\n",
            "toupper\n",
            "huston\n",
            "toupper\n",
            "haines\n",
            "toupper\n",
            "gypo\n",
            "toupper\n",
            "daylewis\n",
            "nosolution\n",
            "casablanca\n",
            "toupper\n",
            "blandings\n",
            "toupper\n",
            "99\n",
            "nosolution\n",
            "1975\n",
            "nosolution\n",
            "1953\n",
            "nosolution\n",
            "thurman\n",
            "toupper\n",
            "thelma\n",
            "toupper\n",
            "rosemarys\n",
            "nosolution\n",
            "iis==================================== 7000\n",
            "niven\n",
            "toupper\n",
            "mcqueen\n",
            "toupper\n",
            "gwyneth\n",
            "toupper\n",
            "corman\n",
            "toupper\n",
            "busey\n",
            "toupper\n",
            "34\n",
            "nosolution\n",
            "1998\n",
            "nosolution\n",
            "1940\n",
            "nosolution\n",
            "tomei\n",
            "toupper\n",
            "scorsese\n",
            "toupper\n",
            "minnelli\n",
            "toupper\n",
            "masterson\n",
            "toupper\n",
            "hadley\n",
            "toupper\n",
            "fishburne\n",
            "toupper\n",
            "arquette\n",
            "toupper\n",
            "1982\n",
            "nosolution\n",
            "1948\n",
            "nosolution\n",
            "sondra\n",
            "toupper\n",
            "selfindulgent\n",
            "nosolution\n",
            "reiser\n",
            "toupper\n",
            "penelope\n",
            "toupper\n",
            "naschy\n",
            "toupper\n",
            "mabel\n",
            "toupper\n",
            "kazan\n",
            "toupper\n",
            "itit\n",
            "nosolution\n",
            "edith\n",
            "toupper\n",
            "branaghs\n",
            "nosolution\n",
            "1934\n",
            "nosolution\n",
            "zorro\n",
            "toupper\n",
            "troma\n",
            "toupper\n",
            "miyazaki\n",
            "toupper\n",
            "laputa\n",
            "toupper\n",
            "kubricks\n",
            "nosolution\n",
            "kells\n",
            "toupper\n",
            "harlow\n",
            "toupper\n",
            "dillinger\n",
            "toupper\n",
            "cheadle\n",
            "toupper\n",
            "characterisation\n",
            "toupper\n",
            "blaise\n",
            "toupper\n",
            "beckinsale\n",
            "toupper\n",
            "arkin\n",
            "toupper\n",
            "1992\n",
            "nosolution\n",
            "101\n",
            "nosolution\n",
            "wayans\n",
            "toupper\n",
            "silverman\n",
            "toupper\n",
            "realises\n",
            "toupper\n",
            "pegg\n",
            "toupper\n",
            "mustve\n",
            "nosolution\n",
            "collette\n",
            "toupper\n",
            "1967\n",
            "nosolution\n",
            "vargas\n",
            "toupper\n",
            "sammo\n",
            "toupper\n",
            "northam\n",
            "toupper\n",
            "marisa\n",
            "toupper\n",
            "lynchs\n",
            "toupper\n",
            "iturbi\n",
            "nosolution\n",
            "itbut\n",
            "nosolution\n",
            "hitchcocks\n",
            "toupper\n",
            "gackt\n",
            "toupper\n",
            "favourites\n",
            "toupper\n",
            "demille\n",
            "toupper\n",
            "chiba\n",
            "toupper\n",
            "85\n",
            "nosolution\n",
            "programme\n",
            "toupper\n",
            "madsen\n",
            "toupper\n",
            "krueger\n",
            "toupper\n",
            "johansson\n",
            "toupper\n",
            "galactica\n",
            "toupper\n",
            "fassbinder\n",
            "toupper\n",
            "blackandwhite\n",
            "nosolution\n",
            "bakshis\n",
            "nosolution\n",
            "1963\n",
            "nosolution\n",
            "1951\n",
            "nosolution\n",
            "1943\n",
            "nosolution\n",
            "takashi\n",
            "toupper\n",
            "sholay\n",
            "toupper\n",
            "scoobydoo\n",
            "nosolution\n",
            "myrna\n",
            "toupper\n",
            "miikes\n",
            "nosolution\n",
            "kinski\n",
            "toupper\n",
            "jagger\n",
            "toupper\n",
            "finney\n",
            "toupper\n",
            "filmit\n",
            "nosolution\n",
            "elsa\n",
            "toupper\n",
            "dahmer\n",
            "toupper\n",
            "dafoe\n",
            "toupper\n",
            "creasy\n",
            "toupper\n",
            "caprica\n",
            "toupper\n",
            "cancelled\n",
            "toupper\n",
            "adele\n",
            "toupper\n",
            "movieit\n",
            "nosolution\n",
            "garfield\n",
            "toupper\n",
            "cedric\n",
            "toupper\n",
            "bernsen\n",
            "toupper\n",
            "26\n",
            "nosolution\n",
            "1932\n",
            "nosolution\n",
            "theodore\n",
            "toupper\n",
            "storythe\n",
            "nosolution\n",
            "selfcentered\n",
            "nosolution\n",
            "rourke\n",
            "toupper\n",
            "moores\n",
            "toupper\n",
            "iis==================================== 8000\n",
            "macmurray\n",
            "nosolution\n",
            "isabelle\n",
            "toupper\n",
            "giovanna\n",
            "toupper\n",
            "gilliam\n",
            "toupper\n",
            "feinstone\n",
            "toupper\n",
            "ealing\n",
            "toupper\n",
            "coburn\n",
            "toupper\n",
            "carlitos\n",
            "toupper\n",
            "capote\n",
            "toupper\n",
            "blondell\n",
            "toupper\n",
            "1966\n",
            "nosolution\n",
            "1958\n",
            "nosolution\n",
            "warhols\n",
            "toupper\n",
            "timei\n",
            "nosolution\n",
            "theatres\n",
            "toupper\n",
            "tashan\n",
            "toupper\n",
            "obrien\n",
            "toupper\n",
            "harron\n",
            "toupper\n",
            "gretchen\n",
            "toupper\n",
            "govinda\n",
            "toupper\n",
            "gena\n",
            "toupper\n",
            "ferrell\n",
            "toupper\n",
            "englund\n",
            "toupper\n",
            "dunst\n",
            "toupper\n",
            "dreyfuss\n",
            "toupper\n",
            "davids\n",
            "toupper\n",
            "cheech\n",
            "toupper\n",
            "brashear\n",
            "toupper\n",
            "waythe\n",
            "nosolution\n",
            "waynes\n",
            "toupper\n",
            "vincenzo\n",
            "toupper\n",
            "seuss\n",
            "toupper\n",
            "malden\n",
            "toupper\n",
            "himthe\n",
            "nosolution\n",
            "gershwin\n",
            "toupper\n",
            "directtovideo\n",
            "nosolution\n",
            "cravens\n",
            "toupper\n",
            "berenger\n",
            "toupper\n",
            "1955\n",
            "nosolution\n",
            "1946\n",
            "nosolution\n",
            "tsui\n",
            "toupper\n",
            "mcadams\n",
            "toupper\n",
            "loren\n",
            "toupper\n",
            "keanu\n",
            "toupper\n",
            "hartleys\n",
            "toupper\n",
            "gino\n",
            "toupper\n",
            "gandolfini\n",
            "toupper\n",
            "flavia\n",
            "toupper\n",
            "filmthis\n",
            "nosolution\n",
            "duchovny\n",
            "toupper\n",
            "depardieu\n",
            "toupper\n",
            "altmans\n",
            "toupper\n",
            "visconti\n",
            "toupper\n",
            "taime\n",
            "toupper\n",
            "sykes\n",
            "toupper\n",
            "straighttovideo\n",
            "nosolution\n",
            "oscarwinning\n",
            "toupper\n",
            "natali\n",
            "toupper\n",
            "movieits\n",
            "nosolution\n",
            "methe\n",
            "toupper\n",
            "massey\n",
            "toupper\n",
            "liotta\n",
            "toupper\n",
            "hanzo\n",
            "toupper\n",
            "geoffrey\n",
            "toupper\n",
            "faye\n",
            "toupper\n",
            "ewoks\n",
            "toupper\n",
            "edmund\n",
            "toupper\n",
            "colman\n",
            "toupper\n",
            "clarence\n",
            "toupper\n",
            "chans\n",
            "toupper\n",
            "byron\n",
            "toupper\n",
            "20s\n",
            "nosolution\n",
            "zelah\n",
            "nosolution\n",
            "verhoevens\n",
            "nosolution\n",
            "vaughn\n",
            "toupper\n",
            "slowmotion\n",
            "nosolution\n",
            "sematary\n",
            "nosolution\n",
            "romeros\n",
            "toupper\n",
            "redford\n",
            "toupper\n",
            "oneill\n",
            "toupper\n",
            "myra\n",
            "toupper\n",
            "muriel\n",
            "toupper\n",
            "luthor\n",
            "toupper\n",
            "lorre\n",
            "toupper\n",
            "kristofferson\n",
            "toupper\n",
            "kilmer\n",
            "toupper\n",
            "kalifornia\n",
            "toupper\n",
            "judgement\n",
            "toupper\n",
            "harilal\n",
            "toupper\n",
            "goldsworthy\n",
            "toupper\n",
            "godard\n",
            "toupper\n",
            "forsythe\n",
            "toupper\n",
            "fellini\n",
            "toupper\n",
            "farrah\n",
            "toupper\n",
            "dunne\n",
            "toupper\n",
            "doris\n",
            "toupper\n",
            "darius\n",
            "toupper\n",
            "daria\n",
            "toupper\n",
            "christensen\n",
            "toupper\n",
            "arnie\n",
            "toupper\n",
            "700\n",
            "nosolution\n",
            "51\n",
            "nosolution\n",
            "1964\n",
            "nosolution\n",
            "1957\n",
            "nosolution\n",
            "150\n",
            "nosolution\n",
            "wwi\n",
            "nosolution\n",
            "shatner\n",
            "toupper\n",
            "sammi\n",
            "toupper\n",
            "redgrave\n",
            "toupper\n",
            "pertwee\n",
            "toupper\n",
            "ossessione\n",
            "nosolution\n",
            "natasha\n",
            "toupper\n",
            "movieand\n",
            "nosolution\n",
            "miyazakis\n",
            "nosolution\n",
            "mcdermott\n",
            "toupper\n",
            "lansbury\n",
            "toupper\n",
            "kornbluth\n",
            "toupper\n",
            "kareena\n",
            "toupper\n",
            "grendel\n",
            "toupper\n",
            "glenda\n",
            "toupper\n",
            "fagin\n",
            "toupper\n",
            "iis==================================== 9000\n",
            "elisha\n",
            "toupper\n",
            "eastwoods\n",
            "toupper\n",
            "dukakis\n",
            "toupper\n",
            "dillon\n",
            "toupper\n",
            "benoit\n",
            "toupper\n",
            "aztec\n",
            "toupper\n",
            "98\n",
            "nosolution\n",
            "27\n",
            "nosolution\n",
            "010\n",
            "nosolution\n",
            "zabriskie\n",
            "toupper\n",
            "valerie\n",
            "toupper\n",
            "sinatras\n",
            "toupper\n",
            "segal\n",
            "toupper\n",
            "sarne\n",
            "toupper\n",
            "rko\n",
            "nosolution\n",
            "noam\n",
            "toupper\n",
            "neeson\n",
            "toupper\n",
            "midler\n",
            "toupper\n",
            "mcdowell\n",
            "toupper\n",
            "martino\n",
            "toupper\n",
            "maguire\n",
            "toupper\n",
            "luzhin\n",
            "toupper\n",
            "keitel\n",
            "toupper\n",
            "izzard\n",
            "toupper\n",
            "herethe\n",
            "nosolution\n",
            "grady\n",
            "toupper\n",
            "gannon\n",
            "toupper\n",
            "featurelength\n",
            "nosolution\n",
            "farnsworth\n",
            "toupper\n",
            "elmer\n",
            "toupper\n",
            "dickinson\n",
            "toupper\n",
            "crenna\n",
            "toupper\n",
            "cortez\n",
            "toupper\n",
            "coppola\n",
            "toupper\n",
            "btk\n",
            "toupper\n",
            "azumi\n",
            "toupper\n",
            "48\n",
            "nosolution\n",
            "250\n",
            "nosolution\n",
            "victorias\n",
            "toupper\n",
            "thatll\n",
            "nosolution\n",
            "shakespearean\n",
            "toupper\n",
            "rosenstrasse\n",
            "toupper\n",
            "rizzo\n",
            "toupper\n",
            "murphys\n",
            "toupper\n",
            "moviethis\n",
            "nosolution\n",
            "mostel\n",
            "toupper\n",
            "lucio\n",
            "toupper\n",
            "lubitsch\n",
            "toupper\n",
            "it´s\n",
            "nosolution\n",
            "harrys\n",
            "toupper\n",
            "goodthe\n",
            "nosolution\n",
            "floriane\n",
            "toupper\n",
            "fatherson\n",
            "nosolution\n",
            "duryea\n",
            "toupper\n",
            "durbin\n",
            "toupper\n",
            "corbin\n",
            "toupper\n",
            "callahan\n",
            "toupper\n",
            "bolivia\n",
            "toupper\n",
            "2009\n",
            "nosolution\n",
            "1949\n",
            "nosolution\n",
            "1938\n",
            "nosolution\n",
            "1931\n",
            "nosolution\n",
            "18th\n",
            "nosolution\n",
            "spielbergs\n",
            "toupper\n",
            "sorvino\n",
            "toupper\n",
            "sloane\n",
            "toupper\n",
            "seinfeld\n",
            "toupper\n",
            "sciencefiction\n",
            "nosolution\n",
            "rainer\n",
            "toupper\n",
            "pauls\n",
            "toupper\n",
            "morgana\n",
            "toupper\n",
            "lotr\n",
            "nosolution\n",
            "hisher\n",
            "nosolution\n",
            "guevara\n",
            "toupper\n",
            "granger\n",
            "toupper\n",
            "culkin\n",
            "toupper\n",
            "cruella\n",
            "toupper\n",
            "connolly\n",
            "toupper\n",
            "cillian\n",
            "toupper\n",
            "carole\n",
            "toupper\n",
            "carlito\n",
            "toupper\n",
            "batwoman\n",
            "toupper\n",
            "andersons\n",
            "toupper\n",
            "500\n",
            "nosolution\n",
            "400\n",
            "nosolution\n",
            "zatoichi\n",
            "toupper\n",
            "wellthe\n",
            "nosolution\n",
            "viggo\n",
            "toupper\n",
            "twodimensional\n",
            "nosolution\n",
            "thisthe\n",
            "nosolution\n",
            "streisands\n",
            "nosolution\n",
            "spoton\n",
            "nosolution\n",
            "slowmoving\n",
            "nosolution\n",
            "poppins\n",
            "toupper\n",
            "phyllis\n",
            "toupper\n",
            "pavarotti\n",
            "toupper\n",
            "onethe\n",
            "nosolution\n",
            "mastroianni\n",
            "toupper\n",
            "marvellous\n",
            "toupper\n",
            "mamet\n",
            "toupper\n",
            "leia\n",
            "toupper\n",
            "kingsley\n",
            "toupper\n",
            "jed\n",
            "toupper\n",
            "itits\n",
            "nosolution\n",
            "imdbs\n",
            "nosolution\n",
            "helena\n",
            "toupper\n",
            "hedy\n",
            "toupper\n",
            "hamill\n",
            "toupper\n",
            "gilligans\n",
            "toupper\n",
            "directorwriter\n",
            "nosolution\n",
            "deathstalker\n",
            "nosolution\n",
            "darkman\n",
            "toupper\n",
            "colourful\n",
            "toupper\n",
            "caruso\n",
            "toupper\n",
            "bruckheimer\n",
            "toupper\n",
            "bonham\n",
            "toupper\n",
            "bogdanovich\n",
            "toupper\n",
            "bgrade\n",
            "nosolution\n",
            "badthe\n",
            "nosolution\n",
            "aiello\n",
            "toupper\n",
            "1942\n",
            "nosolution\n",
            "willem\n",
            "toupper\n",
            "vonnegut\n",
            "toupper\n",
            "travelling\n",
            "toupper\n",
            "tigerland\n",
            "toupper\n",
            "therethe\n",
            "nosolution\n",
            "sabu\n",
            "toupper\n",
            "runofthemill\n",
            "nosolution\n",
            "rohmer\n",
            "toupper\n",
            "recognise\n",
            "toupper\n",
            "reanimator\n",
            "nosolution\n",
            "patton\n",
            "toupper\n",
            "pacinos\n",
            "nosolution\n",
            "otoole\n",
            "nosolution\n",
            "osullivan\n",
            "nosolution\n",
            "nielsen\n",
            "toupper\n",
            "mpaa\n",
            "nosolution\n",
            "macbeth\n",
            "toupper\n",
            "lanza\n",
            "toupper\n",
            "jovi\n",
            "toupper\n",
            "jameson\n",
            "toupper\n"
          ]
        }
      ]
    },
    {
      "cell_type": "code",
      "source": [
        "pretrained_embeddings_array=np.array(pretrained_embeddings)\n",
        "print(pretrained_embeddings_array.shape)"
      ],
      "metadata": {
        "colab": {
          "base_uri": "https://localhost:8080/"
        },
        "id": "uv5hlXSmkNOt",
        "outputId": "a5174e32-d6a1-480c-95e1-e084d104b487"
      },
      "execution_count": 123,
      "outputs": [
        {
          "output_type": "stream",
          "name": "stdout",
          "text": [
            "(10000, 300)\n"
          ]
        }
      ]
    },
    {
      "cell_type": "code",
      "source": [
        "np.save('/content/drive/MyDrive/nlp/sentiment_analysis/pretrained_embeddings',pretrained_embeddings_array)"
      ],
      "metadata": {
        "id": "PFfdprlOkPg-"
      },
      "execution_count": 124,
      "outputs": []
    },
    {
      "cell_type": "code",
      "source": [
        "pretrained_embeddings_array=np.load('/content/drive/MyDrive/nlp/sentiment_analysis/pretrained_embeddings.npy')"
      ],
      "metadata": {
        "id": "kKlyYoGZlCYg"
      },
      "execution_count": 125,
      "outputs": []
    },
    {
      "cell_type": "code",
      "source": [
        "pretrained_embeddings_array.shape"
      ],
      "metadata": {
        "colab": {
          "base_uri": "https://localhost:8080/"
        },
        "id": "7IV0bb2ilELf",
        "outputId": "17b6c90c-c18c-4fe7-8df0-f9178c0c4ee9"
      },
      "execution_count": 126,
      "outputs": [
        {
          "output_type": "execute_result",
          "data": {
            "text/plain": [
              "(10000, 300)"
            ]
          },
          "metadata": {},
          "execution_count": 126
        }
      ]
    },
    {
      "cell_type": "code",
      "source": [
        "EMBEDDING_DIM=300\n",
        "model=tf.keras.models.Sequential([\n",
        "    Input(shape=(SEQUENCE_LENGTH,)),\n",
        "    Embedding(\n",
        "        VOCAB_SIZE,\n",
        "        EMBEDDING_DIM,\n",
        "        embeddings_initializer=tf.keras.initializers.Constant(pretrained_embeddings_array),\n",
        "        trainable=True,\n",
        "    ),\n",
        "\n",
        "    Conv1D(32, 3, activation='relu',),\n",
        "    Flatten(),\n",
        "    Dense(32, activation='relu'),\n",
        "    Dropout(0.5),\n",
        "    Dense(1,activation='sigmoid'),\n",
        "])\n",
        "model.summary()"
      ],
      "metadata": {
        "colab": {
          "base_uri": "https://localhost:8080/",
          "height": 336
        },
        "id": "QWxJZTBtlHoQ",
        "outputId": "48f4e7cc-52ce-4bb7-e419-b444df05b6a5"
      },
      "execution_count": 127,
      "outputs": [
        {
          "output_type": "display_data",
          "data": {
            "text/plain": [
              "\u001b[1mModel: \"sequential_8\"\u001b[0m\n"
            ],
            "text/html": [
              "<pre style=\"white-space:pre;overflow-x:auto;line-height:normal;font-family:Menlo,'DejaVu Sans Mono',consolas,'Courier New',monospace\"><span style=\"font-weight: bold\">Model: \"sequential_8\"</span>\n",
              "</pre>\n"
            ]
          },
          "metadata": {}
        },
        {
          "output_type": "display_data",
          "data": {
            "text/plain": [
              "┏━━━━━━━━━━━━━━━━━━━━━━━━━━━━━━━━━━━━━━┳━━━━━━━━━━━━━━━━━━━━━━━━━━━━━┳━━━━━━━━━━━━━━━━━┓\n",
              "┃\u001b[1m \u001b[0m\u001b[1mLayer (type)                        \u001b[0m\u001b[1m \u001b[0m┃\u001b[1m \u001b[0m\u001b[1mOutput Shape               \u001b[0m\u001b[1m \u001b[0m┃\u001b[1m \u001b[0m\u001b[1m        Param #\u001b[0m\u001b[1m \u001b[0m┃\n",
              "┡━━━━━━━━━━━━━━━━━━━━━━━━━━━━━━━━━━━━━━╇━━━━━━━━━━━━━━━━━━━━━━━━━━━━━╇━━━━━━━━━━━━━━━━━┩\n",
              "│ embedding_8 (\u001b[38;5;33mEmbedding\u001b[0m)              │ (\u001b[38;5;45mNone\u001b[0m, \u001b[38;5;34m250\u001b[0m, \u001b[38;5;34m300\u001b[0m)            │       \u001b[38;5;34m3,000,000\u001b[0m │\n",
              "├──────────────────────────────────────┼─────────────────────────────┼─────────────────┤\n",
              "│ conv1d_5 (\u001b[38;5;33mConv1D\u001b[0m)                    │ (\u001b[38;5;45mNone\u001b[0m, \u001b[38;5;34m248\u001b[0m, \u001b[38;5;34m32\u001b[0m)             │          \u001b[38;5;34m28,832\u001b[0m │\n",
              "├──────────────────────────────────────┼─────────────────────────────┼─────────────────┤\n",
              "│ flatten_5 (\u001b[38;5;33mFlatten\u001b[0m)                  │ (\u001b[38;5;45mNone\u001b[0m, \u001b[38;5;34m7936\u001b[0m)                │               \u001b[38;5;34m0\u001b[0m │\n",
              "├──────────────────────────────────────┼─────────────────────────────┼─────────────────┤\n",
              "│ dense_15 (\u001b[38;5;33mDense\u001b[0m)                     │ (\u001b[38;5;45mNone\u001b[0m, \u001b[38;5;34m32\u001b[0m)                  │         \u001b[38;5;34m253,984\u001b[0m │\n",
              "├──────────────────────────────────────┼─────────────────────────────┼─────────────────┤\n",
              "│ dropout_7 (\u001b[38;5;33mDropout\u001b[0m)                  │ (\u001b[38;5;45mNone\u001b[0m, \u001b[38;5;34m32\u001b[0m)                  │               \u001b[38;5;34m0\u001b[0m │\n",
              "├──────────────────────────────────────┼─────────────────────────────┼─────────────────┤\n",
              "│ dense_16 (\u001b[38;5;33mDense\u001b[0m)                     │ (\u001b[38;5;45mNone\u001b[0m, \u001b[38;5;34m1\u001b[0m)                   │              \u001b[38;5;34m33\u001b[0m │\n",
              "└──────────────────────────────────────┴─────────────────────────────┴─────────────────┘\n"
            ],
            "text/html": [
              "<pre style=\"white-space:pre;overflow-x:auto;line-height:normal;font-family:Menlo,'DejaVu Sans Mono',consolas,'Courier New',monospace\">┏━━━━━━━━━━━━━━━━━━━━━━━━━━━━━━━━━━━━━━┳━━━━━━━━━━━━━━━━━━━━━━━━━━━━━┳━━━━━━━━━━━━━━━━━┓\n",
              "┃<span style=\"font-weight: bold\"> Layer (type)                         </span>┃<span style=\"font-weight: bold\"> Output Shape                </span>┃<span style=\"font-weight: bold\">         Param # </span>┃\n",
              "┡━━━━━━━━━━━━━━━━━━━━━━━━━━━━━━━━━━━━━━╇━━━━━━━━━━━━━━━━━━━━━━━━━━━━━╇━━━━━━━━━━━━━━━━━┩\n",
              "│ embedding_8 (<span style=\"color: #0087ff; text-decoration-color: #0087ff\">Embedding</span>)              │ (<span style=\"color: #00d7ff; text-decoration-color: #00d7ff\">None</span>, <span style=\"color: #00af00; text-decoration-color: #00af00\">250</span>, <span style=\"color: #00af00; text-decoration-color: #00af00\">300</span>)            │       <span style=\"color: #00af00; text-decoration-color: #00af00\">3,000,000</span> │\n",
              "├──────────────────────────────────────┼─────────────────────────────┼─────────────────┤\n",
              "│ conv1d_5 (<span style=\"color: #0087ff; text-decoration-color: #0087ff\">Conv1D</span>)                    │ (<span style=\"color: #00d7ff; text-decoration-color: #00d7ff\">None</span>, <span style=\"color: #00af00; text-decoration-color: #00af00\">248</span>, <span style=\"color: #00af00; text-decoration-color: #00af00\">32</span>)             │          <span style=\"color: #00af00; text-decoration-color: #00af00\">28,832</span> │\n",
              "├──────────────────────────────────────┼─────────────────────────────┼─────────────────┤\n",
              "│ flatten_5 (<span style=\"color: #0087ff; text-decoration-color: #0087ff\">Flatten</span>)                  │ (<span style=\"color: #00d7ff; text-decoration-color: #00d7ff\">None</span>, <span style=\"color: #00af00; text-decoration-color: #00af00\">7936</span>)                │               <span style=\"color: #00af00; text-decoration-color: #00af00\">0</span> │\n",
              "├──────────────────────────────────────┼─────────────────────────────┼─────────────────┤\n",
              "│ dense_15 (<span style=\"color: #0087ff; text-decoration-color: #0087ff\">Dense</span>)                     │ (<span style=\"color: #00d7ff; text-decoration-color: #00d7ff\">None</span>, <span style=\"color: #00af00; text-decoration-color: #00af00\">32</span>)                  │         <span style=\"color: #00af00; text-decoration-color: #00af00\">253,984</span> │\n",
              "├──────────────────────────────────────┼─────────────────────────────┼─────────────────┤\n",
              "│ dropout_7 (<span style=\"color: #0087ff; text-decoration-color: #0087ff\">Dropout</span>)                  │ (<span style=\"color: #00d7ff; text-decoration-color: #00d7ff\">None</span>, <span style=\"color: #00af00; text-decoration-color: #00af00\">32</span>)                  │               <span style=\"color: #00af00; text-decoration-color: #00af00\">0</span> │\n",
              "├──────────────────────────────────────┼─────────────────────────────┼─────────────────┤\n",
              "│ dense_16 (<span style=\"color: #0087ff; text-decoration-color: #0087ff\">Dense</span>)                     │ (<span style=\"color: #00d7ff; text-decoration-color: #00d7ff\">None</span>, <span style=\"color: #00af00; text-decoration-color: #00af00\">1</span>)                   │              <span style=\"color: #00af00; text-decoration-color: #00af00\">33</span> │\n",
              "└──────────────────────────────────────┴─────────────────────────────┴─────────────────┘\n",
              "</pre>\n"
            ]
          },
          "metadata": {}
        },
        {
          "output_type": "display_data",
          "data": {
            "text/plain": [
              "\u001b[1m Total params: \u001b[0m\u001b[38;5;34m3,282,849\u001b[0m (12.52 MB)\n"
            ],
            "text/html": [
              "<pre style=\"white-space:pre;overflow-x:auto;line-height:normal;font-family:Menlo,'DejaVu Sans Mono',consolas,'Courier New',monospace\"><span style=\"font-weight: bold\"> Total params: </span><span style=\"color: #00af00; text-decoration-color: #00af00\">3,282,849</span> (12.52 MB)\n",
              "</pre>\n"
            ]
          },
          "metadata": {}
        },
        {
          "output_type": "display_data",
          "data": {
            "text/plain": [
              "\u001b[1m Trainable params: \u001b[0m\u001b[38;5;34m3,282,849\u001b[0m (12.52 MB)\n"
            ],
            "text/html": [
              "<pre style=\"white-space:pre;overflow-x:auto;line-height:normal;font-family:Menlo,'DejaVu Sans Mono',consolas,'Courier New',monospace\"><span style=\"font-weight: bold\"> Trainable params: </span><span style=\"color: #00af00; text-decoration-color: #00af00\">3,282,849</span> (12.52 MB)\n",
              "</pre>\n"
            ]
          },
          "metadata": {}
        },
        {
          "output_type": "display_data",
          "data": {
            "text/plain": [
              "\u001b[1m Non-trainable params: \u001b[0m\u001b[38;5;34m0\u001b[0m (0.00 B)\n"
            ],
            "text/html": [
              "<pre style=\"white-space:pre;overflow-x:auto;line-height:normal;font-family:Menlo,'DejaVu Sans Mono',consolas,'Courier New',monospace\"><span style=\"font-weight: bold\"> Non-trainable params: </span><span style=\"color: #00af00; text-decoration-color: #00af00\">0</span> (0.00 B)\n",
              "</pre>\n"
            ]
          },
          "metadata": {}
        }
      ]
    },
    {
      "cell_type": "code",
      "source": [
        "checkpoint_filepath = '/content/drive/MyDrive/nlp/sentiment_analysis/conv_1d_word2vec.h5'\n",
        "model_checkpoint_callback = tf.keras.callbacks.ModelCheckpoint(\n",
        "    filepath=checkpoint_filepath,\n",
        "    monitor='val_accuracy',\n",
        "    mode='max',\n",
        "    save_best_only=True)"
      ],
      "metadata": {
        "id": "ka_G7-lTlJT9"
      },
      "execution_count": 128,
      "outputs": []
    },
    {
      "cell_type": "code",
      "source": [
        "model.compile(loss=tf.keras.losses.BinaryCrossentropy(),\n",
        "              optimizer=tf.keras.optimizers.Adam(1e-4),\n",
        "              metrics=['accuracy'])"
      ],
      "metadata": {
        "id": "tctbGslylKam"
      },
      "execution_count": 129,
      "outputs": []
    },
    {
      "cell_type": "code",
      "source": [
        "history=model.fit(\n",
        "    train_dataset,\n",
        "    validation_data=val_dataset,\n",
        "    epochs=10,\n",
        "    callbacks=[model_checkpoint_callback])"
      ],
      "metadata": {
        "colab": {
          "base_uri": "https://localhost:8080/",
          "height": 547
        },
        "id": "7l8JM45llMNG",
        "outputId": "badbcfb6-ed03-489f-8781-5e3d19b5c7b9"
      },
      "execution_count": 130,
      "outputs": [
        {
          "output_type": "stream",
          "name": "stdout",
          "text": [
            "Epoch 1/10\n"
          ]
        },
        {
          "output_type": "error",
          "ename": "ValueError",
          "evalue": "Exception encountered when calling Sequential.call().\n\n\u001b[1mInvalid input shape for input Tensor(\"sequential_8_1/Cast:0\", shape=(None, None, None, None), dtype=float32). Expected shape (None, 250), but input has incompatible shape (None, None, None, None)\u001b[0m\n\nArguments received by Sequential.call():\n  • inputs=tf.Tensor(shape=(None, None, None, None), dtype=int64)\n  • training=True\n  • mask=None",
          "traceback": [
            "\u001b[0;31m---------------------------------------------------------------------------\u001b[0m",
            "\u001b[0;31mValueError\u001b[0m                                Traceback (most recent call last)",
            "\u001b[0;32m<ipython-input-130-0cb7c4d46210>\u001b[0m in \u001b[0;36m<cell line: 0>\u001b[0;34m()\u001b[0m\n\u001b[0;32m----> 1\u001b[0;31m history=model.fit(\n\u001b[0m\u001b[1;32m      2\u001b[0m     \u001b[0mtrain_dataset\u001b[0m\u001b[0;34m,\u001b[0m\u001b[0;34m\u001b[0m\u001b[0;34m\u001b[0m\u001b[0m\n\u001b[1;32m      3\u001b[0m     \u001b[0mvalidation_data\u001b[0m\u001b[0;34m=\u001b[0m\u001b[0mval_dataset\u001b[0m\u001b[0;34m,\u001b[0m\u001b[0;34m\u001b[0m\u001b[0;34m\u001b[0m\u001b[0m\n\u001b[1;32m      4\u001b[0m     \u001b[0mepochs\u001b[0m\u001b[0;34m=\u001b[0m\u001b[0;36m10\u001b[0m\u001b[0;34m,\u001b[0m\u001b[0;34m\u001b[0m\u001b[0;34m\u001b[0m\u001b[0m\n\u001b[1;32m      5\u001b[0m     callbacks=[model_checkpoint_callback])\n",
            "\u001b[0;32m/usr/local/lib/python3.11/dist-packages/keras/src/utils/traceback_utils.py\u001b[0m in \u001b[0;36merror_handler\u001b[0;34m(*args, **kwargs)\u001b[0m\n\u001b[1;32m    120\u001b[0m             \u001b[0;31m# To get the full stack trace, call:\u001b[0m\u001b[0;34m\u001b[0m\u001b[0;34m\u001b[0m\u001b[0m\n\u001b[1;32m    121\u001b[0m             \u001b[0;31m# `keras.config.disable_traceback_filtering()`\u001b[0m\u001b[0;34m\u001b[0m\u001b[0;34m\u001b[0m\u001b[0m\n\u001b[0;32m--> 122\u001b[0;31m             \u001b[0;32mraise\u001b[0m \u001b[0me\u001b[0m\u001b[0;34m.\u001b[0m\u001b[0mwith_traceback\u001b[0m\u001b[0;34m(\u001b[0m\u001b[0mfiltered_tb\u001b[0m\u001b[0;34m)\u001b[0m \u001b[0;32mfrom\u001b[0m \u001b[0;32mNone\u001b[0m\u001b[0;34m\u001b[0m\u001b[0;34m\u001b[0m\u001b[0m\n\u001b[0m\u001b[1;32m    123\u001b[0m         \u001b[0;32mfinally\u001b[0m\u001b[0;34m:\u001b[0m\u001b[0;34m\u001b[0m\u001b[0;34m\u001b[0m\u001b[0m\n\u001b[1;32m    124\u001b[0m             \u001b[0;32mdel\u001b[0m \u001b[0mfiltered_tb\u001b[0m\u001b[0;34m\u001b[0m\u001b[0;34m\u001b[0m\u001b[0m\n",
            "\u001b[0;32m/usr/local/lib/python3.11/dist-packages/keras/src/models/functional.py\u001b[0m in \u001b[0;36m_adjust_input_rank\u001b[0;34m(self, flat_inputs)\u001b[0m\n\u001b[1;32m    270\u001b[0m                     \u001b[0madjusted\u001b[0m\u001b[0;34m.\u001b[0m\u001b[0mappend\u001b[0m\u001b[0;34m(\u001b[0m\u001b[0mops\u001b[0m\u001b[0;34m.\u001b[0m\u001b[0mexpand_dims\u001b[0m\u001b[0;34m(\u001b[0m\u001b[0mx\u001b[0m\u001b[0;34m,\u001b[0m \u001b[0maxis\u001b[0m\u001b[0;34m=\u001b[0m\u001b[0;34m-\u001b[0m\u001b[0;36m1\u001b[0m\u001b[0;34m)\u001b[0m\u001b[0;34m)\u001b[0m\u001b[0;34m\u001b[0m\u001b[0;34m\u001b[0m\u001b[0m\n\u001b[1;32m    271\u001b[0m                     \u001b[0;32mcontinue\u001b[0m\u001b[0;34m\u001b[0m\u001b[0;34m\u001b[0m\u001b[0m\n\u001b[0;32m--> 272\u001b[0;31m             raise ValueError(\n\u001b[0m\u001b[1;32m    273\u001b[0m                 \u001b[0;34mf\"Invalid input shape for input {x}. Expected shape \"\u001b[0m\u001b[0;34m\u001b[0m\u001b[0;34m\u001b[0m\u001b[0m\n\u001b[1;32m    274\u001b[0m                 \u001b[0;34mf\"{ref_shape}, but input has incompatible shape {x.shape}\"\u001b[0m\u001b[0;34m\u001b[0m\u001b[0;34m\u001b[0m\u001b[0m\n",
            "\u001b[0;31mValueError\u001b[0m: Exception encountered when calling Sequential.call().\n\n\u001b[1mInvalid input shape for input Tensor(\"sequential_8_1/Cast:0\", shape=(None, None, None, None), dtype=float32). Expected shape (None, 250), but input has incompatible shape (None, None, None, None)\u001b[0m\n\nArguments received by Sequential.call():\n  • inputs=tf.Tensor(shape=(None, None, None, None), dtype=int64)\n  • training=True\n  • mask=None"
          ]
        }
      ]
    },
    {
      "cell_type": "code",
      "source": [
        "plt.plot(history.history['loss'])\n",
        "plt.plot(history.history['val_loss'])\n",
        "plt.title('model_loss')\n",
        "plt.ylabel('loss')\n",
        "plt.xlabel('epoch')\n",
        "plt.legend(['train', 'val'], loc='upper left')\n",
        "plt.show()"
      ],
      "metadata": {
        "id": "Tb37PWa7lOmT"
      },
      "execution_count": null,
      "outputs": []
    },
    {
      "cell_type": "code",
      "source": [
        "plt.plot(history.history['accuracy'])\n",
        "plt.plot(history.history['val_accuracy'])\n",
        "\n",
        "plt.title('model_accuracy')\n",
        "plt.ylabel('accuracy')\n",
        "plt.xlabel('epoch')\n",
        "plt.legend(['train', 'val'], loc='upper left')\n",
        "plt.show()"
      ],
      "metadata": {
        "id": "rt2IVLeHlQn5"
      },
      "execution_count": null,
      "outputs": []
    },
    {
      "cell_type": "markdown",
      "source": [
        "### Evaluation"
      ],
      "metadata": {
        "id": "8Fm4q4gplS0L"
      }
    },
    {
      "cell_type": "code",
      "source": [
        "model.load_weights(checkpoint_filepath)"
      ],
      "metadata": {
        "id": "5B2T2-HslUo-"
      },
      "execution_count": null,
      "outputs": []
    },
    {
      "cell_type": "code",
      "source": [
        "test_dataset=test_ds.map(vectorizer)\n",
        "test_dataset=test_dataset.batch(BATCH_SIZE)\n",
        "model.evaluate(test_dataset)"
      ],
      "metadata": {
        "id": "9WWTMWqzlW2s"
      },
      "execution_count": null,
      "outputs": []
    },
    {
      "cell_type": "code",
      "source": [],
      "metadata": {
        "id": "5n1sGipalWxh"
      },
      "execution_count": null,
      "outputs": []
    },
    {
      "cell_type": "code",
      "source": [],
      "metadata": {
        "id": "hSQkrUsXlWtL"
      },
      "execution_count": null,
      "outputs": []
    }
  ]
}